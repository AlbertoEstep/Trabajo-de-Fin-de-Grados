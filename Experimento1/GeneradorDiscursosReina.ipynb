{
  "nbformat": 4,
  "nbformat_minor": 0,
  "metadata": {
    "colab": {
      "name": "Generador.ipynb",
      "provenance": []
    },
    "kernelspec": {
      "name": "python3",
      "display_name": "Python 3"
    }
  },
  "cells": [
    {
      "cell_type": "markdown",
      "metadata": {
        "id": "PKb3uLH0IKrP"
      },
      "source": [
        "# ***Generador de discursos de la reina de Inglaterra***"
      ]
    },
    {
      "cell_type": "code",
      "metadata": {
        "id": "_eEwEnVlxSwE",
        "outputId": "68660840-0bae-4b0c-9a23-be4cfe86fcd2",
        "colab": {
          "base_uri": "https://localhost:8080/"
        }
      },
      "source": [
        "!pip3 install transformers"
      ],
      "execution_count": 1,
      "outputs": [
        {
          "output_type": "stream",
          "text": [
            "Collecting transformers\n",
            "\u001b[?25l  Downloading https://files.pythonhosted.org/packages/2c/4e/4f1ede0fd7a36278844a277f8d53c21f88f37f3754abf76a5d6224f76d4a/transformers-3.4.0-py3-none-any.whl (1.3MB)\n",
            "\r\u001b[K     |▎                               | 10kB 12.7MB/s eta 0:00:01\r\u001b[K     |▌                               | 20kB 3.7MB/s eta 0:00:01\r\u001b[K     |▉                               | 30kB 4.3MB/s eta 0:00:01\r\u001b[K     |█                               | 40kB 4.9MB/s eta 0:00:01\r\u001b[K     |█▎                              | 51kB 4.0MB/s eta 0:00:01\r\u001b[K     |█▋                              | 61kB 4.5MB/s eta 0:00:01\r\u001b[K     |█▉                              | 71kB 4.7MB/s eta 0:00:01\r\u001b[K     |██                              | 81kB 5.0MB/s eta 0:00:01\r\u001b[K     |██▍                             | 92kB 5.4MB/s eta 0:00:01\r\u001b[K     |██▋                             | 102kB 5.3MB/s eta 0:00:01\r\u001b[K     |██▉                             | 112kB 5.3MB/s eta 0:00:01\r\u001b[K     |███▏                            | 122kB 5.3MB/s eta 0:00:01\r\u001b[K     |███▍                            | 133kB 5.3MB/s eta 0:00:01\r\u001b[K     |███▋                            | 143kB 5.3MB/s eta 0:00:01\r\u001b[K     |████                            | 153kB 5.3MB/s eta 0:00:01\r\u001b[K     |████▏                           | 163kB 5.3MB/s eta 0:00:01\r\u001b[K     |████▍                           | 174kB 5.3MB/s eta 0:00:01\r\u001b[K     |████▊                           | 184kB 5.3MB/s eta 0:00:01\r\u001b[K     |█████                           | 194kB 5.3MB/s eta 0:00:01\r\u001b[K     |█████▏                          | 204kB 5.3MB/s eta 0:00:01\r\u001b[K     |█████▌                          | 215kB 5.3MB/s eta 0:00:01\r\u001b[K     |█████▊                          | 225kB 5.3MB/s eta 0:00:01\r\u001b[K     |██████                          | 235kB 5.3MB/s eta 0:00:01\r\u001b[K     |██████▎                         | 245kB 5.3MB/s eta 0:00:01\r\u001b[K     |██████▌                         | 256kB 5.3MB/s eta 0:00:01\r\u001b[K     |██████▊                         | 266kB 5.3MB/s eta 0:00:01\r\u001b[K     |███████                         | 276kB 5.3MB/s eta 0:00:01\r\u001b[K     |███████▎                        | 286kB 5.3MB/s eta 0:00:01\r\u001b[K     |███████▋                        | 296kB 5.3MB/s eta 0:00:01\r\u001b[K     |███████▉                        | 307kB 5.3MB/s eta 0:00:01\r\u001b[K     |████████                        | 317kB 5.3MB/s eta 0:00:01\r\u001b[K     |████████▍                       | 327kB 5.3MB/s eta 0:00:01\r\u001b[K     |████████▋                       | 337kB 5.3MB/s eta 0:00:01\r\u001b[K     |████████▉                       | 348kB 5.3MB/s eta 0:00:01\r\u001b[K     |█████████▏                      | 358kB 5.3MB/s eta 0:00:01\r\u001b[K     |█████████▍                      | 368kB 5.3MB/s eta 0:00:01\r\u001b[K     |█████████▋                      | 378kB 5.3MB/s eta 0:00:01\r\u001b[K     |██████████                      | 389kB 5.3MB/s eta 0:00:01\r\u001b[K     |██████████▏                     | 399kB 5.3MB/s eta 0:00:01\r\u001b[K     |██████████▍                     | 409kB 5.3MB/s eta 0:00:01\r\u001b[K     |██████████▊                     | 419kB 5.3MB/s eta 0:00:01\r\u001b[K     |███████████                     | 430kB 5.3MB/s eta 0:00:01\r\u001b[K     |███████████▏                    | 440kB 5.3MB/s eta 0:00:01\r\u001b[K     |███████████▌                    | 450kB 5.3MB/s eta 0:00:01\r\u001b[K     |███████████▊                    | 460kB 5.3MB/s eta 0:00:01\r\u001b[K     |████████████                    | 471kB 5.3MB/s eta 0:00:01\r\u001b[K     |████████████▎                   | 481kB 5.3MB/s eta 0:00:01\r\u001b[K     |████████████▌                   | 491kB 5.3MB/s eta 0:00:01\r\u001b[K     |████████████▊                   | 501kB 5.3MB/s eta 0:00:01\r\u001b[K     |█████████████                   | 512kB 5.3MB/s eta 0:00:01\r\u001b[K     |█████████████▎                  | 522kB 5.3MB/s eta 0:00:01\r\u001b[K     |█████████████▌                  | 532kB 5.3MB/s eta 0:00:01\r\u001b[K     |█████████████▉                  | 542kB 5.3MB/s eta 0:00:01\r\u001b[K     |██████████████                  | 552kB 5.3MB/s eta 0:00:01\r\u001b[K     |██████████████▍                 | 563kB 5.3MB/s eta 0:00:01\r\u001b[K     |██████████████▋                 | 573kB 5.3MB/s eta 0:00:01\r\u001b[K     |██████████████▉                 | 583kB 5.3MB/s eta 0:00:01\r\u001b[K     |███████████████▏                | 593kB 5.3MB/s eta 0:00:01\r\u001b[K     |███████████████▍                | 604kB 5.3MB/s eta 0:00:01\r\u001b[K     |███████████████▋                | 614kB 5.3MB/s eta 0:00:01\r\u001b[K     |████████████████                | 624kB 5.3MB/s eta 0:00:01\r\u001b[K     |████████████████▏               | 634kB 5.3MB/s eta 0:00:01\r\u001b[K     |████████████████▍               | 645kB 5.3MB/s eta 0:00:01\r\u001b[K     |████████████████▊               | 655kB 5.3MB/s eta 0:00:01\r\u001b[K     |█████████████████               | 665kB 5.3MB/s eta 0:00:01\r\u001b[K     |█████████████████▏              | 675kB 5.3MB/s eta 0:00:01\r\u001b[K     |█████████████████▌              | 686kB 5.3MB/s eta 0:00:01\r\u001b[K     |█████████████████▊              | 696kB 5.3MB/s eta 0:00:01\r\u001b[K     |██████████████████              | 706kB 5.3MB/s eta 0:00:01\r\u001b[K     |██████████████████▎             | 716kB 5.3MB/s eta 0:00:01\r\u001b[K     |██████████████████▌             | 727kB 5.3MB/s eta 0:00:01\r\u001b[K     |██████████████████▊             | 737kB 5.3MB/s eta 0:00:01\r\u001b[K     |███████████████████             | 747kB 5.3MB/s eta 0:00:01\r\u001b[K     |███████████████████▎            | 757kB 5.3MB/s eta 0:00:01\r\u001b[K     |███████████████████▌            | 768kB 5.3MB/s eta 0:00:01\r\u001b[K     |███████████████████▉            | 778kB 5.3MB/s eta 0:00:01\r\u001b[K     |████████████████████            | 788kB 5.3MB/s eta 0:00:01\r\u001b[K     |████████████████████▎           | 798kB 5.3MB/s eta 0:00:01\r\u001b[K     |████████████████████▋           | 808kB 5.3MB/s eta 0:00:01\r\u001b[K     |████████████████████▉           | 819kB 5.3MB/s eta 0:00:01\r\u001b[K     |█████████████████████           | 829kB 5.3MB/s eta 0:00:01\r\u001b[K     |█████████████████████▍          | 839kB 5.3MB/s eta 0:00:01\r\u001b[K     |█████████████████████▋          | 849kB 5.3MB/s eta 0:00:01\r\u001b[K     |██████████████████████          | 860kB 5.3MB/s eta 0:00:01\r\u001b[K     |██████████████████████▏         | 870kB 5.3MB/s eta 0:00:01\r\u001b[K     |██████████████████████▍         | 880kB 5.3MB/s eta 0:00:01\r\u001b[K     |██████████████████████▊         | 890kB 5.3MB/s eta 0:00:01\r\u001b[K     |███████████████████████         | 901kB 5.3MB/s eta 0:00:01\r\u001b[K     |███████████████████████▏        | 911kB 5.3MB/s eta 0:00:01\r\u001b[K     |███████████████████████▌        | 921kB 5.3MB/s eta 0:00:01\r\u001b[K     |███████████████████████▊        | 931kB 5.3MB/s eta 0:00:01\r\u001b[K     |████████████████████████        | 942kB 5.3MB/s eta 0:00:01\r\u001b[K     |████████████████████████▎       | 952kB 5.3MB/s eta 0:00:01\r\u001b[K     |████████████████████████▌       | 962kB 5.3MB/s eta 0:00:01\r\u001b[K     |████████████████████████▊       | 972kB 5.3MB/s eta 0:00:01\r\u001b[K     |█████████████████████████       | 983kB 5.3MB/s eta 0:00:01\r\u001b[K     |█████████████████████████▎      | 993kB 5.3MB/s eta 0:00:01\r\u001b[K     |█████████████████████████▌      | 1.0MB 5.3MB/s eta 0:00:01\r\u001b[K     |█████████████████████████▉      | 1.0MB 5.3MB/s eta 0:00:01\r\u001b[K     |██████████████████████████      | 1.0MB 5.3MB/s eta 0:00:01\r\u001b[K     |██████████████████████████▎     | 1.0MB 5.3MB/s eta 0:00:01\r\u001b[K     |██████████████████████████▋     | 1.0MB 5.3MB/s eta 0:00:01\r\u001b[K     |██████████████████████████▉     | 1.1MB 5.3MB/s eta 0:00:01\r\u001b[K     |███████████████████████████     | 1.1MB 5.3MB/s eta 0:00:01\r\u001b[K     |███████████████████████████▍    | 1.1MB 5.3MB/s eta 0:00:01\r\u001b[K     |███████████████████████████▋    | 1.1MB 5.3MB/s eta 0:00:01\r\u001b[K     |███████████████████████████▉    | 1.1MB 5.3MB/s eta 0:00:01\r\u001b[K     |████████████████████████████▏   | 1.1MB 5.3MB/s eta 0:00:01\r\u001b[K     |████████████████████████████▍   | 1.1MB 5.3MB/s eta 0:00:01\r\u001b[K     |████████████████████████████▊   | 1.1MB 5.3MB/s eta 0:00:01\r\u001b[K     |█████████████████████████████   | 1.1MB 5.3MB/s eta 0:00:01\r\u001b[K     |█████████████████████████████▏  | 1.1MB 5.3MB/s eta 0:00:01\r\u001b[K     |█████████████████████████████▌  | 1.2MB 5.3MB/s eta 0:00:01\r\u001b[K     |█████████████████████████████▊  | 1.2MB 5.3MB/s eta 0:00:01\r\u001b[K     |██████████████████████████████  | 1.2MB 5.3MB/s eta 0:00:01\r\u001b[K     |██████████████████████████████▎ | 1.2MB 5.3MB/s eta 0:00:01\r\u001b[K     |██████████████████████████████▌ | 1.2MB 5.3MB/s eta 0:00:01\r\u001b[K     |██████████████████████████████▊ | 1.2MB 5.3MB/s eta 0:00:01\r\u001b[K     |███████████████████████████████ | 1.2MB 5.3MB/s eta 0:00:01\r\u001b[K     |███████████████████████████████▎| 1.2MB 5.3MB/s eta 0:00:01\r\u001b[K     |███████████████████████████████▌| 1.2MB 5.3MB/s eta 0:00:01\r\u001b[K     |███████████████████████████████▉| 1.2MB 5.3MB/s eta 0:00:01\r\u001b[K     |████████████████████████████████| 1.3MB 5.3MB/s \n",
            "\u001b[?25hRequirement already satisfied: numpy in /usr/local/lib/python3.6/dist-packages (from transformers) (1.18.5)\n",
            "Requirement already satisfied: protobuf in /usr/local/lib/python3.6/dist-packages (from transformers) (3.12.4)\n",
            "Requirement already satisfied: regex!=2019.12.17 in /usr/local/lib/python3.6/dist-packages (from transformers) (2019.12.20)\n",
            "Collecting tokenizers==0.9.2\n",
            "\u001b[?25l  Downloading https://files.pythonhosted.org/packages/7c/a5/78be1a55b2ac8d6a956f0a211d372726e2b1dd2666bb537fea9b03abd62c/tokenizers-0.9.2-cp36-cp36m-manylinux1_x86_64.whl (2.9MB)\n",
            "\u001b[K     |████████████████████████████████| 2.9MB 33.2MB/s \n",
            "\u001b[?25hRequirement already satisfied: tqdm>=4.27 in /usr/local/lib/python3.6/dist-packages (from transformers) (4.41.1)\n",
            "Requirement already satisfied: dataclasses; python_version < \"3.7\" in /usr/local/lib/python3.6/dist-packages (from transformers) (0.7)\n",
            "Requirement already satisfied: packaging in /usr/local/lib/python3.6/dist-packages (from transformers) (20.4)\n",
            "Requirement already satisfied: requests in /usr/local/lib/python3.6/dist-packages (from transformers) (2.23.0)\n",
            "Collecting sentencepiece!=0.1.92\n",
            "\u001b[?25l  Downloading https://files.pythonhosted.org/packages/e5/2d/6d4ca4bef9a67070fa1cac508606328329152b1df10bdf31fb6e4e727894/sentencepiece-0.1.94-cp36-cp36m-manylinux2014_x86_64.whl (1.1MB)\n",
            "\u001b[K     |████████████████████████████████| 1.1MB 50.5MB/s \n",
            "\u001b[?25hRequirement already satisfied: filelock in /usr/local/lib/python3.6/dist-packages (from transformers) (3.0.12)\n",
            "Collecting sacremoses\n",
            "\u001b[?25l  Downloading https://files.pythonhosted.org/packages/7d/34/09d19aff26edcc8eb2a01bed8e98f13a1537005d31e95233fd48216eed10/sacremoses-0.0.43.tar.gz (883kB)\n",
            "\u001b[K     |████████████████████████████████| 890kB 45.1MB/s \n",
            "\u001b[?25hRequirement already satisfied: six>=1.9 in /usr/local/lib/python3.6/dist-packages (from protobuf->transformers) (1.15.0)\n",
            "Requirement already satisfied: setuptools in /usr/local/lib/python3.6/dist-packages (from protobuf->transformers) (50.3.2)\n",
            "Requirement already satisfied: pyparsing>=2.0.2 in /usr/local/lib/python3.6/dist-packages (from packaging->transformers) (2.4.7)\n",
            "Requirement already satisfied: chardet<4,>=3.0.2 in /usr/local/lib/python3.6/dist-packages (from requests->transformers) (3.0.4)\n",
            "Requirement already satisfied: certifi>=2017.4.17 in /usr/local/lib/python3.6/dist-packages (from requests->transformers) (2020.6.20)\n",
            "Requirement already satisfied: idna<3,>=2.5 in /usr/local/lib/python3.6/dist-packages (from requests->transformers) (2.10)\n",
            "Requirement already satisfied: urllib3!=1.25.0,!=1.25.1,<1.26,>=1.21.1 in /usr/local/lib/python3.6/dist-packages (from requests->transformers) (1.24.3)\n",
            "Requirement already satisfied: click in /usr/local/lib/python3.6/dist-packages (from sacremoses->transformers) (7.1.2)\n",
            "Requirement already satisfied: joblib in /usr/local/lib/python3.6/dist-packages (from sacremoses->transformers) (0.17.0)\n",
            "Building wheels for collected packages: sacremoses\n",
            "  Building wheel for sacremoses (setup.py) ... \u001b[?25l\u001b[?25hdone\n",
            "  Created wheel for sacremoses: filename=sacremoses-0.0.43-cp36-none-any.whl size=893257 sha256=d8263f1794d700275aada664248f768453e2e2cc5f315212cba964b0a7f172df\n",
            "  Stored in directory: /root/.cache/pip/wheels/29/3c/fd/7ce5c3f0666dab31a50123635e6fb5e19ceb42ce38d4e58f45\n",
            "Successfully built sacremoses\n",
            "Installing collected packages: tokenizers, sentencepiece, sacremoses, transformers\n",
            "Successfully installed sacremoses-0.0.43 sentencepiece-0.1.94 tokenizers-0.9.2 transformers-3.4.0\n"
          ],
          "name": "stdout"
        }
      ]
    },
    {
      "cell_type": "markdown",
      "metadata": {
        "id": "QXvd07jtIRtV"
      },
      "source": [
        "### **PRIMERA INICIALIZACIÓN**"
      ]
    },
    {
      "cell_type": "markdown",
      "metadata": {
        "id": "bqShlHcoIh2a"
      },
      "source": [
        "### *Caso de partida*"
      ]
    },
    {
      "cell_type": "code",
      "metadata": {
        "id": "891E-RwKWmN3",
        "outputId": "e7c2a6f1-a611-4b6f-8e4a-c0980c56d327",
        "colab": {
          "base_uri": "https://localhost:8080/"
        }
      },
      "source": [
        "!python3 ./drive/My\\ Drive/run_generation.py \\\n",
        "  --model_type=gpt2 \\\n",
        "  --model_name_or_path=gpt2 \\\n",
        "  --length=300 \\\n",
        "  --prompt=\"The pandemic generated by the COVID-19 virus has engulfed our nation since February of this year\" \\\n",
        "  --prompt=\"Furthermore, the withdrawal of the United Kingdom from the European Union\" \\\n",
        "  --prompt=\"We are immersed in a period where our nation must get the best of itself and fight\" \\\n",
        "  --stop_token='<|endoftext|' \\\n",
        "  --seed=1 \\\n",
        "  --k=100 \\\n",
        "  --repetition_penalty=1 \\\n",
        "  --temperature=1"
      ],
      "execution_count": null,
      "outputs": [
        {
          "output_type": "stream",
          "text": [
            "2020-10-28 18:35:28.217864: I tensorflow/stream_executor/platform/default/dso_loader.cc:48] Successfully opened dynamic library libcudart.so.10.1\n",
            "['The pandemic generated by the COVID-19 virus has engulfed our nation since February of this year', 'Furthermore, the withdrawal of the United Kingdom from the European Union', 'We are immersed in a period where our nation must get the best of itself and fight']\n",
            "3\n",
            "10/28/2020 18:35:30 - WARNING - __main__ -   device: cpu, n_gpu: 0, 16-bits training: False\n",
            "10/28/2020 18:35:37 - INFO - __main__ -   Namespace(device=device(type='cpu'), fp16=False, k=100, length=300, model_name_or_path='gpt2', model_type='gpt2', n_gpu=0, no_cuda=False, num_return_sequences=1, p=0.9, padding_text='', prefix='', prompt=['The pandemic generated by the COVID-19 virus has engulfed our nation since February of this year', 'Furthermore, the withdrawal of the United Kingdom from the European Union', 'We are immersed in a period where our nation must get the best of itself and fight'], repetition_penalty=1.0, seed=1, stop_token='<|endoftext|', temperature=1.0, xlm_language='')\n",
            "Setting `pad_token_id` to 50256 (first `eos_token_id`) to generate sequence\n",
            "Setting `pad_token_id` to 50256 (first `eos_token_id`) to generate sequence\n",
            "Setting `pad_token_id` to 50256 (first `eos_token_id`) to generate sequence\n",
            "=== GENERATED SPEECH ===\n",
            "The pandemic generated by the COVID-19 virus has engulfed our nation since February of this year. The state of California is on edge because of this pandemic and the epidemic spread to other areas of the country and the region, with the greatest concentration in New England. The city of Chicago was hit hardest by the first pandemic. Chicago is the most populous city in the world and has one of the most vibrant food webs in the United States. Today, the global economic crisis has pushed the price of natural gas from a low of $4.25 a barrel to $3.25. Chicago's entire population is currently under the dire care of the Department of Housing and Urban Development, making it a poor choice for any kind of food security that residents will want to make available to their neighbors. An earthquake has hit Mexico. Millions of people are living below the poverty line in a city that is a major economic powerhouse, while many more are living in poverty or homeless. The New York Times reported that while the cost of the nation's agriculture and other commodities, including oil, is estimated at $3.6 trillion in New York alone, agriculture is the $23.5 billion most commonly used by New Yorkers. And nearly half of all households in NYC receive no farm income of any kind; the problem is that these are the same people who receive no subsidies. At the same time, low incomes make many people unproductive in our country and in other places of the world, making their lives miserable. The city of Chicago and the surrounding area is home to three of the world's larges\n",
            "Furthermore, the withdrawal of the United Kingdom from the European Union because of a ban on gay marriage has resulted in an estimated 30 million refugees and migrants entering the United States each year, increasing the number of potential migration to the U.S. and increasing the danger of terrorism and terrorism. In 2012, a series of incidents involving individuals and organizations with links to radical Islam killed 58 people and injured more than 130.\n",
            "It is important to note that while most of this epidemic has been brought about by COVID-19, the threat of a pandemic is not new to us. In the 1970s, an epidemiologist named Dr. Charles Hart described the danger of the pandemic:\n",
            "The disease can be triggered by any type of infectious agent. The symptoms include fever, heat, rash, and chills. It can be deadly for people who are particularly susceptible to it because it can be triggered in other ways and by people who are either pregnant or at high risk of disease. However, some individuals who have been exposed to the disease are able to survive at a relatively high level without ever having to deal with symptoms of illness. As a consequence, the symptoms of the disease can then spread to other people. [A letter from Dr. Hart to the CIA in 1979, and a letter from Dr. Hart to Congress in 1982]\n",
            "We are immersed in a period where our nation must get the best of itself and fight the very real threat of a pandemic. We need a national solution to keep our people safe. We need to recognize that as we continue to live with the threat of a pandemic, we must not let others take our government's place. And as President I will also work with our military leaders to take steps to encourage more effective response.\n",
            "This is a long and varied conversation among the American people, all of whom agree that the worst of all things to happen to America is to be able to stay out of this world. To some it might seem like it is a big deal, but it is a very long conversation that needs to be had. These are not the same people who have spoken out so passionately, yet still go forward for the sake of American survival. As we learn more and more about these men and women who may have been the cause of the tragic events in our country, we can learn more about how much these same individuals also came to believe that they could do the same. It is true that those who believe we can't do it and those who believe we can't face this challenge in the long run are not exactly the kind of people who would want to lose their lives to save a nation they truly love. But if we truly want to win this battle, our leaders need to get better at the process.\n"
          ],
          "name": "stdout"
        }
      ]
    },
    {
      "cell_type": "code",
      "metadata": {
        "id": "7JTYMsRGibVK",
        "outputId": "d2f6df40-f979-4dfd-f1e0-d25df30219d1",
        "colab": {
          "base_uri": "https://localhost:8080/"
        }
      },
      "source": [
        "!python3 ./drive/My\\ Drive/run_generation.py \\\n",
        "  --model_type=gpt2 \\\n",
        "  --model_name_or_path=gpt2 \\\n",
        "  --length=300 \\\n",
        "  --prompt=\"The pandemic generated by the COVID-19 virus has engulfed our nation since February of this year\" \\\n",
        "  --prompt=\"Furthermore, the withdrawal of the United Kingdom from the European Union\" \\\n",
        "  --prompt=\"We are immersed in a period where our nation must get the best of itself and fight\" \\\n",
        "  --stop_token='<|endoftext|' \\\n",
        "  --seed=2 \\\n",
        "  --k=100 \\\n",
        "  --repetition_penalty=1 \\\n",
        "  --temperature=1"
      ],
      "execution_count": null,
      "outputs": [
        {
          "output_type": "stream",
          "text": [
            "2020-10-28 18:51:41.317905: I tensorflow/stream_executor/platform/default/dso_loader.cc:48] Successfully opened dynamic library libcudart.so.10.1\n",
            "['The pandemic generated by the COVID-19 virus has engulfed our nation since February of this year', 'Furthermore, the withdrawal of the United Kingdom from the European Union', 'We are immersed in a period where our nation must get the best of itself and fight']\n",
            "3\n",
            "10/28/2020 18:51:44 - WARNING - __main__ -   device: cpu, n_gpu: 0, 16-bits training: False\n",
            "10/28/2020 18:51:51 - INFO - __main__ -   Namespace(device=device(type='cpu'), fp16=False, k=100, length=300, model_name_or_path='gpt2', model_type='gpt2', n_gpu=0, no_cuda=False, num_return_sequences=1, p=0.9, padding_text='', prefix='', prompt=['The pandemic generated by the COVID-19 virus has engulfed our nation since February of this year', 'Furthermore, the withdrawal of the United Kingdom from the European Union', 'We are immersed in a period where our nation must get the best of itself and fight'], repetition_penalty=1.0, seed=2, stop_token='<|endoftext|', temperature=1.0, xlm_language='')\n",
            "Setting `pad_token_id` to 50256 (first `eos_token_id`) to generate sequence\n",
            "Setting `pad_token_id` to 50256 (first `eos_token_id`) to generate sequence\n",
            "Setting `pad_token_id` to 50256 (first `eos_token_id`) to generate sequence\n",
            "=== GENERATED SPEECH ===\n",
            "The pandemic generated by the COVID-19 virus has engulfed our nation since February of this year, which triggered an enormous surge in emergency preparedness, health care, disaster relief and medical treatment. It is now happening again in Afghanistan and elsewhere.\n",
            "\n",
            "The United States has put billions in emergency health funding in Afghanistan, and is now able to mobilize the United States Government and the international community to fight this epidemic. The humanitarian response of the United States Government to the epidemic has been great. But it has been far too little, far too late.\n",
            "\n",
            "President Obama has the resources and will to provide these assistance to our nation, our partners, and all the world's people. Yet in an effort to do that, he has allowed an enormous financial, political and psychological advantage to the US Government. This advantage has been brought to the United States of America through the COVID virus.\n",
            "\n",
            "And as we have worked diligently to close the Afghan refugee crisis, the US Government has worked tirelessly to address the issues we have identified as potential future challenges for the Afghan people.\n",
            "\n",
            "We now have an estimated 7 million Afghans living in the United States.\n",
            "\n",
            "So, we are prepared to respond to the pandemic and our country is prepared to face this threat with urgency and force.\n",
            "\n",
            "Furthermore, the withdrawal of the United Kingdom from the European Union and to the Gulf states will allow us to bring more of our partners to participate in the fight against this pandemic.\n",
            "\n",
            "This includes the United States government and many others.\n",
            "\n",
            "This includes both our local partners and our allies in Europe.\n",
            "\n",
            "Finally, we are prepared to respond to a pandemic and other extreme events. The United States, as it was in 1996, will do so to defend our Nation and our allies, and to put an end to terrorism.\n",
            "\n",
            "As we approach the final round of negotiations to extend the agreement between our Government and its partners for the continued support and protection of Afghanistan and other nations, we must remember that we have to act with common ground and stand ready to act with any additional partners.\n",
            "\n",
            "For us, the two most important and important elements are peace, justice and security.\n",
            "\n",
            "We must maintain that alliance and that partnership through all its possible means.\n",
            "\n",
            "And if peace does not come soon, then we must protect our Nation.\n",
            "\n",
            "And this is where we must all get together and take on this epidemic.\n",
            "\n",
            "* * *\n",
            "\n",
            "(CNN) President Barack Obama announced Friday that he had officially closed the U.S.-led coalition against the Ebola outbreak in West Africa.\n",
            "\n",
            "The Obama administration will announce the closure of two main government-supported agencies to the agency that coordinates and coordinates the Ebola response in West Africa.\n",
            "\n",
            "We are immersed in a period where our nation must get the best of itself and fight the Ebola epidemic, in an effort to keep our Nation healthy and keep our communities safe.\n",
            "\n",
            "The decision to close government agencies was announced Friday, amid heavy public pressure from our nation's public servants and international organizations as we speak about our response.\n",
            "\n",
            "There are two main reasons why we closed the agency that coordinates and coordinates the Ebola response:\n",
            "\n",
            "1) We had to help bring in the government experts we needed to prevent and respond to the epidemic in West Africa and in Africa as it developed.\n",
            "\n",
            "In this critical time, we need help. We must do so in collaboration with partners and allies from outside the United States and Europe.\n",
            "\n",
            "When we were in West Africa, the United States had a limited understanding of the outbreak and the government response, and were increasingly frustrated with the state of health in Guinea and Liberia.\n",
            "\n",
            "Now we must improve our health system in response to the Ebola outbreak.\n",
            "\n",
            "In addition, we must move beyond an assumption of responsibility to a national strategy to keep the government focused on its mission and keeping our country's health service in good standing.\n",
            "\n",
            "The national strategy is an opportunity to better protect our Nation from the threat of Ebola by focusing on those who have a significant impact in developing and protecting our health systems, including the WHO.\n",
            "\n"
          ],
          "name": "stdout"
        }
      ]
    },
    {
      "cell_type": "code",
      "metadata": {
        "id": "g0ZMmn8fkS0w",
        "outputId": "0be89b99-0d8c-43fb-95c9-7e5b89a7741d",
        "colab": {
          "base_uri": "https://localhost:8080/"
        }
      },
      "source": [
        "!python3 ./drive/My\\ Drive/run_generation.py \\\n",
        "  --model_type=gpt2 \\\n",
        "  --model_name_or_path=gpt2 \\\n",
        "  --length=300 \\\n",
        "  --prompt=\"The pandemic generated by the COVID-19 virus has engulfed our nation since February of this year\" \\\n",
        "  --prompt=\"Furthermore, the withdrawal of the United Kingdom from the European Union\" \\\n",
        "  --prompt=\"We are immersed in a period where our nation must get the best of itself and fight\" \\\n",
        "  --stop_token='<|endoftext|' \\\n",
        "  --seed=12 \\\n",
        "  --k=100 \\\n",
        "  --repetition_penalty=1 \\\n",
        "  --temperature=1"
      ],
      "execution_count": null,
      "outputs": [
        {
          "output_type": "stream",
          "text": [
            "2020-10-29 17:18:12.622615: I tensorflow/stream_executor/platform/default/dso_loader.cc:48] Successfully opened dynamic library libcudart.so.10.1\n",
            "['The pandemic generated by the COVID-19 virus has engulfed our nation since February of this year', 'Furthermore, the withdrawal of the United Kingdom from the European Union', 'We are immersed in a period where our nation must get the best of itself and fight']\n",
            "3\n",
            "10/29/2020 17:18:14 - WARNING - __main__ -   device: cpu, n_gpu: 0, 16-bits training: False\n",
            "10/29/2020 17:18:21 - INFO - __main__ -   Namespace(device=device(type='cpu'), fp16=False, k=100, length=300, model_name_or_path='gpt2', model_type='gpt2', n_gpu=0, no_cuda=False, num_return_sequences=1, p=0.9, padding_text='', prefix='', prompt=['The pandemic generated by the COVID-19 virus has engulfed our nation since February of this year', 'Furthermore, the withdrawal of the United Kingdom from the European Union', 'We are immersed in a period where our nation must get the best of itself and fight'], repetition_penalty=1.0, seed=12, stop_token='<|endoftext|', temperature=1.0, xlm_language='')\n",
            "Setting `pad_token_id` to 50256 (first `eos_token_id`) to generate sequence\n",
            "Setting `pad_token_id` to 50256 (first `eos_token_id`) to generate sequence\n",
            "Setting `pad_token_id` to 50256 (first `eos_token_id`) to generate sequence\n",
            "=== GENERATED SPEECH ===\n",
            "The pandemic generated by the COVID-19 virus has engulfed our nation since February of this year. We can anticipate that by November 1, our national health department will not be able to provide timely and effective vaccine. Therefore, we now offer one solution to alleviate all of this uncertainty: vaccine access. The latest Vaccine Access Fund proposal states that only licensed immunization clinics can receive the vaccine with the recommended vaccine dose (Rv-1) and that the health care provider who collects and delivers the vaccine (i.e., school district or hospital district) must certify that they have received all of the vaccines recommended. Thus, all of the primary vaccine manufacturers cannot be found on the list and therefore can only meet with school health care providers. To ensure that vaccines are provided in the same quantity and form as approved vaccines, the Vaccine Access Fund has partnered with our local vaccination providers to create and fund an updated National Childhood Vaccine Injury (NCVITI) program. (See Vaccine Coverage)\n",
            "\n",
            "If your child is at risk of contracting a contagious virus, the CDC provides an updated CDC Vaccine Injury Information sheet.\n",
            "\n",
            "If you or someone you know has recently contracted an Ebola virus, you can ask your child for specific information on a CDC Vaccine Injury Information sheet that can help you assess vaccine effectiveness. You can also learn about what vaccine treatments have been recommended for children who have contracted an Ebola virus. For more information about the National Childhood Vaccine Injury (NCVITI) program, visit the CDC's National Childhood Vaccine Injury Program webpage.\n",
            "Furthermore, the withdrawal of the United Kingdom from the European Union's Children's Vaccine Programme is an important step that will make vaccines available in some circumstances even if they are not available to all European countries. The withdrawal of the United Kingdom from the European Union's Children's Vaccine Programme also addresses concerns about vaccine safety for children in developing countries. A number of countries have implemented precautionary measures to prevent such outbreaks.\n",
            "\n",
            "Your child can use the CDC Vaccine Injury Information Sheet to follow the steps outlined below:\n",
            "\n",
            "Ensure you:\n",
            "\n",
            "Are at risk of contracting a contagious virus.\n",
            "\n",
            "Are aware of any recommended vaccines and vaccines have been administered to you or are in a vaccine-preventive setting.\n",
            "\n",
            "Do not give your child too much information, for example, because the information might include what is prescribed.\n",
            "\n",
            "Prepare a copy of the CDC Vaccine Injury Information Sheet.\n",
            "\n",
            "Use the Vaccine Injury Information Sheet on your child's home computer.\n",
            "\n",
            "Remember: If your child's health care provider cannot provide the vaccine that he or she required and can't provide the recommended dose, you should be prepared to provide that information to that health care provider in writing by telephone or e-mail.\n",
            "\n",
            "Fully vaccinate your child (i.e., take it orally and use one dose every 7 days) for two years after the person leaves the state. For more information about vaccinations available to those at risk of contracting Ebola, contact CDC at (800) 825-1033.\n",
            "We are immersed in a period where our nation must get the best of itself and fight for the protection of children's health and the country's future. If we are not at risk of contracting Ebola, we will make sure we take appropriate precautions. CDC is dedicated to providing the best vaccine available, whether we have it or not. We will do everything possible to keep the public safe by conducting medical and medical education, and the work of the CDC is ongoing.\n"
          ],
          "name": "stdout"
        }
      ]
    },
    {
      "cell_type": "markdown",
      "metadata": {
        "id": "acyyf5cIIoLF"
      },
      "source": [
        "### *Fine-tuning*"
      ]
    },
    {
      "cell_type": "code",
      "metadata": {
        "id": "8NofbAy5xDXc",
        "outputId": "67c165d7-e6cc-421c-d3bc-e206680f288d",
        "colab": {
          "base_uri": "https://localhost:8080/"
        }
      },
      "source": [
        "!python3 ./drive/My\\ Drive/run_generation.py \\\n",
        "  --model_type=gpt2 \\\n",
        "  --model_name_or_path='./drive/My Drive/fine_tuning_gpt2_base' \\\n",
        "  --length=300 \\\n",
        "  --prompt=\"The pandemic generated by the COVID-19 virus has engulfed our nation since February of this year\" \\\n",
        "  --prompt=\"Furthermore, the withdrawal of the United Kingdom from the European Union\" \\\n",
        "  --prompt=\"We are immersed in a period where our nation must get the best of itself and fight\" \\\n",
        "  --stop_token='<END>' \\\n",
        "  --seed=10 \\\n",
        "  --k=100 \\\n",
        "  --repetition_penalty=1 \\\n",
        "  --temperature=1"
      ],
      "execution_count": null,
      "outputs": [
        {
          "output_type": "stream",
          "text": [
            "2020-10-29 22:06:34.931304: I tensorflow/stream_executor/platform/default/dso_loader.cc:48] Successfully opened dynamic library libcudart.so.10.1\n",
            "['The pandemic generated by the COVID-19 virus has engulfed our nation since February of this year', 'Furthermore, the withdrawal of the United Kingdom from the European Union', 'We are immersed in a period where our nation must get the best of itself and fight']\n",
            "3\n",
            "10/29/2020 22:06:37 - WARNING - __main__ -   device: cpu, n_gpu: 0, 16-bits training: False\n",
            "10/29/2020 22:06:45 - INFO - __main__ -   Namespace(device=device(type='cpu'), fp16=False, k=100, length=300, model_name_or_path='./drive/My Drive/fine_tuning_gpt2_base', model_type='gpt2', n_gpu=0, no_cuda=False, num_return_sequences=1, p=0.9, padding_text='', prefix='', prompt=['The pandemic generated by the COVID-19 virus has engulfed our nation since February of this year', 'Furthermore, the withdrawal of the United Kingdom from the European Union', 'We are immersed in a period where our nation must get the best of itself and fight'], repetition_penalty=1.0, seed=10, stop_token='<END>', temperature=1.0, xlm_language='')\n",
            "Setting `pad_token_id` to 50256 (first `eos_token_id`) to generate sequence\n",
            "Setting `pad_token_id` to 50256 (first `eos_token_id`) to generate sequence\n",
            "Setting `pad_token_id` to 50256 (first `eos_token_id`) to generate sequence\n",
            "=== GENERATED SPEECH ===\n",
            "The pandemic generated by the COVID-19 virus has engulfed our nation since February of this year. The infectious disease continues to spread throughout Europe and it remains a major threat to human health in both developing and emerging nations.\n",
            "During that time we have witnessed an unprecedented rise in mortality and serious illness, and an increasing tendency towards terrorism and armed conflict.\n",
            "But while this continues, we must continue to recognise the importance of building a safe and accessible world for all people of every age and race.\n",
            "I have no doubt that this country has successfully achieved this - and it was the task of my predecessors to ensure that every man and woman in our society was given the chance to know about and act on this important message of hope.\n",
            "But what must we remember when we look back, for instance, to today?\n",
            "Looking at this story from the other side, a century ago, we have lost the power of history. So much so that we have been unable to reach agreement on our historic relationship for much longer than that.\n",
            "To be clear, we are now closer together. The challenges ahead will not be the same as they were in the 1920s or '30s, when we met in Vienna and a generation ago were on their first successful joint visit to Great Britain.\n",
            "There are many important differences in my view between our two countries. But that does not mean that we are unable to work through them together, for for we share in their prosperity, shared values and hopes.\n",
            "Furthermore, the withdrawal of the United Kingdom from the European Union is a significant defeat in our efforts to bring prosperity and prosperity to others. We need to take our message with the international community in its strong direction.\n",
            "We can therefore continue to work together towards the end of this conflict and ensure the very best possible outcomes for the people of this great nation, and our children.\n",
            "Madam President, it is this great strength of friendship, tolerance and goodwill which makes us so determined to live together in a peaceful, just and just world, and which will lead to a peaceful resolution of the international system of international law and order.\"\n",
            "Sisters, as I have done before, have taken great pride in their parents and grandparents and all their support throughout this troubled period of time.\n",
            "I wish you all a very happy and exciting journey, for as much as I can, there are some things you may not be able to do at this moment.\n",
            "Madam President, I congratulate you on this evening's address and wish you all a very happy and enjoyable month. I look forward to talking to you again on the occasion of your return from St. Petersburg.\n",
            "Madam President, your two visits to Australia and New Zealand give us the opportunity to reflect on our shared interests and what is at stake in achieving our common goals.\n",
            "We are immersed in a period where our nation must get the best of itself and fight alongside other people who want to see us transformed into more democratic countries.\n"
          ],
          "name": "stdout"
        }
      ]
    },
    {
      "cell_type": "code",
      "metadata": {
        "id": "Nz_418LCkKG4",
        "outputId": "a8159b91-6d5b-4e81-f267-9db74f59b71c",
        "colab": {
          "base_uri": "https://localhost:8080/"
        }
      },
      "source": [
        "!python3 ./drive/My\\ Drive/run_generation.py \\\n",
        "  --model_type=gpt2 \\\n",
        "  --model_name_or_path='./drive/My Drive/fine_tuning_gpt2_base' \\\n",
        "  --length=300 \\\n",
        "  --prompt=\"The pandemic generated by the COVID-19 virus has engulfed our nation since February of this year\" \\\n",
        "  --prompt=\"Furthermore, the withdrawal of the United Kingdom from the European Union\" \\\n",
        "  --prompt=\"We are immersed in a period where our nation must get the best of itself and fight\" \\\n",
        "  --stop_token='<END>' \\\n",
        "  --seed=14 \\\n",
        "  --k=100 \\\n",
        "  --repetition_penalty=1 \\\n",
        "  --temperature=1"
      ],
      "execution_count": null,
      "outputs": [
        {
          "output_type": "stream",
          "text": [
            "2020-10-30 00:34:04.335914: I tensorflow/stream_executor/platform/default/dso_loader.cc:48] Successfully opened dynamic library libcudart.so.10.1\n",
            "['The pandemic generated by the COVID-19 virus has engulfed our nation since February of this year', 'Furthermore, the withdrawal of the United Kingdom from the European Union', 'We are immersed in a period where our nation must get the best of itself and fight']\n",
            "3\n",
            "10/30/2020 00:34:06 - WARNING - __main__ -   device: cpu, n_gpu: 0, 16-bits training: False\n",
            "10/30/2020 00:34:12 - INFO - __main__ -   Namespace(device=device(type='cpu'), fp16=False, k=100, length=300, model_name_or_path='./drive/My Drive/fine_tuning_gpt2_base', model_type='gpt2', n_gpu=0, no_cuda=False, num_return_sequences=1, p=0.9, padding_text='', prefix='', prompt=['The pandemic generated by the COVID-19 virus has engulfed our nation since February of this year', 'Furthermore, the withdrawal of the United Kingdom from the European Union', 'We are immersed in a period where our nation must get the best of itself and fight'], repetition_penalty=1.0, seed=14, stop_token='<END>', temperature=1.0, xlm_language='')\n",
            "Setting `pad_token_id` to 50256 (first `eos_token_id`) to generate sequence\n",
            "Setting `pad_token_id` to 50256 (first `eos_token_id`) to generate sequence\n",
            "Setting `pad_token_id` to 50256 (first `eos_token_id`) to generate sequence\n",
            "=== GENERATED SPEECH ===\n",
            "The pandemic generated by the COVID-19 virus has engulfed our nation since February of this year.\n",
            "The Ebola outbreak in West Africa has left many thousands of people homeless. The Government has put hundreds of refugees into emergency shelters, while giving humanitarian aid.\n",
            "As the year draws to a close I am reminded of the humanitarian responsibility of our Government and the dedication of our Parliament to the great service it provides to our people.\n",
            "Furthermore, the withdrawal of the United Kingdom from the European Union has already caused considerable disruption to the economic and financial life of the United Kingdom.\n",
            "Over the last twelve months I have met with representatives of these governments from around the world to discuss issues such as the Millennium Development Goals, the World Trade Organisation and the Trade in Services Agreement.\n",
            "Throughout this visit, I have been struck by the warmth of the people in Britain and throughout the Commonwealth who have been touched by the messages of unity, prosperity and peace. They are looking for the strength in which to remain in the Commonwealth and help those around the world continue to thrive.\n",
            "We are immersed in a period where our nation must get the best of itself and fight to retain its leadership, which in turn can enable the Commonwealth to flourish. We have the potential to lead the world, and in particular to maintain the peace and security of our seas and communities - whatever the outcome of this engagement.\n",
            "In my lifetime, I have watched as Europe's nations have been confronted by new challenges and uncertainties, from the rise of terrorism to the climate change of the last few years. At times, however, we have responded well by increasing our focus and courage.\n",
            "The opportunities we have face many of these challenges with little or no guidance from outside, as they present an opportunity for our own success, or for others to find, through an inclusive process of government, to sustain the trust of our people and for the prosperity and security of the whole of Europe.\n",
            "I am confident that the Commonwealth can serve to guide the direction of good governance and to ensure a brighter future for our peoples. But this alone should not, of course, serve to guide our actions alone.\n",
            "For the future, I hope that we will work closely together. And the Commonwealth must remain relevant to the future and to the future of our governments and to the future of the lives of its citizens. But in the meantime, we must build and nurture our own future in a way that is not only honest but also sustainable.\n"
          ],
          "name": "stdout"
        }
      ]
    },
    {
      "cell_type": "code",
      "metadata": {
        "id": "4dGzusdZ6MG2",
        "outputId": "7dfc78fe-2b10-4c2d-f017-0c2eee9d04e7",
        "colab": {
          "base_uri": "https://localhost:8080/"
        }
      },
      "source": [
        "!python3 ./drive/My\\ Drive/run_generation.py \\\n",
        "  --model_type=gpt2 \\\n",
        "  --model_name_or_path='./drive/My Drive/fine_tuning_gpt2_base' \\\n",
        "  --length=300 \\\n",
        "  --prompt=\"The pandemic generated by the COVID-19 virus has engulfed our nation since February of this year\" \\\n",
        "  --prompt=\"Furthermore, the withdrawal of the United Kingdom from the European Union\" \\\n",
        "  --prompt=\"We are immersed in a period where our nation must get the best of itself and fight\" \\\n",
        "  --stop_token='<END>' \\\n",
        "  --seed=15 \\\n",
        "  --k=100 \\\n",
        "  --repetition_penalty=1 \\\n",
        "  --temperature=1"
      ],
      "execution_count": null,
      "outputs": [
        {
          "output_type": "stream",
          "text": [
            "2020-10-30 00:35:33.173524: I tensorflow/stream_executor/platform/default/dso_loader.cc:48] Successfully opened dynamic library libcudart.so.10.1\n",
            "['The pandemic generated by the COVID-19 virus has engulfed our nation since February of this year', 'Furthermore, the withdrawal of the United Kingdom from the European Union', 'We are immersed in a period where our nation must get the best of itself and fight']\n",
            "3\n",
            "10/30/2020 00:35:35 - WARNING - __main__ -   device: cpu, n_gpu: 0, 16-bits training: False\n",
            "10/30/2020 00:35:41 - INFO - __main__ -   Namespace(device=device(type='cpu'), fp16=False, k=100, length=300, model_name_or_path='./drive/My Drive/fine_tuning_gpt2_base', model_type='gpt2', n_gpu=0, no_cuda=False, num_return_sequences=1, p=0.9, padding_text='', prefix='', prompt=['The pandemic generated by the COVID-19 virus has engulfed our nation since February of this year', 'Furthermore, the withdrawal of the United Kingdom from the European Union', 'We are immersed in a period where our nation must get the best of itself and fight'], repetition_penalty=1.0, seed=15, stop_token='<END>', temperature=1.0, xlm_language='')\n",
            "Setting `pad_token_id` to 50256 (first `eos_token_id`) to generate sequence\n",
            "Setting `pad_token_id` to 50256 (first `eos_token_id`) to generate sequence\n",
            "Setting `pad_token_id` to 50256 (first `eos_token_id`) to generate sequence\n",
            "=== GENERATED SPEECH ===\n",
            "The pandemic generated by the COVID-19 virus has engulfed our nation since February of this year. More than 300,000 people have died in just two months.\n",
            " We cannot continue to ignore this devastating threat. The danger in Britain alone is unprecedented. The number of people who were exposed to infectious diseases from the Chernobyl nuclear accident in 1986 is so great that the United Nations says that it will take years to reach a resolution of the war-torn nation.\n",
            "The horror has deepened. People have been living for so long without their homes and our loved ones, as we witness the worst of the devastation and sickness in our countryside. The impact has been devastating; for so many we have no sense of homes or families. Many of us have lost everything we had, but we can also sense the sense of loss of homes. We look to our neighbours for help.\n",
            "We are sickened by all the inhumanities which have beset us. I know that some of you feel betrayed, by strangers, for not being able to send in your own blood to protect us, for which we pay great debt.\n",
            "You have called for action, but we have heard nothing from the Prime Minister, the Secretary-General, the President, or your Secretary-General, and have been told nothing.\n",
            "Furthermore, the withdrawal of the United Kingdom from the European Union has done nothing but to weaken the resolve and resolve of the United Nations. It will lead to a process of international lawlessness, of a United Nations based on one single rule and one United Nations controlled by three international branches.\n",
            "We should stand firm wherever necessary, and work with each other to achieve peace wherever possible. I know that the people of Poland have asked the President, The Secretary-General, The Prime Minister and myself to visit Poland to meet this task. I believe that they are looking forward to our continuing dialogue.\n",
            "In October the General Assembly meets. My thoughts go out to you all.\n",
            "President Lincoln, Mayor of Leeds\n",
            "Thank you, Mrs May, for inviting me here today for a special Christmas Broadcast, at the Prince Edward and Alexandra Cathedral.\n",
            "Your service at the London Christmas Broadcast may have been a difficult one for many, especially those who were born with some very dark dreams, but in many respects, it is a simple reminder that the world is a very dark place, that the Lord Mayor of London is not for naught but a source of hope.\n",
            "And what can you say about this splendid building for the Christmas Broadcast? It certainly has the sound of a cathedral or a concert hall; it reminds us of what the Lord Mayor of London was once famous for. The views are beautiful, but I have no doubt that the cathedral itself, in its grandeur, will be in demand during the time of the Christmas Broadcast.\n",
            "We are immersed in a period where our nation must get the best of itself and fight to maintain order in a war-torn country. The United Kingdom faces serious economic and security challenges, and its international reputation has been severely tarnished by some of the worst political, financial and social problems faced by the West in recent history.\n",
            "But if our thoughts are not focused upon a new course, we are sorely wrong. Indeed, the United Kingdom has the strongest link between its history and today's world. We are all looking forward to reuniting with the family and friends of those who fought for freedom and democracy in the twentieth century.\n",
            "It is a responsibility that we all take very seriously, and the United Kingdom, in particular, must take the lead. The United Nations, I believe, provides a great example of how the common good can reach into many places at once.\n",
            "It is this shared ideal that gives the United Kingdom its reputation for creativity and openness. I want to give this Broadcasting Service a warm welcome. I think we are doing a fine job of conveying the message that the United Nations and the United Nations system are working together to achieve prosperity, peace and development everywhere.\n",
            "I know that the United Nations system is a very powerful engine for good governance and for the peaceful co-operation of the people. We are just as confident in our own traditions and in the strength and resilience of our countries' efforts to put those principles to the test.\n"
          ],
          "name": "stdout"
        }
      ]
    },
    {
      "cell_type": "markdown",
      "metadata": {
        "id": "m6-4ib7kH58m"
      },
      "source": [
        "## **SEGUNDA INICIALIZACIÓN**"
      ]
    },
    {
      "cell_type": "markdown",
      "metadata": {
        "id": "AvEYtLlhI4BT"
      },
      "source": [
        "### *Caso de partida*"
      ]
    },
    {
      "cell_type": "code",
      "metadata": {
        "id": "xlmMRJdP07in",
        "outputId": "18540ea5-3bad-4eae-8305-3c2a74e961b7",
        "colab": {
          "base_uri": "https://localhost:8080/"
        }
      },
      "source": [
        "!python3 ./drive/My\\ Drive/run_generation.py \\\n",
        "  --model_type=gpt2 \\\n",
        "  --model_name_or_path=gpt2 \\\n",
        "  --length=300 \\\n",
        "  --prompt=\"Today, I want to claim that we have an obligation to ensure a public education for all children\" \\\n",
        "  --prompt=\"I'm sure the Prime Minister will do a great job\" \\\n",
        "  --stop_token='<|endoftext|' \\\n",
        "  --seed=4 \\\n",
        "  --k=100 \\\n",
        "  --repetition_penalty=1 \\\n",
        "  --temperature=1"
      ],
      "execution_count": 8,
      "outputs": [
        {
          "output_type": "stream",
          "text": [
            "2020-11-08 12:42:17.133966: I tensorflow/stream_executor/platform/default/dso_loader.cc:48] Successfully opened dynamic library libcudart.so.10.1\n",
            "['Today, I want to claim that we have an obligation to ensure a public education for all children', \"I'm sure the Prime Minister will do a great job\"]\n",
            "2\n",
            "11/08/2020 12:42:19 - WARNING - __main__ -   device: cpu, n_gpu: 0, 16-bits training: False\n",
            "11/08/2020 12:42:26 - INFO - __main__ -   Namespace(device=device(type='cpu'), fp16=False, k=100, length=300, model_name_or_path='gpt2', model_type='gpt2', n_gpu=0, no_cuda=False, num_return_sequences=1, p=0.9, padding_text='', prefix='', prompt=['Today, I want to claim that we have an obligation to ensure a public education for all children', \"I'm sure the Prime Minister will do a great job\"], repetition_penalty=1.0, seed=4, stop_token='<|endoftext|', temperature=1.0, xlm_language='')\n",
            "Setting `pad_token_id` to 50256 (first `eos_token_id`) to generate sequence\n",
            "Setting `pad_token_id` to 50256 (first `eos_token_id`) to generate sequence\n",
            "=== GENERATED SPEECH ===\n",
            "Today, I want to claim that we have an obligation to ensure a public education for all children to succeed.\n",
            "\n",
            "My current goal is to achieve our first public school voucher program by 2020.\n",
            "\n",
            "As I campaigned, I began to introduce public policy to help our kids thrive as first-graders and as students. As I made the transition from university to private school in 2013, I was joined in that commitment by a great many parents of students.\n",
            "\n",
            "But the charter school experience is different. It provides much better results for kids who are poor, and for students in a higher cost bracket. The costs of the charter program are high, often exceeding what it cost to build a private school to support these students.\n",
            "\n",
            "As I talk more about what the voucher system needs to address, we must look at some possible solutions.\n",
            "\n",
            "• For everyone else, I urge you to see, as I've said, why we should hold the public responsible for what we've done.\n",
            "\n",
            "I know that this campaign will raise many questions. What about our policies, our curriculum, how our schools teach, how our students learn, the impact on families that this can have on our communities?\n",
            "\n",
            "Here is what I hope we can learn, and what we can work toward, after this election.\n",
            "\n",
            "I'm sure the Prime Minister will do a great job here.\n",
            "\n",
            "But the facts don't matter. And I'd like to encourage the Prime Minister, as well, to talk to my opponents and ask them about the issues that matter to their children and their families.\n",
            "\n",
            "I also want to make sure that our Government is working on reforms that make our children's education more equitable.\n",
            "\n",
            "That means giving more money to teachers, increasing charter schools, ending financial and administrative barriers for parents and ensuring more resources are available to help our children achieve the best possible education.\n",
            "\n",
            "So it is time to start this debate.\n",
            "\n",
            "The time has come to get real about a change in our approach to our public schools.\n",
            "\n",
            "The time has come to restore some of our core values.\n",
            "\n",
            "So today, my government would like to take one step forward, step by step, to rebuild a public schools system that is the best for our kids.\n",
            "\n",
            "To do that, we will bring all children together in a safe and sustainable community and build upon the most important principles of public education that they've heard before.\n",
            "\n",
            "I hope to have you join me as I speak, and hear from people who have received vouchers and that I want to make clear that I can't wait to move forward.\n",
            "\n",
            "If you believe that you are an important voice in the charter debate, then please sign this petition.\n",
            "\n"
          ],
          "name": "stdout"
        }
      ]
    },
    {
      "cell_type": "code",
      "metadata": {
        "id": "-tkS_Z1b2GWx",
        "outputId": "b1927ead-0112-4d49-9035-1a113bff37ab",
        "colab": {
          "base_uri": "https://localhost:8080/"
        }
      },
      "source": [
        "!python3 ./drive/My\\ Drive/run_generation.py \\\n",
        "  --model_type=gpt2 \\\n",
        "  --model_name_or_path=gpt2 \\\n",
        "  --length=300 \\\n",
        "  --prompt=\"Today, I want to claim that we have an obligation to ensure a public education for all children\" \\\n",
        "  --prompt=\"I'm sure the Prime Minister will do a great job\" \\\n",
        "  --stop_token='<|endoftext|' \\\n",
        "  --seed=1 \\\n",
        "  --k=100 \\\n",
        "  --repetition_penalty=1 \\\n",
        "  --temperature=1"
      ],
      "execution_count": 12,
      "outputs": [
        {
          "output_type": "stream",
          "text": [
            "2020-11-08 14:56:40.227522: I tensorflow/stream_executor/platform/default/dso_loader.cc:48] Successfully opened dynamic library libcudart.so.10.1\n",
            "['Today, I want to claim that we have an obligation to ensure a public education for all children', \"I'm sure the Prime Minister will do a great job\"]\n",
            "2\n",
            "11/08/2020 14:56:42 - WARNING - __main__ -   device: cpu, n_gpu: 0, 16-bits training: False\n",
            "11/08/2020 14:56:50 - INFO - __main__ -   Namespace(device=device(type='cpu'), fp16=False, k=100, length=300, model_name_or_path='gpt2', model_type='gpt2', n_gpu=0, no_cuda=False, num_return_sequences=1, p=0.9, padding_text='', prefix='', prompt=['Today, I want to claim that we have an obligation to ensure a public education for all children', \"I'm sure the Prime Minister will do a great job\"], repetition_penalty=1.0, seed=1, stop_token='<|endoftext|', temperature=1.0, xlm_language='')\n",
            "Setting `pad_token_id` to 50256 (first `eos_token_id`) to generate sequence\n",
            "Setting `pad_token_id` to 50256 (first `eos_token_id`) to generate sequence\n",
            "=== GENERATED SPEECH ===\n",
            "Today, I want to claim that we have an obligation to ensure a public education for all children. That's why I'm launching #IStandWithHer campaign to push for an education policy that recognizes that we need the opportunity to grow our communities.\n",
            "\n",
            "I've introduced the first state education law in more than 40 years. It will make it easier for every child in every community to attend a college. I've supported all of our states' efforts to develop the most comprehensive and effective public education system in the country.\n",
            "\n",
            "Since our founding in 1978, we have spent years working to deliver quality, secure, safe, and affordable public education.\n",
            "\n",
            "I also have a history of working to address America's racial and ethnic disparities.\n",
            "\n",
            "The first federal district court judge in the country sentenced my brother and sister to 25 years in prison for drug trafficking. They had pleaded guilty to conspiring to produce child pornography, while my sister has been serving a sentence of 20 years in prison for possessing child pornography.\n",
            "\n",
            "I support the victims and all victims of sexual assault: I support criminal justice reforms, but I know that's going to cost an awful lot.\n",
            "\n",
            "What's next? I want to take another step forward and pass a $2 billion bill, to pay for all of the necessary capital improvements and to address rising tuition. I want to address a broken federal and state education system that doesn't do enough to improve quality and provide the right education for all.\n",
            "\n",
            "I'm sure the Prime Minister will do a great job doing that. We're going to do just about anything to keep education open and accessible.\n",
            "\n",
            "I'll vote for the education bill at the next government meeting. I'm also calling on everyone in the country to join me in passing a bipartisan bill to provide the right education for all.\n",
            "\n",
            "We need the right teachers for America, and we can't just let this happen. We need teachers to teach kids as much as possible.\n",
            "\n",
            "And I believe in a fair system of government for all of us. And I'm proud that I have the support of this party. And we need to do our part to protect the rights of all Americans and ensure the health and safety of all Americans.\n",
            "\n",
            "I'm proud that we're able to raise the wages of teachers in our country.\n",
            "\n",
            "So let's raise wages — we don't just work to raise wages, we actually strengthen the rule of law.\n",
            "\n",
            "We've had workers who've been on the payroll for over a decade who have won't be out of school, who have paid their salaries — and they're getting great educations in this country, so we're going to do something about it.\n",
            "\n",
            "And I support this new American initiative called #IStandWithHer, and I believe it's important to get the right education for every American, regardless of class.\n",
            "\n"
          ],
          "name": "stdout"
        }
      ]
    },
    {
      "cell_type": "markdown",
      "metadata": {
        "id": "4w6Rg7d0I9i7"
      },
      "source": [
        "### *Fine-tuning*"
      ]
    },
    {
      "cell_type": "code",
      "metadata": {
        "id": "zbI3U58KZpp1",
        "outputId": "142c11e3-6c11-4d73-dd97-baf327e89bf7",
        "colab": {
          "base_uri": "https://localhost:8080/"
        }
      },
      "source": [
        "!python3 ./drive/My\\ Drive/run_generation.py \\\n",
        "  --model_type=gpt2 \\\n",
        "  --model_name_or_path='./drive/My Drive/fine_tuning_gpt2_base' \\\n",
        "  --length=250 \\\n",
        "  --prompt=\"Today, I want to claim that we have an obligation to ensure a public education for all children\" \\\n",
        "  --prompt=\"I'm sure the Prime Minister will do a great job\" \\\n",
        "  --stop_token='<END>' \\\n",
        "  --seed=40 \\\n",
        "  --k=100 \\\n",
        "  --repetition_penalty=1 \\\n",
        "  --temperature=1"
      ],
      "execution_count": 52,
      "outputs": [
        {
          "output_type": "stream",
          "text": [
            "2020-11-08 16:06:53.546644: I tensorflow/stream_executor/platform/default/dso_loader.cc:48] Successfully opened dynamic library libcudart.so.10.1\n",
            "['Today, I want to claim that we have an obligation to ensure a public education for all children', \"I'm sure the Prime Minister will do a great job\"]\n",
            "2\n",
            "11/08/2020 16:06:55 - WARNING - __main__ -   device: cpu, n_gpu: 0, 16-bits training: False\n",
            "11/08/2020 16:07:01 - INFO - __main__ -   Namespace(device=device(type='cpu'), fp16=False, k=100, length=250, model_name_or_path='./drive/My Drive/fine_tuning_gpt2_base', model_type='gpt2', n_gpu=0, no_cuda=False, num_return_sequences=1, p=0.9, padding_text='', prefix='', prompt=['Today, I want to claim that we have an obligation to ensure a public education for all children', \"I'm sure the Prime Minister will do a great job\"], repetition_penalty=1.0, seed=40, stop_token='<END>', temperature=1.0, xlm_language='')\n",
            "Setting `pad_token_id` to 50256 (first `eos_token_id`) to generate sequence\n",
            "Setting `pad_token_id` to 50256 (first `eos_token_id`) to generate sequence\n",
            "=== GENERATED SPEECH ===\n",
            "Today, I want to claim that we have an obligation to ensure a public education for all children in the United Kingdom.\n",
            "This has been my foremost aim for twenty years and I have a deep admiration for the progress we are making in the years since. I think all that we have achieved in the twenty-first century – education for all; science, technology, creative endeavour; and family life; – is testament to what has been achieved in the world's diverse and varied cities and towns.\n",
            "As we face challenges in international communities and elsewhere, and as we travel, we must always recognise the immense work that remains to be done to improve opportunities for all.\n",
            "On the occasion of this week, I welcome you all to the Assembly of Prince Philip for the first time. It will be a welcome opportunity for me to meet with you all, to give a well-reasoned presentation, and to look forward to a number of opportunities in the coming months.\n",
            "Your visits to the Netherlands and the United Kingdom will surely have a significant impact on my thinking about the Commonwealth as we shape the future. More than ever, there is an emphasis on national pride and of mutual concern for the future of society.\n",
            "I'm sure the Prime Minister will do a great job of conveying that message, and I look forward to welcoming you all on that great, historic and national stage.\n"
          ],
          "name": "stdout"
        }
      ]
    },
    {
      "cell_type": "code",
      "metadata": {
        "id": "tj8aQw375kfK",
        "outputId": "0d7ec121-3903-4cca-b3ab-4aeced5d1269",
        "colab": {
          "base_uri": "https://localhost:8080/"
        }
      },
      "source": [
        "!python3 ./drive/My\\ Drive/run_generation.py \\\n",
        "  --model_type=gpt2 \\\n",
        "  --model_name_or_path='./drive/My Drive/fine_tuning_gpt2_base' \\\n",
        "  --length=300 \\\n",
        "  --prompt=\"Today, I want to claim that we have an obligation to ensure a public education for all children\" \\\n",
        "  --prompt=\"I'm sure the Prime Minister will do a great job\" \\\n",
        "  --stop_token='<END>' \\\n",
        "  --seed=2 \\\n",
        "  --k=100 \\\n",
        "  --repetition_penalty=1 \\\n",
        "  --temperature=1"
      ],
      "execution_count": 18,
      "outputs": [
        {
          "output_type": "stream",
          "text": [
            "2020-11-08 15:04:18.001175: I tensorflow/stream_executor/platform/default/dso_loader.cc:48] Successfully opened dynamic library libcudart.so.10.1\n",
            "['Today, I want to claim that we have an obligation to ensure a public education for all children', \"I'm sure the Prime Minister will do a great job\"]\n",
            "2\n",
            "11/08/2020 15:04:20 - WARNING - __main__ -   device: cpu, n_gpu: 0, 16-bits training: False\n",
            "11/08/2020 15:04:25 - INFO - __main__ -   Namespace(device=device(type='cpu'), fp16=False, k=100, length=300, model_name_or_path='./drive/My Drive/fine_tuning_gpt2_base', model_type='gpt2', n_gpu=0, no_cuda=False, num_return_sequences=1, p=0.9, padding_text='', prefix='', prompt=['Today, I want to claim that we have an obligation to ensure a public education for all children', \"I'm sure the Prime Minister will do a great job\"], repetition_penalty=1.0, seed=2, stop_token='<END>', temperature=1.0, xlm_language='')\n",
            "Setting `pad_token_id` to 50256 (first `eos_token_id`) to generate sequence\n",
            "Setting `pad_token_id` to 50256 (first `eos_token_id`) to generate sequence\n",
            "=== GENERATED SPEECH ===\n",
            "Today, I want to claim that we have an obligation to ensure a public education for all children in Scotland.\n",
            "We have a wide range of educational opportunities and opportunities, many of which are in the fields of science, technology and education. All of them require children to seek and accept real and fair opportunities.\n",
            "My administration is committed to building on the achievements of the last few years to ensure that this exciting future can be enjoyed at the same time as supporting the best in the lives of our children.\n",
            "Over the past eight years we have brought people from every generation to the fore in the fields of education and science.\n",
            "As I have told you last week, our work is about teaching young people how to be responsible, responsible, responsible and successful, whether in the job or in life itself. This will take courage and dedication from everyone.\n",
            "I'm sure the Prime Minister will do a great job in that.\n",
            "At the same time, I want to ensure that our children grow up to be selfless citizens. In that way, the future of Britain and of this country will look very different to how it looked at the time in 1945.\n",
            "Many of you recall my speech to the Commonwealth Conference in 1995. I was pleased to witness how the Commonwealth was transformed from a simple organisation, with common interests in common issues and practical experience, into an innovative global organisation with strong values and aspirations.\n",
            "Britain is on the cusp of a remarkable transformation, indeed, of its nationhood. It can and must work hard and successfully to meet challenges in a global economy, to ensure that global business and industry flourish and prosper, and to fight poverty and inequality.\n",
            "In the years ahead, and in the years ahead, we will continue to build on the Commonwealth values that have made Britain the world's economic power and leading global financial centre. But we will also work together in good faith and not only through cooperation and in common interests.\n",
            "This can be achieved in so many ways, but the way things work will become much easier if we work together in common cause, and at the same time in the spirit of the spirit of friendship and consensus.\n",
            "There are three main themes which will make this summit of the Commonwealth: the United Kingdom, the democratic institutions of the Commonwealth and the United Nations.\n"
          ],
          "name": "stdout"
        }
      ]
    },
    {
      "cell_type": "markdown",
      "metadata": {
        "id": "uZ2nRsTlIBCk"
      },
      "source": [
        "## **AYUDA**"
      ]
    },
    {
      "cell_type": "code",
      "metadata": {
        "id": "EBZie81DQrQF",
        "outputId": "6cd37bcf-49eb-4ea0-cd62-cf8e4408dfc2",
        "colab": {
          "base_uri": "https://localhost:8080/",
          "height": 819
        }
      },
      "source": [
        "!python3 ./drive/My\\ Drive/run_generation.py --help"
      ],
      "execution_count": null,
      "outputs": [
        {
          "output_type": "stream",
          "text": [
            "2020-10-27 13:33:29.223367: I tensorflow/stream_executor/platform/default/dso_loader.cc:48] Successfully opened dynamic library libcudart.so.10.1\n",
            "usage: run_generation.py [-h] --model_type MODEL_TYPE --model_name_or_path\n",
            "                         MODEL_NAME_OR_PATH [--n_prompt N_PROMPT]\n",
            "                         [--prompt PROMPT] [--length LENGTH]\n",
            "                         [--stop_token STOP_TOKEN] [--temperature TEMPERATURE]\n",
            "                         [--repetition_penalty REPETITION_PENALTY] [--k K]\n",
            "                         [--p P] [--prefix PREFIX]\n",
            "                         [--padding_text PADDING_TEXT]\n",
            "                         [--xlm_language XLM_LANGUAGE] [--seed SEED]\n",
            "                         [--no_cuda]\n",
            "                         [--num_return_sequences NUM_RETURN_SEQUENCES]\n",
            "                         [--fp16]\n",
            "\n",
            "optional arguments:\n",
            "  -h, --help            show this help message and exit\n",
            "  --model_type MODEL_TYPE\n",
            "                        Model type selected in the list: gpt2, ctrl, openai-\n",
            "                        gpt, xlnet, transfo-xl, xlm\n",
            "  --model_name_or_path MODEL_NAME_OR_PATH\n",
            "                        Path to pre-trained model or shortcut name selected in\n",
            "                        the list: gpt2, ctrl, openai-gpt, xlnet, transfo-xl,\n",
            "                        xlm\n",
            "  --n_prompt N_PROMPT\n",
            "  --prompt PROMPT\n",
            "  --length LENGTH\n",
            "  --stop_token STOP_TOKEN\n",
            "                        Token at which text generation is stopped\n",
            "  --temperature TEMPERATURE\n",
            "                        temperature of 1.0 has no effect, lower tend toward\n",
            "                        greedy sampling\n",
            "  --repetition_penalty REPETITION_PENALTY\n",
            "                        primarily useful for CTRL model; in that case, use 1.2\n",
            "  --k K\n",
            "  --p P\n",
            "  --prefix PREFIX       Text added prior to input.\n",
            "  --padding_text PADDING_TEXT\n",
            "                        Deprecated, the use of `--prefix` is preferred.\n",
            "  --xlm_language XLM_LANGUAGE\n",
            "                        Optional language when used with the XLM model.\n",
            "  --seed SEED           random seed for initialization\n",
            "  --no_cuda             Avoid using CUDA when available\n",
            "  --num_return_sequences NUM_RETURN_SEQUENCES\n",
            "                        The number of samples to generate.\n",
            "  --fp16                Whether to use 16-bit (mixed) precision (through\n",
            "                        NVIDIA apex) instead of 32-bit\n"
          ],
          "name": "stdout"
        }
      ]
    }
  ]
}