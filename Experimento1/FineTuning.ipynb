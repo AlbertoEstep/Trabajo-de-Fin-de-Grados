{
  "nbformat": 4,
  "nbformat_minor": 0,
  "metadata": {
    "colab": {
      "name": "Fine-tuning.ipynb",
      "provenance": [],
      "toc_visible": true
    },
    "kernelspec": {
      "name": "python3",
      "display_name": "Python 3"
    }
  },
  "cells": [
    {
      "cell_type": "markdown",
      "metadata": {
        "id": "_nSVLZeIwub3"
      },
      "source": [
        "# ***Fine-tuning* del modelo GPT-2 de HuggingFace con el corpus de texto obtenido.**"
      ]
    },
    {
      "cell_type": "markdown",
      "metadata": {
        "id": "O6P2PTSgxXwj"
      },
      "source": [
        "Instalamos la librería donde se encuentran los modelos."
      ]
    },
    {
      "cell_type": "code",
      "metadata": {
        "id": "vocVQoW5QBKl"
      },
      "source": [
        "# Instalar la librería transformers de HuggingFace\n",
        "!pip3 install transformers"
      ],
      "execution_count": null,
      "outputs": []
    },
    {
      "cell_type": "markdown",
      "metadata": {
        "id": "uDSVRNRxyrHg"
      },
      "source": [
        "Ayuda script interno."
      ]
    },
    {
      "cell_type": "code",
      "metadata": {
        "id": "Ppwg8ta8nqvl"
      },
      "source": [
        "# Conocer los argumentos\n",
        "!python3 ./drive/My\\ Drive/run_language_modeling.py --help"
      ],
      "execution_count": null,
      "outputs": []
    },
    {
      "cell_type": "markdown",
      "metadata": {
        "id": "wwpgsKX0xDGz"
      },
      "source": [
        "Guardamos el modelo en la carpeta que indica el parámetro *output_dir*\n",
        "\n",
        "\n",
        "**ADVERTENCIA**: Es necesario poseer el fichero run_language_modeling.py en la carpeta *'./drive/My Drive/'*"
      ]
    },
    {
      "cell_type": "code",
      "metadata": {
        "id": "zf57nC_SQMrN"
      },
      "source": [
        "# Fine-tuning del modelo con nuestros datos\n",
        "!python3 ./drive/My\\ Drive/run_language_modeling.py \\\n",
        "  --output_dir='./drive/My Drive/output' \\\n",
        "  --overwrite_output_dir \\\n",
        "  --model_type=gpt2 \\\n",
        "  --model_name_or_path=gpt2 \\\n",
        "  --do_train \\\n",
        "  --train_data_file='./drive/My Drive/discursos_reina/train.txt' \\\n",
        "  --do_eval \\\n",
        "  --eval_data_file='./drive/My Drive/discursos_reina/eval.txt' \\\n",
        "  --per_device_train_batch_size=1 \\\n",
        "  --per_device_eval_batch_size=1 \\\n",
        "  --evaluate_during_training \\\n",
        "  --learning_rate=5e-5 \\\n",
        "  --num_train_epochs=3"
      ],
      "execution_count": null,
      "outputs": []
    }
  ]
}