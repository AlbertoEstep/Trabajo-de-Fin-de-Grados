{
  "nbformat": 4,
  "nbformat_minor": 0,
  "metadata": {
    "colab": {
      "name": "Train-Val.ipynb",
      "provenance": []
    },
    "kernelspec": {
      "name": "python3",
      "display_name": "Python 3"
    }
  },
  "cells": [
    {
      "cell_type": "markdown",
      "metadata": {
        "id": "Tg2iHxK0h6W5"
      },
      "source": [
        "# **Creación de los ficheros necesarios para la técnica de *fine-tuning*** "
      ]
    },
    {
      "cell_type": "markdown",
      "metadata": {
        "id": "8YAl-I5WiJBY"
      },
      "source": [
        "Buscamos los ficheros donde estan la totalidad de los discursos\n"
      ]
    },
    {
      "cell_type": "code",
      "metadata": {
        "id": "V0UGsvjf2qkY"
      },
      "source": [
        "from os import scandir, getcwd\n",
        "from os.path import abspath\n",
        "DIR = './drive/My Drive/discursos_reina/'\n",
        "\n",
        "def ls(ruta = DIR):\n",
        "    return [abspath(arch.path) for arch in scandir(ruta) if arch.is_file()]\n",
        "\n",
        "discursos = ls()"
      ],
      "execution_count": null,
      "outputs": []
    },
    {
      "cell_type": "markdown",
      "metadata": {
        "id": "avE38g9RiVt6"
      },
      "source": [
        "Reordenamos de forma aleatoria la lista de ficheros"
      ]
    },
    {
      "cell_type": "code",
      "metadata": {
        "id": "YsS0-8mKKaCd"
      },
      "source": [
        "import random\n",
        "random.seed(1)\n",
        "print(\"Original list: \", discursos)\n",
        "random.shuffle(discursos)\n",
        "print(\"reshuffled list \", discursos)"
      ],
      "execution_count": null,
      "outputs": []
    },
    {
      "cell_type": "markdown",
      "metadata": {
        "id": "_CXHydwwibXb"
      },
      "source": [
        "Separamos en discursos para validación (30%) y para entrenamiento (70%)"
      ]
    },
    {
      "cell_type": "code",
      "metadata": {
        "id": "MkQ4adidLL6L"
      },
      "source": [
        "p_train = 0.7\n",
        "num_discursos = len(discursos)\n",
        "discursos_train = discursos[:int(num_discursos*p_train)]\n",
        "discursos_eval = discursos[int(num_discursos*p_train):]"
      ],
      "execution_count": null,
      "outputs": []
    },
    {
      "cell_type": "markdown",
      "metadata": {
        "id": "_lPEXic5imkn"
      },
      "source": [
        "Creamos un fichero donde guardas los discursos para entrenanmiento (separados por el token \\<END\\>)."
      ]
    },
    {
      "cell_type": "code",
      "metadata": {
        "id": "pJkbFOam4atZ"
      },
      "source": [
        "with open(DIR + 'train.txt','w') as train:\n",
        "  for i in range(len(discursos_train)):\n",
        "      with open(discursos_train[i], \"r\") as file:\n",
        "          cad=file.read()\n",
        "          print('Copiando discurso ' + str(i))\n",
        "          train.write(cad)\n",
        "          train.write('<END>')\n",
        "          file.close()\n",
        "  train.close()\n"
      ],
      "execution_count": null,
      "outputs": []
    },
    {
      "cell_type": "markdown",
      "metadata": {
        "id": "JDzb-CgOivx5"
      },
      "source": [
        "Creamos un fichero donde guardas los discursos para validación (separados por el token \\<END\\>).\n",
        "\n"
      ]
    },
    {
      "cell_type": "code",
      "metadata": {
        "id": "EVroqPOyN4HC"
      },
      "source": [
        "with open(DIR + 'eval.txt','w') as eval:\n",
        "  for i in range(len(discursos_eval)):\n",
        "      with open(discursos_eval[i], \"r\") as file:\n",
        "          cad=file.read()\n",
        "          print('Copiando discurso ' + str(i))\n",
        "          eval.write(cad)\n",
        "          eval.write('<END>')\n",
        "          file.close()\n",
        "  eval.close()"
      ],
      "execution_count": null,
      "outputs": []
    }
  ]
}