{
  "nbformat": 4,
  "nbformat_minor": 0,
  "metadata": {
    "colab": {
      "name": "Generador.ipynb",
      "provenance": []
    },
    "kernelspec": {
      "name": "python3",
      "display_name": "Python 3"
    }
  },
  "cells": [
    {
      "cell_type": "code",
      "metadata": {
        "id": "_eEwEnVlxSwE",
        "outputId": "9986c945-eda4-4152-ed47-5346e42c3e79",
        "colab": {
          "base_uri": "https://localhost:8080/",
          "height": 662
        }
      },
      "source": [
        "!pip3 install transformers"
      ],
      "execution_count": 2,
      "outputs": [
        {
          "output_type": "stream",
          "text": [
            "Collecting transformers\n",
            "\u001b[?25l  Downloading https://files.pythonhosted.org/packages/2c/4e/4f1ede0fd7a36278844a277f8d53c21f88f37f3754abf76a5d6224f76d4a/transformers-3.4.0-py3-none-any.whl (1.3MB)\n",
            "\u001b[K     |████████████████████████████████| 1.3MB 2.6MB/s \n",
            "\u001b[?25hRequirement already satisfied: requests in /usr/local/lib/python3.6/dist-packages (from transformers) (2.23.0)\n",
            "Requirement already satisfied: numpy in /usr/local/lib/python3.6/dist-packages (from transformers) (1.18.5)\n",
            "Requirement already satisfied: tqdm>=4.27 in /usr/local/lib/python3.6/dist-packages (from transformers) (4.41.1)\n",
            "Requirement already satisfied: protobuf in /usr/local/lib/python3.6/dist-packages (from transformers) (3.12.4)\n",
            "Requirement already satisfied: regex!=2019.12.17 in /usr/local/lib/python3.6/dist-packages (from transformers) (2019.12.20)\n",
            "Requirement already satisfied: packaging in /usr/local/lib/python3.6/dist-packages (from transformers) (20.4)\n",
            "Collecting sacremoses\n",
            "\u001b[?25l  Downloading https://files.pythonhosted.org/packages/7d/34/09d19aff26edcc8eb2a01bed8e98f13a1537005d31e95233fd48216eed10/sacremoses-0.0.43.tar.gz (883kB)\n",
            "\u001b[K     |████████████████████████████████| 890kB 18.1MB/s \n",
            "\u001b[?25hRequirement already satisfied: filelock in /usr/local/lib/python3.6/dist-packages (from transformers) (3.0.12)\n",
            "Collecting tokenizers==0.9.2\n",
            "\u001b[?25l  Downloading https://files.pythonhosted.org/packages/7c/a5/78be1a55b2ac8d6a956f0a211d372726e2b1dd2666bb537fea9b03abd62c/tokenizers-0.9.2-cp36-cp36m-manylinux1_x86_64.whl (2.9MB)\n",
            "\u001b[K     |████████████████████████████████| 2.9MB 18.9MB/s \n",
            "\u001b[?25hRequirement already satisfied: dataclasses; python_version < \"3.7\" in /usr/local/lib/python3.6/dist-packages (from transformers) (0.7)\n",
            "Collecting sentencepiece!=0.1.92\n",
            "\u001b[?25l  Downloading https://files.pythonhosted.org/packages/e5/2d/6d4ca4bef9a67070fa1cac508606328329152b1df10bdf31fb6e4e727894/sentencepiece-0.1.94-cp36-cp36m-manylinux2014_x86_64.whl (1.1MB)\n",
            "\u001b[K     |████████████████████████████████| 1.1MB 45.4MB/s \n",
            "\u001b[?25hRequirement already satisfied: urllib3!=1.25.0,!=1.25.1,<1.26,>=1.21.1 in /usr/local/lib/python3.6/dist-packages (from requests->transformers) (1.24.3)\n",
            "Requirement already satisfied: idna<3,>=2.5 in /usr/local/lib/python3.6/dist-packages (from requests->transformers) (2.10)\n",
            "Requirement already satisfied: chardet<4,>=3.0.2 in /usr/local/lib/python3.6/dist-packages (from requests->transformers) (3.0.4)\n",
            "Requirement already satisfied: certifi>=2017.4.17 in /usr/local/lib/python3.6/dist-packages (from requests->transformers) (2020.6.20)\n",
            "Requirement already satisfied: six>=1.9 in /usr/local/lib/python3.6/dist-packages (from protobuf->transformers) (1.15.0)\n",
            "Requirement already satisfied: setuptools in /usr/local/lib/python3.6/dist-packages (from protobuf->transformers) (50.3.0)\n",
            "Requirement already satisfied: pyparsing>=2.0.2 in /usr/local/lib/python3.6/dist-packages (from packaging->transformers) (2.4.7)\n",
            "Requirement already satisfied: click in /usr/local/lib/python3.6/dist-packages (from sacremoses->transformers) (7.1.2)\n",
            "Requirement already satisfied: joblib in /usr/local/lib/python3.6/dist-packages (from sacremoses->transformers) (0.17.0)\n",
            "Building wheels for collected packages: sacremoses\n",
            "  Building wheel for sacremoses (setup.py) ... \u001b[?25l\u001b[?25hdone\n",
            "  Created wheel for sacremoses: filename=sacremoses-0.0.43-cp36-none-any.whl size=893257 sha256=f92de16ba7d079e356ee59f03848627d8f96c62ff16dbf8ebf610af301cd0663\n",
            "  Stored in directory: /root/.cache/pip/wheels/29/3c/fd/7ce5c3f0666dab31a50123635e6fb5e19ceb42ce38d4e58f45\n",
            "Successfully built sacremoses\n",
            "Installing collected packages: sacremoses, tokenizers, sentencepiece, transformers\n",
            "Successfully installed sacremoses-0.0.43 sentencepiece-0.1.94 tokenizers-0.9.2 transformers-3.4.0\n"
          ],
          "name": "stdout"
        }
      ]
    },
    {
      "cell_type": "code",
      "metadata": {
        "id": "fGHbfkrfzVWR",
        "outputId": "f16d019c-31f7-476f-c337-ae0c2fd18059",
        "colab": {
          "base_uri": "https://localhost:8080/",
          "height": 332
        }
      },
      "source": [
        "!python3 ./drive/My\\ Drive/run_generation.py \\\n",
        "  --model_type=gpt2 \\\n",
        "  --model_name_or_path='./drive/My Drive/output' \\\n",
        "  --length=1000 \\\n",
        "  --prompt='The pandemic generated by the COVID-19 virus has engulfed our nation' \\\n",
        "  --stop_token='END' \\\n",
        "  --seed=1 \\\n",
        "  --k=100 \\\n",
        "  --repetition_penalty=1 \\\n",
        "  --temperature=1 \\\n",
        "  --num_return_sequences=1"
      ],
      "execution_count": null,
      "outputs": [
        {
          "output_type": "stream",
          "text": [
            "2020-10-13 07:48:17.236180: I tensorflow/stream_executor/platform/default/dso_loader.cc:48] Successfully opened dynamic library libcudart.so.10.1\n",
            "10/13/2020 07:48:19 - WARNING - __main__ -   device: cpu, n_gpu: 0, 16-bits training: False\n",
            "10/13/2020 07:48:46 - INFO - __main__ -   Namespace(device=device(type='cpu'), fp16=False, k=100, length=1000, model_name_or_path='./drive/My Drive/output', model_type='gpt2', n_gpu=0, no_cuda=False, num_return_sequences=1, p=0.9, padding_text='', prefix='', prompt='The pandemic generated by the COVID-19 virus has engulfed our nation', repetition_penalty=1.0, seed=1, stop_token='END', temperature=1.0, xlm_language='')\n",
            "Setting `pad_token_id` to 50256 (first `eos_token_id`) to generate sequence\n",
            "=== GENERATED SEQUENCE 1 ===\n",
            "The pandemic generated by the COVID-19 virus has engulfed our nation and devastated other parts of Europe.\n",
            "I am heartened to have addressed the State of the Nation here today, and the Commonwealth here for the first time in years to discuss the challenges facing all of us.\n",
            "Over many years, it has been the great pleasure of many to work together to achieve a common goal: to abolish all forms of prejudice and discrimination. But the economic, political and social transformation that I know of has been the hallmark of the Commonwealth's transformation over these past years.\n",
            "This progress has been marked by unprecedented economic and social progress and technological innovation. The Commonwealth has been blessed with a large network of trading centres, an unparalleled capacity for people to exchange ideas and communities across the Commonwealth, and a remarkable global network of institutions whose interests and values have been shared across the globe.\n",
            "Since my visit to the Commonwealth in 2002, I have welcomed millions of people, in countries from Indonesia to South East Asia, the Middle East and the Far East, and people from around the world. Today, more than 40 years on, the Commonwealth is a global institution whose membership in every region of the Commonwealth is widely appreciated and recognised as being unparalleled.\n",
            "On behalf of our Nation and all of its members, I say that it is a pleasure to welcome you all.\n",
            "It has been an honour to serve as President of this Association and to provide testimony to the enduring role and influence of the Commonwealth on national and international affairs and the future prosperity and prosperity of our neighbours.\n",
            "These successes have been inspired by the vision of an open and tolerant world for itself. As we have noted many times, it has also been a challenge to meet the challenges of new and old times and seek to encourage progress in science, technology and education, to ensure that the foundations of democratic rule remain strong, and to secure new and better opportunities for all.\n",
            "It is a remarkable achievement that the United Nations has gained a reputation for its global reputation as a defender of human rights. The United Nations Mission for Northern Africa has always been a global institution that brings together the countries of the world in a common purpose. But in recent years the world has been watching closely and has sometimes responded in unexpected ways. That is not always because of the complexities of global affairs.\n",
            "Yet I would like to remind you that the United Nations Mission in Northern Africa remains a unique contribution to the global endeavour. The United Nations Mission aims to address the needs of individuals and their communities and to create an environment conducive to progress in the world's security and prosperity. I believe that, at the same time, it also has the wisdom and resources to address fundamental social, economic and cultural issues.\n",
            "And, I believe, in my lifetime, I have been delighted to witness this United Nations Mission continuing its great contribution to the global stage in the service of human rights, to fight climate change and to strengthen global alliances.\n",
            "I ask you all to follow me on this occasion and to encourage all of you to draw your collective attention to these very important duties. I send you my strongest thanks for your kind words and in recognition of the efforts and energy they bring.<\n"
          ],
          "name": "stdout"
        }
      ]
    },
    {
      "cell_type": "code",
      "metadata": {
        "id": "_VywhbBj7is5",
        "outputId": "52e6971b-61a7-4a57-fc99-6c9e2585b8ac",
        "colab": {
          "base_uri": "https://localhost:8080/",
          "height": 558
        }
      },
      "source": [
        "!python3 ./drive/My\\ Drive/run_generation.py \\\n",
        "  --model_type=gpt2 \\\n",
        "  --model_name_or_path=gpt2 \\\n",
        "  --length=1000 \\\n",
        "  --prompt='The virus' \\\n",
        "  --stop_token='<|endoftext|' \\\n",
        "  --seed=1 \\\n",
        "  --k=100 \\\n",
        "  --repetition_penalty=1 \\\n",
        "  --temperature=1 \\\n",
        "  --num_return_sequences=1"
      ],
      "execution_count": null,
      "outputs": [
        {
          "output_type": "stream",
          "text": [
            "2020-10-13 07:58:34.733253: I tensorflow/stream_executor/platform/default/dso_loader.cc:48] Successfully opened dynamic library libcudart.so.10.1\n",
            "10/13/2020 07:58:36 - WARNING - __main__ -   device: cpu, n_gpu: 0, 16-bits training: False\n",
            "10/13/2020 07:58:45 - INFO - __main__ -   Namespace(device=device(type='cpu'), fp16=False, k=100, length=1000, model_name_or_path='gpt2', model_type='gpt2', n_gpu=0, no_cuda=False, num_return_sequences=1, p=0.9, padding_text='', prefix='', prompt='The virus', repetition_penalty=1.0, seed=1, stop_token='<|endoftext|', temperature=1.0, xlm_language='')\n",
            "Setting `pad_token_id` to 50256 (first `eos_token_id`) to generate sequence\n",
            "=== GENERATED SEQUENCE 1 ===\n",
            "The virus itself was resistant to the most rigorous antiviral medicines, but now those drugs include those that were previously resistant to the virus.\n",
            "\n",
            "These were the first time that the virus was resistant to all antiviral drugs, as many of the drugs currently in the market could kill it without using their protective antiviral drugs.\n",
            "\n",
            "\"Since it had been considered safe for the first time, it's clear that it will be possible to eradicate the virus once and for all,\" said Janna Farsali, a PhD student in Pathology and Infection Research at Stanford University.\n",
            "\n",
            "The researchers used three different drugs against the virus to kill it before it could grow again. They reported the results of the study at a meeting in London.\n",
            "\n",
            "This week, scientists reported another case of a viral infection resistant to most antiviral drugs, leading to widespread public debate about what to do about it.\n",
            "\n",
            "Related: Scientists say the odds of a 'bacteria-killer' killing humans are not exactly straight\n",
            "\n",
            "Previous tests and cases of the virus were small, but now it's been shown that a common antibiotic, thiamine, can kill this very bacteria in a way that can kill a large number of bacteria and cells, Farsali and her colleagues reported.\n",
            "\n",
            "It's the first time that a virus has been linked to the spread of a virus that is almost completely resistant to those antibiotics, Farsali said.\n",
            "\n",
            "\"There are three drugs that are a strong candidate for this virus,\" she said.\n",
            "\n",
            "The researchers used these antibiotics and used a technique known as double-strand-labeling. The researchers used this method to produce three drug-resistant strains of Ebola that are resistant to the main drug thiamine, and also could be used to stop other drugs in use from doing so.\n",
            "\n",
            "It also stopped a second drug called quinine. \"This demonstrates that a novel antimicrobial agent capable of killing a very large proportion of infected cells should have a very short-acting shelf life to kill it,\" Farsali said.\n",
            "\n",
            "The researchers used this method to use three different drugs against the virus, and the first two were tested in monkeys, Farsali said.\n",
            "\n",
            "Three new strains of Ebola were found to be resistant to thiamine in humans — the other three being thiamine-resistant strains from a study at the Massachusetts General Hospital (MassHealth). The next group of three drugs to be tested in humans were from a study at University College London, which has recently been published in Clinical and Experimental Research.\n"
          ],
          "name": "stdout"
        }
      ]
    },
    {
      "cell_type": "code",
      "metadata": {
        "id": "Shg4erv88BDS",
        "outputId": "204536ab-4647-472b-8dd0-dd98d43591d3",
        "colab": {
          "base_uri": "https://localhost:8080/",
          "height": 558
        }
      },
      "source": [
        "!python3 ./drive/My\\ Drive/run_generation.py \\\n",
        "  --model_type=gpt2 \\\n",
        "  --model_name_or_path=gpt2 \\\n",
        "  --length=1000 \\\n",
        "  --prompt='The pandemic generated by the COVID-19 virus has engulfed our nation' \\\n",
        "  --stop_token='<|endoftext|' \\\n",
        "  --seed=2 \\\n",
        "  --k=100 \\\n",
        "  --repetition_penalty=1 \\\n",
        "  --temperature=1 \\\n",
        "  --num_return_sequences=1"
      ],
      "execution_count": null,
      "outputs": [
        {
          "output_type": "stream",
          "text": [
            "2020-10-13 08:01:27.046765: I tensorflow/stream_executor/platform/default/dso_loader.cc:48] Successfully opened dynamic library libcudart.so.10.1\n",
            "10/13/2020 08:01:29 - WARNING - __main__ -   device: cpu, n_gpu: 0, 16-bits training: False\n",
            "10/13/2020 08:01:37 - INFO - __main__ -   Namespace(device=device(type='cpu'), fp16=False, k=100, length=1000, model_name_or_path='gpt2', model_type='gpt2', n_gpu=0, no_cuda=False, num_return_sequences=1, p=0.9, padding_text='', prefix='', prompt='The pandemic generated by the COVID-19 virus has engulfed our nation', repetition_penalty=1.0, seed=2, stop_token='<|endoftext|', temperature=1.0, xlm_language='')\n",
            "Setting `pad_token_id` to 50256 (first `eos_token_id`) to generate sequence\n",
            "=== GENERATED SEQUENCE 1 ===\n",
            "The pandemic generated by the COVID-19 virus has engulfed our nation for decades. We must act now and use the best available resources to combat it now. We have an opportunity to act now, and you have a role to play.\n",
            "\n",
            "\"And in many cases we can also learn about the consequences of climate change by working with a partner that is a leader in this issue. We may not be the strongest party, but we're going to work with a government that is prepared to take this issue seriously and we can work with them to fix this issue. This is a serious threat to our children and our national security, but we can work together. \"\n",
            "\n",
            "The Democratic Party is not a government party. As the campaign progressed, they began to build a consensus that this issue would be a serious and urgent issue of concern. These two parties have been divided along party lines and shared many of the same beliefs and attitudes about issues. Many of us felt they would be open to addressing this issue. While the leadership of the Democratic Party is divided, the campaign team continues to work with the Clinton campaign to engage those who felt that the issues were important.\n",
            "\n",
            "One of the most important issues that the Democratic Party has been focused on in its recent cycle of action is education. Prior to the launch of Clinton's education platform in 2008, the Democratic Party had not built a comprehensive public education platform for any of its candidates. That is part of the reason why the current Democratic Party platform is far from comprehensive. There is simply too little information available about education issues to effectively engage students about them and how to teach them about and work with these issues.\n",
            "\n",
            "I've seen these issues and the debates that have unfolded within the Democratic Party. The Obama administration's actions have clearly and unequivocally focused on education. It is time to get rid of the old bipartisan framework that is one of the pillars of the Obama administration, one that was established in 1994, one that has led to a lack of action to address these issues. We can achieve these things without passing legislation. The focus is on getting these bills passed, working with Congress on specific steps.\n",
            "\n",
            "The campaign of Hillary Clinton and her top strategist, former Secretary of State John Kerry, has taken several steps to address the climate change issue. First, they began making the case for a Paris deal and that was followed in their second campaign. The policy on climate change that Kerry adopted in Paris in October and which the Clinton campaign has adopted in all of their major media campaigns is a climate change agenda. And many of the candidates in the Democratic Party, including our own top candidate, Bernie Sanders, have offered climate change as a legitimate and important policy issue.\n",
            "\n",
            "The Democratic Party has a long history of fighting in this area, even in their own caucus, for progressive policies to address issues of concern. That's part of the reason why we need to move forward on this issue and build on the progress that is already being made by every Democratic candidate.\n",
            "\n",
            "These policies will get us to the next step of a national environmental strategy. And the campaigns, including Sanders and his team, are on an unprecedented mission to do that. This is a serious issue that we will have to be able to address, and it's important that our grassroots leaders will stand up to the President and push for this.\n",
            "\n",
            "The fact that so many major candidates are backing this kind of policy shift — but it will take time — is another story. Bernie Sanders has pledged that he will work with his allies in Congress on a long-term economic and economic plan. The next campaign must ask its party members to work together to advance policies that advance this issue.\n",
            "\n",
            "The issue is not a problem in Washington. The issue is a challenge that needs to be confronted. What I see happening as we fight this issue is that we get more and more people on the political left and the right, and more and more people on the Democratic side, talking about policies that can move the country forward, but also those that focus on just one specific issue, or, on one issue at a time.\n",
            "\n",
            "And to address this issue, we need an opportunity to work together, to work with the people in this country, to work with members of the media, and we can address the issues we face, the issues that we face, that are taking place right now.\n",
            "\n",
            "This issue also has the potential to be a national issue for the 21st century. When we talk about climate change and the risks that it poses to the American people, we're going to talk about jobs and the investments that we are making in schools, in the middle classes, in communities that don't have enough people who are economically prepared and who are able to invest in their homes.\n",
            "\n",
            "In this campaign, we need to be talking about economic issues, not environmental issues. This issue is a major issue that is on the national agenda, and it should be addressed immediately, and at a time when America is struggling t\n"
          ],
          "name": "stdout"
        }
      ]
    },
    {
      "cell_type": "code",
      "metadata": {
        "id": "8NofbAy5xDXc",
        "outputId": "58d981ac-d2dd-4565-ae7e-95975333350c",
        "colab": {
          "base_uri": "https://localhost:8080/",
          "height": 402
        }
      },
      "source": [
        "!python3 ./drive/My\\ Drive/run_generation.py \\\n",
        "  --model_type=gpt2 \\\n",
        "  --model_name_or_path='./drive/My Drive/output' \\\n",
        "  --length=300 \\\n",
        "  --prompt=\"The pandemic generated by the COVID-19 virus has engulfed our nation since February of this year\" \\\n",
        "  --prompt=\"Furthermore, the withdrawal of the United Kingdom from the European Union\" \\\n",
        "  --prompt=\"Finally, Lionel Messi\" \\\n",
        "  --stop_token='<END>' \\\n",
        "  --seed=4 \\\n",
        "  --k=100 \\\n",
        "  --repetition_penalty=1 \\\n",
        "  --temperature=1"
      ],
      "execution_count": 47,
      "outputs": [
        {
          "output_type": "stream",
          "text": [
            "2020-10-27 17:26:33.899136: I tensorflow/stream_executor/platform/default/dso_loader.cc:48] Successfully opened dynamic library libcudart.so.10.1\n",
            "['The pandemic generated by the COVID-19 virus has engulfed our nation since February of this year', 'Furthermore, the withdrawal of the United Kingdom from the European Union', 'Finally, Lionel Messi']\n",
            "3\n",
            "10/27/2020 17:26:36 - WARNING - __main__ -   device: cpu, n_gpu: 0, 16-bits training: False\n",
            "10/27/2020 17:26:42 - INFO - __main__ -   Namespace(device=device(type='cpu'), fp16=False, k=100, length=300, model_name_or_path='./drive/My Drive/output', model_type='gpt2', n_gpu=0, n_prompt=0, no_cuda=False, num_return_sequences=1, p=0.9, padding_text='', prefix='', prompt=['The pandemic generated by the COVID-19 virus has engulfed our nation since February of this year', 'Furthermore, the withdrawal of the United Kingdom from the European Union', 'Finally, Lionel Messi'], repetition_penalty=1.0, seed=4, stop_token='<END>', temperature=1.0, xlm_language='')\n",
            "Setting `pad_token_id` to 50256 (first `eos_token_id`) to generate sequence\n",
            "Setting `pad_token_id` to 50256 (first `eos_token_id`) to generate sequence\n",
            "Setting `pad_token_id` to 50256 (first `eos_token_id`) to generate sequence\n",
            "=== GENERATED SPEECH ===\n",
            "The pandemic generated by the COVID-19 virus has engulfed our nation since February of this year.\n",
            "There are, of course, other diseases too, all too often exacerbated by the global economy, but at the same time there are also many signs that many others are under threat. As we travel, we are reminded that we need to be cautious about the spread of contagious disease and I can only wonder what many of those who are afflicted will do to stop it. The best protection we can offer is our health.\n",
            "In the end, we are watching this and all it has to offer, especially the vaccine and the help needed by health workers, who work tirelessly to prevent and cure a global pandemic. The health services in this country, their professionalism, their generosity and their determination to rescue and help must all be commended.\n",
            "It is also the duty of the health service to provide a safe haven for those in need as we endeavour to reduce the impact of infectious diseases on their spread. I know many more people who will need your help to stop this from happening, especially those who wish to learn about the consequences of their actions, the importance of giving to them, and their efforts to fight disease in the other countries in the World Health Organisation.\n",
            "\n",
            "Furthermore, the withdrawal of the United Kingdom from the European Union and continuing relations with our NATO allies gives us pause, both in regard to the wider challenges of the 21st century and for the global effort to end the threat posed by this devastating disease.\n",
            "I send my warmest congratulations to the families, friends, neighbours and colleagues of those who have died in this terrible pandemic. Many of you may recall the events of last week. There have been many tragic injuries, but at this critical moment in time we should remember the strength of the strength of those who fought it and the courage of those who sustained their injuries. We should remember how much of the effort went into responding to the deadly outbreaks, which saw more than 300 people killed. But we need to be mindful of what remains of the legacy of this terrible outbreak and the magnitude of the damage it may have caused.\n",
            "During the last four weeks I have visited many countries affected by the disaster. And in doing so I have gathered, in great detail, information about the many thousands of patients affected. I have asked them to give me a few more images of what is happening. The experience is clear, however, of the devastating effects on the world at large - the rise of terrorism and the rise of extremism, of global poverty and of an industrial age dominated by a global economy. But it is also clear that the real threat is not just in the United Kingdom, but in other parts of the world as well.\n",
            "\n",
            "Finally, Lionel Messi's family, with a strong attachment to our two great countries, are asking us to look to the future for assistance in dealing with the terrible event that followed. It is important to remember the very real and enduring value of the friendship and care between Mr. Messi and his family. I do not think we can allow that to be undermined. They are very conscious of the need to treat all of their members with the respect and humanity of a family who are as much members of their country and nation as the people of their home country.\n",
            "My message to you in these words was simply that the world, including Mr. Messi himself, must remain secure, free from the ravages of global poverty. We have no right to be complacent. The world needs to remember that the United Kingdom is a proud, strong and dynamic nation. The United Kingdom's international reputation can and should be maintained, and will continue to be maintained. We need to remember that the United Kingdom was not without challenges in its relationship with NATO and the other international organisations, and that it does not have to suffer for the sake of others; we, therefore, owe so much to this nation.\n",
            "\n"
          ],
          "name": "stdout"
        }
      ]
    },
    {
      "cell_type": "code",
      "metadata": {
        "id": "EBZie81DQrQF",
        "outputId": "6cd37bcf-49eb-4ea0-cd62-cf8e4408dfc2",
        "colab": {
          "base_uri": "https://localhost:8080/",
          "height": 799
        }
      },
      "source": [
        "!python3 ./drive/My\\ Drive/run_generation.py --help"
      ],
      "execution_count": 25,
      "outputs": [
        {
          "output_type": "stream",
          "text": [
            "2020-10-27 13:33:29.223367: I tensorflow/stream_executor/platform/default/dso_loader.cc:48] Successfully opened dynamic library libcudart.so.10.1\n",
            "usage: run_generation.py [-h] --model_type MODEL_TYPE --model_name_or_path\n",
            "                         MODEL_NAME_OR_PATH [--n_prompt N_PROMPT]\n",
            "                         [--prompt PROMPT] [--length LENGTH]\n",
            "                         [--stop_token STOP_TOKEN] [--temperature TEMPERATURE]\n",
            "                         [--repetition_penalty REPETITION_PENALTY] [--k K]\n",
            "                         [--p P] [--prefix PREFIX]\n",
            "                         [--padding_text PADDING_TEXT]\n",
            "                         [--xlm_language XLM_LANGUAGE] [--seed SEED]\n",
            "                         [--no_cuda]\n",
            "                         [--num_return_sequences NUM_RETURN_SEQUENCES]\n",
            "                         [--fp16]\n",
            "\n",
            "optional arguments:\n",
            "  -h, --help            show this help message and exit\n",
            "  --model_type MODEL_TYPE\n",
            "                        Model type selected in the list: gpt2, ctrl, openai-\n",
            "                        gpt, xlnet, transfo-xl, xlm\n",
            "  --model_name_or_path MODEL_NAME_OR_PATH\n",
            "                        Path to pre-trained model or shortcut name selected in\n",
            "                        the list: gpt2, ctrl, openai-gpt, xlnet, transfo-xl,\n",
            "                        xlm\n",
            "  --n_prompt N_PROMPT\n",
            "  --prompt PROMPT\n",
            "  --length LENGTH\n",
            "  --stop_token STOP_TOKEN\n",
            "                        Token at which text generation is stopped\n",
            "  --temperature TEMPERATURE\n",
            "                        temperature of 1.0 has no effect, lower tend toward\n",
            "                        greedy sampling\n",
            "  --repetition_penalty REPETITION_PENALTY\n",
            "                        primarily useful for CTRL model; in that case, use 1.2\n",
            "  --k K\n",
            "  --p P\n",
            "  --prefix PREFIX       Text added prior to input.\n",
            "  --padding_text PADDING_TEXT\n",
            "                        Deprecated, the use of `--prefix` is preferred.\n",
            "  --xlm_language XLM_LANGUAGE\n",
            "                        Optional language when used with the XLM model.\n",
            "  --seed SEED           random seed for initialization\n",
            "  --no_cuda             Avoid using CUDA when available\n",
            "  --num_return_sequences NUM_RETURN_SEQUENCES\n",
            "                        The number of samples to generate.\n",
            "  --fp16                Whether to use 16-bit (mixed) precision (through\n",
            "                        NVIDIA apex) instead of 32-bit\n"
          ],
          "name": "stdout"
        }
      ]
    }
  ]
}