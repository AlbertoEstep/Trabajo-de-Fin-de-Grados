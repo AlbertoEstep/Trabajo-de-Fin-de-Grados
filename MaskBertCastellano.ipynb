{
  "nbformat": 4,
  "nbformat_minor": 0,
  "metadata": {
    "colab": {
      "name": "MaskBertCastellano.ipynb",
      "provenance": [],
      "collapsed_sections": [],
      "toc_visible": true
    },
    "kernelspec": {
      "name": "python3",
      "display_name": "Python 3"
    },
    "widgets": {
      "application/vnd.jupyter.widget-state+json": {
        "4bfc64fd8f1f48068a2b2d831cd66ef0": {
          "model_module": "@jupyter-widgets/controls",
          "model_name": "HBoxModel",
          "state": {
            "_view_name": "HBoxView",
            "_dom_classes": [],
            "_model_name": "HBoxModel",
            "_view_module": "@jupyter-widgets/controls",
            "_model_module_version": "1.5.0",
            "_view_count": null,
            "_view_module_version": "1.5.0",
            "box_style": "",
            "layout": "IPY_MODEL_47cc687a1b324a1ca072c0c9e3caecbe",
            "_model_module": "@jupyter-widgets/controls",
            "children": [
              "IPY_MODEL_b7ded86a959446c78a7e254fb0d57a96",
              "IPY_MODEL_85b90396473543a6a7f268d0989850e5"
            ]
          }
        },
        "47cc687a1b324a1ca072c0c9e3caecbe": {
          "model_module": "@jupyter-widgets/base",
          "model_name": "LayoutModel",
          "state": {
            "_view_name": "LayoutView",
            "grid_template_rows": null,
            "right": null,
            "justify_content": null,
            "_view_module": "@jupyter-widgets/base",
            "overflow": null,
            "_model_module_version": "1.2.0",
            "_view_count": null,
            "flex_flow": null,
            "width": null,
            "min_width": null,
            "border": null,
            "align_items": null,
            "bottom": null,
            "_model_module": "@jupyter-widgets/base",
            "top": null,
            "grid_column": null,
            "overflow_y": null,
            "overflow_x": null,
            "grid_auto_flow": null,
            "grid_area": null,
            "grid_template_columns": null,
            "flex": null,
            "_model_name": "LayoutModel",
            "justify_items": null,
            "grid_row": null,
            "max_height": null,
            "align_content": null,
            "visibility": null,
            "align_self": null,
            "height": null,
            "min_height": null,
            "padding": null,
            "grid_auto_rows": null,
            "grid_gap": null,
            "max_width": null,
            "order": null,
            "_view_module_version": "1.2.0",
            "grid_template_areas": null,
            "object_position": null,
            "object_fit": null,
            "grid_auto_columns": null,
            "margin": null,
            "display": null,
            "left": null
          }
        },
        "b7ded86a959446c78a7e254fb0d57a96": {
          "model_module": "@jupyter-widgets/controls",
          "model_name": "FloatProgressModel",
          "state": {
            "_view_name": "ProgressView",
            "style": "IPY_MODEL_fd284f6e65e9472d89c80882c28d7ea1",
            "_dom_classes": [],
            "description": "Downloading: 100%",
            "_model_name": "FloatProgressModel",
            "bar_style": "success",
            "max": 456,
            "_view_module": "@jupyter-widgets/controls",
            "_model_module_version": "1.5.0",
            "value": 456,
            "_view_count": null,
            "_view_module_version": "1.5.0",
            "orientation": "horizontal",
            "min": 0,
            "description_tooltip": null,
            "_model_module": "@jupyter-widgets/controls",
            "layout": "IPY_MODEL_988b097976a44813b6830d523c3366ea"
          }
        },
        "85b90396473543a6a7f268d0989850e5": {
          "model_module": "@jupyter-widgets/controls",
          "model_name": "HTMLModel",
          "state": {
            "_view_name": "HTMLView",
            "style": "IPY_MODEL_34f8cce26431478bb304ae4d87c06d1e",
            "_dom_classes": [],
            "description": "",
            "_model_name": "HTMLModel",
            "placeholder": "​",
            "_view_module": "@jupyter-widgets/controls",
            "_model_module_version": "1.5.0",
            "value": " 456/456 [00:10&lt;00:00, 43.9B/s]",
            "_view_count": null,
            "_view_module_version": "1.5.0",
            "description_tooltip": null,
            "_model_module": "@jupyter-widgets/controls",
            "layout": "IPY_MODEL_3304ea9b2add4e6988c965e566eb33c7"
          }
        },
        "fd284f6e65e9472d89c80882c28d7ea1": {
          "model_module": "@jupyter-widgets/controls",
          "model_name": "ProgressStyleModel",
          "state": {
            "_view_name": "StyleView",
            "_model_name": "ProgressStyleModel",
            "description_width": "initial",
            "_view_module": "@jupyter-widgets/base",
            "_model_module_version": "1.5.0",
            "_view_count": null,
            "_view_module_version": "1.2.0",
            "bar_color": null,
            "_model_module": "@jupyter-widgets/controls"
          }
        },
        "988b097976a44813b6830d523c3366ea": {
          "model_module": "@jupyter-widgets/base",
          "model_name": "LayoutModel",
          "state": {
            "_view_name": "LayoutView",
            "grid_template_rows": null,
            "right": null,
            "justify_content": null,
            "_view_module": "@jupyter-widgets/base",
            "overflow": null,
            "_model_module_version": "1.2.0",
            "_view_count": null,
            "flex_flow": null,
            "width": null,
            "min_width": null,
            "border": null,
            "align_items": null,
            "bottom": null,
            "_model_module": "@jupyter-widgets/base",
            "top": null,
            "grid_column": null,
            "overflow_y": null,
            "overflow_x": null,
            "grid_auto_flow": null,
            "grid_area": null,
            "grid_template_columns": null,
            "flex": null,
            "_model_name": "LayoutModel",
            "justify_items": null,
            "grid_row": null,
            "max_height": null,
            "align_content": null,
            "visibility": null,
            "align_self": null,
            "height": null,
            "min_height": null,
            "padding": null,
            "grid_auto_rows": null,
            "grid_gap": null,
            "max_width": null,
            "order": null,
            "_view_module_version": "1.2.0",
            "grid_template_areas": null,
            "object_position": null,
            "object_fit": null,
            "grid_auto_columns": null,
            "margin": null,
            "display": null,
            "left": null
          }
        },
        "34f8cce26431478bb304ae4d87c06d1e": {
          "model_module": "@jupyter-widgets/controls",
          "model_name": "DescriptionStyleModel",
          "state": {
            "_view_name": "StyleView",
            "_model_name": "DescriptionStyleModel",
            "description_width": "",
            "_view_module": "@jupyter-widgets/base",
            "_model_module_version": "1.5.0",
            "_view_count": null,
            "_view_module_version": "1.2.0",
            "_model_module": "@jupyter-widgets/controls"
          }
        },
        "3304ea9b2add4e6988c965e566eb33c7": {
          "model_module": "@jupyter-widgets/base",
          "model_name": "LayoutModel",
          "state": {
            "_view_name": "LayoutView",
            "grid_template_rows": null,
            "right": null,
            "justify_content": null,
            "_view_module": "@jupyter-widgets/base",
            "overflow": null,
            "_model_module_version": "1.2.0",
            "_view_count": null,
            "flex_flow": null,
            "width": null,
            "min_width": null,
            "border": null,
            "align_items": null,
            "bottom": null,
            "_model_module": "@jupyter-widgets/base",
            "top": null,
            "grid_column": null,
            "overflow_y": null,
            "overflow_x": null,
            "grid_auto_flow": null,
            "grid_area": null,
            "grid_template_columns": null,
            "flex": null,
            "_model_name": "LayoutModel",
            "justify_items": null,
            "grid_row": null,
            "max_height": null,
            "align_content": null,
            "visibility": null,
            "align_self": null,
            "height": null,
            "min_height": null,
            "padding": null,
            "grid_auto_rows": null,
            "grid_gap": null,
            "max_width": null,
            "order": null,
            "_view_module_version": "1.2.0",
            "grid_template_areas": null,
            "object_position": null,
            "object_fit": null,
            "grid_auto_columns": null,
            "margin": null,
            "display": null,
            "left": null
          }
        },
        "aa4cd98b483c436bb04e1a868e16ad5c": {
          "model_module": "@jupyter-widgets/controls",
          "model_name": "HBoxModel",
          "state": {
            "_view_name": "HBoxView",
            "_dom_classes": [],
            "_model_name": "HBoxModel",
            "_view_module": "@jupyter-widgets/controls",
            "_model_module_version": "1.5.0",
            "_view_count": null,
            "_view_module_version": "1.5.0",
            "box_style": "",
            "layout": "IPY_MODEL_679926c503564533a0f0f0c287144572",
            "_model_module": "@jupyter-widgets/controls",
            "children": [
              "IPY_MODEL_f824b9d185304a3eba25159570e7f1db",
              "IPY_MODEL_5d8d31bf2fd842aaa81b2fb5aa0dc560"
            ]
          }
        },
        "679926c503564533a0f0f0c287144572": {
          "model_module": "@jupyter-widgets/base",
          "model_name": "LayoutModel",
          "state": {
            "_view_name": "LayoutView",
            "grid_template_rows": null,
            "right": null,
            "justify_content": null,
            "_view_module": "@jupyter-widgets/base",
            "overflow": null,
            "_model_module_version": "1.2.0",
            "_view_count": null,
            "flex_flow": null,
            "width": null,
            "min_width": null,
            "border": null,
            "align_items": null,
            "bottom": null,
            "_model_module": "@jupyter-widgets/base",
            "top": null,
            "grid_column": null,
            "overflow_y": null,
            "overflow_x": null,
            "grid_auto_flow": null,
            "grid_area": null,
            "grid_template_columns": null,
            "flex": null,
            "_model_name": "LayoutModel",
            "justify_items": null,
            "grid_row": null,
            "max_height": null,
            "align_content": null,
            "visibility": null,
            "align_self": null,
            "height": null,
            "min_height": null,
            "padding": null,
            "grid_auto_rows": null,
            "grid_gap": null,
            "max_width": null,
            "order": null,
            "_view_module_version": "1.2.0",
            "grid_template_areas": null,
            "object_position": null,
            "object_fit": null,
            "grid_auto_columns": null,
            "margin": null,
            "display": null,
            "left": null
          }
        },
        "f824b9d185304a3eba25159570e7f1db": {
          "model_module": "@jupyter-widgets/controls",
          "model_name": "FloatProgressModel",
          "state": {
            "_view_name": "ProgressView",
            "style": "IPY_MODEL_040c306dabf64619b7b125b414c4ebf5",
            "_dom_classes": [],
            "description": "Downloading: 100%",
            "_model_name": "FloatProgressModel",
            "bar_style": "success",
            "max": 441944381,
            "_view_module": "@jupyter-widgets/controls",
            "_model_module_version": "1.5.0",
            "value": 441944381,
            "_view_count": null,
            "_view_module_version": "1.5.0",
            "orientation": "horizontal",
            "min": 0,
            "description_tooltip": null,
            "_model_module": "@jupyter-widgets/controls",
            "layout": "IPY_MODEL_6e163e893d5142d0a2e948cd4cc8242d"
          }
        },
        "5d8d31bf2fd842aaa81b2fb5aa0dc560": {
          "model_module": "@jupyter-widgets/controls",
          "model_name": "HTMLModel",
          "state": {
            "_view_name": "HTMLView",
            "style": "IPY_MODEL_88e44c299302466084176677b7dca00d",
            "_dom_classes": [],
            "description": "",
            "_model_name": "HTMLModel",
            "placeholder": "​",
            "_view_module": "@jupyter-widgets/controls",
            "_model_module_version": "1.5.0",
            "value": " 442M/442M [00:09&lt;00:00, 48.8MB/s]",
            "_view_count": null,
            "_view_module_version": "1.5.0",
            "description_tooltip": null,
            "_model_module": "@jupyter-widgets/controls",
            "layout": "IPY_MODEL_24b914cd66fc42d0b01c6b3ef539bcb2"
          }
        },
        "040c306dabf64619b7b125b414c4ebf5": {
          "model_module": "@jupyter-widgets/controls",
          "model_name": "ProgressStyleModel",
          "state": {
            "_view_name": "StyleView",
            "_model_name": "ProgressStyleModel",
            "description_width": "initial",
            "_view_module": "@jupyter-widgets/base",
            "_model_module_version": "1.5.0",
            "_view_count": null,
            "_view_module_version": "1.2.0",
            "bar_color": null,
            "_model_module": "@jupyter-widgets/controls"
          }
        },
        "6e163e893d5142d0a2e948cd4cc8242d": {
          "model_module": "@jupyter-widgets/base",
          "model_name": "LayoutModel",
          "state": {
            "_view_name": "LayoutView",
            "grid_template_rows": null,
            "right": null,
            "justify_content": null,
            "_view_module": "@jupyter-widgets/base",
            "overflow": null,
            "_model_module_version": "1.2.0",
            "_view_count": null,
            "flex_flow": null,
            "width": null,
            "min_width": null,
            "border": null,
            "align_items": null,
            "bottom": null,
            "_model_module": "@jupyter-widgets/base",
            "top": null,
            "grid_column": null,
            "overflow_y": null,
            "overflow_x": null,
            "grid_auto_flow": null,
            "grid_area": null,
            "grid_template_columns": null,
            "flex": null,
            "_model_name": "LayoutModel",
            "justify_items": null,
            "grid_row": null,
            "max_height": null,
            "align_content": null,
            "visibility": null,
            "align_self": null,
            "height": null,
            "min_height": null,
            "padding": null,
            "grid_auto_rows": null,
            "grid_gap": null,
            "max_width": null,
            "order": null,
            "_view_module_version": "1.2.0",
            "grid_template_areas": null,
            "object_position": null,
            "object_fit": null,
            "grid_auto_columns": null,
            "margin": null,
            "display": null,
            "left": null
          }
        },
        "88e44c299302466084176677b7dca00d": {
          "model_module": "@jupyter-widgets/controls",
          "model_name": "DescriptionStyleModel",
          "state": {
            "_view_name": "StyleView",
            "_model_name": "DescriptionStyleModel",
            "description_width": "",
            "_view_module": "@jupyter-widgets/base",
            "_model_module_version": "1.5.0",
            "_view_count": null,
            "_view_module_version": "1.2.0",
            "_model_module": "@jupyter-widgets/controls"
          }
        },
        "24b914cd66fc42d0b01c6b3ef539bcb2": {
          "model_module": "@jupyter-widgets/base",
          "model_name": "LayoutModel",
          "state": {
            "_view_name": "LayoutView",
            "grid_template_rows": null,
            "right": null,
            "justify_content": null,
            "_view_module": "@jupyter-widgets/base",
            "overflow": null,
            "_model_module_version": "1.2.0",
            "_view_count": null,
            "flex_flow": null,
            "width": null,
            "min_width": null,
            "border": null,
            "align_items": null,
            "bottom": null,
            "_model_module": "@jupyter-widgets/base",
            "top": null,
            "grid_column": null,
            "overflow_y": null,
            "overflow_x": null,
            "grid_auto_flow": null,
            "grid_area": null,
            "grid_template_columns": null,
            "flex": null,
            "_model_name": "LayoutModel",
            "justify_items": null,
            "grid_row": null,
            "max_height": null,
            "align_content": null,
            "visibility": null,
            "align_self": null,
            "height": null,
            "min_height": null,
            "padding": null,
            "grid_auto_rows": null,
            "grid_gap": null,
            "max_width": null,
            "order": null,
            "_view_module_version": "1.2.0",
            "grid_template_areas": null,
            "object_position": null,
            "object_fit": null,
            "grid_auto_columns": null,
            "margin": null,
            "display": null,
            "left": null
          }
        },
        "2e4797e8e2e24ff09ee90b08a64b45c5": {
          "model_module": "@jupyter-widgets/controls",
          "model_name": "HBoxModel",
          "state": {
            "_view_name": "HBoxView",
            "_dom_classes": [],
            "_model_name": "HBoxModel",
            "_view_module": "@jupyter-widgets/controls",
            "_model_module_version": "1.5.0",
            "_view_count": null,
            "_view_module_version": "1.5.0",
            "box_style": "",
            "layout": "IPY_MODEL_ffba9f546f364ed6ac968b1bfca5f43a",
            "_model_module": "@jupyter-widgets/controls",
            "children": [
              "IPY_MODEL_de11fc070048462090254e611592962e",
              "IPY_MODEL_83342006a6224555bf54c092610c0bc7"
            ]
          }
        },
        "ffba9f546f364ed6ac968b1bfca5f43a": {
          "model_module": "@jupyter-widgets/base",
          "model_name": "LayoutModel",
          "state": {
            "_view_name": "LayoutView",
            "grid_template_rows": null,
            "right": null,
            "justify_content": null,
            "_view_module": "@jupyter-widgets/base",
            "overflow": null,
            "_model_module_version": "1.2.0",
            "_view_count": null,
            "flex_flow": null,
            "width": null,
            "min_width": null,
            "border": null,
            "align_items": null,
            "bottom": null,
            "_model_module": "@jupyter-widgets/base",
            "top": null,
            "grid_column": null,
            "overflow_y": null,
            "overflow_x": null,
            "grid_auto_flow": null,
            "grid_area": null,
            "grid_template_columns": null,
            "flex": null,
            "_model_name": "LayoutModel",
            "justify_items": null,
            "grid_row": null,
            "max_height": null,
            "align_content": null,
            "visibility": null,
            "align_self": null,
            "height": null,
            "min_height": null,
            "padding": null,
            "grid_auto_rows": null,
            "grid_gap": null,
            "max_width": null,
            "order": null,
            "_view_module_version": "1.2.0",
            "grid_template_areas": null,
            "object_position": null,
            "object_fit": null,
            "grid_auto_columns": null,
            "margin": null,
            "display": null,
            "left": null
          }
        },
        "de11fc070048462090254e611592962e": {
          "model_module": "@jupyter-widgets/controls",
          "model_name": "FloatProgressModel",
          "state": {
            "_view_name": "ProgressView",
            "style": "IPY_MODEL_0375eef001424f34a187bc63a374fa51",
            "_dom_classes": [],
            "description": "Downloading: 100%",
            "_model_name": "FloatProgressModel",
            "bar_style": "success",
            "max": 242120,
            "_view_module": "@jupyter-widgets/controls",
            "_model_module_version": "1.5.0",
            "value": 242120,
            "_view_count": null,
            "_view_module_version": "1.5.0",
            "orientation": "horizontal",
            "min": 0,
            "description_tooltip": null,
            "_model_module": "@jupyter-widgets/controls",
            "layout": "IPY_MODEL_b0d6caa7328e444eb1c47438c525458a"
          }
        },
        "83342006a6224555bf54c092610c0bc7": {
          "model_module": "@jupyter-widgets/controls",
          "model_name": "HTMLModel",
          "state": {
            "_view_name": "HTMLView",
            "style": "IPY_MODEL_9cbe2647524f4121ab4e2836e7539ef9",
            "_dom_classes": [],
            "description": "",
            "_model_name": "HTMLModel",
            "placeholder": "​",
            "_view_module": "@jupyter-widgets/controls",
            "_model_module_version": "1.5.0",
            "value": " 242k/242k [00:00&lt;00:00, 535kB/s]",
            "_view_count": null,
            "_view_module_version": "1.5.0",
            "description_tooltip": null,
            "_model_module": "@jupyter-widgets/controls",
            "layout": "IPY_MODEL_efa7c0bf8c7c4b15ba53687da72b2da7"
          }
        },
        "0375eef001424f34a187bc63a374fa51": {
          "model_module": "@jupyter-widgets/controls",
          "model_name": "ProgressStyleModel",
          "state": {
            "_view_name": "StyleView",
            "_model_name": "ProgressStyleModel",
            "description_width": "initial",
            "_view_module": "@jupyter-widgets/base",
            "_model_module_version": "1.5.0",
            "_view_count": null,
            "_view_module_version": "1.2.0",
            "bar_color": null,
            "_model_module": "@jupyter-widgets/controls"
          }
        },
        "b0d6caa7328e444eb1c47438c525458a": {
          "model_module": "@jupyter-widgets/base",
          "model_name": "LayoutModel",
          "state": {
            "_view_name": "LayoutView",
            "grid_template_rows": null,
            "right": null,
            "justify_content": null,
            "_view_module": "@jupyter-widgets/base",
            "overflow": null,
            "_model_module_version": "1.2.0",
            "_view_count": null,
            "flex_flow": null,
            "width": null,
            "min_width": null,
            "border": null,
            "align_items": null,
            "bottom": null,
            "_model_module": "@jupyter-widgets/base",
            "top": null,
            "grid_column": null,
            "overflow_y": null,
            "overflow_x": null,
            "grid_auto_flow": null,
            "grid_area": null,
            "grid_template_columns": null,
            "flex": null,
            "_model_name": "LayoutModel",
            "justify_items": null,
            "grid_row": null,
            "max_height": null,
            "align_content": null,
            "visibility": null,
            "align_self": null,
            "height": null,
            "min_height": null,
            "padding": null,
            "grid_auto_rows": null,
            "grid_gap": null,
            "max_width": null,
            "order": null,
            "_view_module_version": "1.2.0",
            "grid_template_areas": null,
            "object_position": null,
            "object_fit": null,
            "grid_auto_columns": null,
            "margin": null,
            "display": null,
            "left": null
          }
        },
        "9cbe2647524f4121ab4e2836e7539ef9": {
          "model_module": "@jupyter-widgets/controls",
          "model_name": "DescriptionStyleModel",
          "state": {
            "_view_name": "StyleView",
            "_model_name": "DescriptionStyleModel",
            "description_width": "",
            "_view_module": "@jupyter-widgets/base",
            "_model_module_version": "1.5.0",
            "_view_count": null,
            "_view_module_version": "1.2.0",
            "_model_module": "@jupyter-widgets/controls"
          }
        },
        "efa7c0bf8c7c4b15ba53687da72b2da7": {
          "model_module": "@jupyter-widgets/base",
          "model_name": "LayoutModel",
          "state": {
            "_view_name": "LayoutView",
            "grid_template_rows": null,
            "right": null,
            "justify_content": null,
            "_view_module": "@jupyter-widgets/base",
            "overflow": null,
            "_model_module_version": "1.2.0",
            "_view_count": null,
            "flex_flow": null,
            "width": null,
            "min_width": null,
            "border": null,
            "align_items": null,
            "bottom": null,
            "_model_module": "@jupyter-widgets/base",
            "top": null,
            "grid_column": null,
            "overflow_y": null,
            "overflow_x": null,
            "grid_auto_flow": null,
            "grid_area": null,
            "grid_template_columns": null,
            "flex": null,
            "_model_name": "LayoutModel",
            "justify_items": null,
            "grid_row": null,
            "max_height": null,
            "align_content": null,
            "visibility": null,
            "align_self": null,
            "height": null,
            "min_height": null,
            "padding": null,
            "grid_auto_rows": null,
            "grid_gap": null,
            "max_width": null,
            "order": null,
            "_view_module_version": "1.2.0",
            "grid_template_areas": null,
            "object_position": null,
            "object_fit": null,
            "grid_auto_columns": null,
            "margin": null,
            "display": null,
            "left": null
          }
        },
        "f60f6bb0312545b294f9d9ec23cf48da": {
          "model_module": "@jupyter-widgets/controls",
          "model_name": "HBoxModel",
          "state": {
            "_view_name": "HBoxView",
            "_dom_classes": [],
            "_model_name": "HBoxModel",
            "_view_module": "@jupyter-widgets/controls",
            "_model_module_version": "1.5.0",
            "_view_count": null,
            "_view_module_version": "1.5.0",
            "box_style": "",
            "layout": "IPY_MODEL_c3504126f30f47719c19ecb9e46317a3",
            "_model_module": "@jupyter-widgets/controls",
            "children": [
              "IPY_MODEL_8efffaec857143a98ff5d96d69743d75",
              "IPY_MODEL_42e6aebd3261486fa91e0dbaf7d4c3a2"
            ]
          }
        },
        "c3504126f30f47719c19ecb9e46317a3": {
          "model_module": "@jupyter-widgets/base",
          "model_name": "LayoutModel",
          "state": {
            "_view_name": "LayoutView",
            "grid_template_rows": null,
            "right": null,
            "justify_content": null,
            "_view_module": "@jupyter-widgets/base",
            "overflow": null,
            "_model_module_version": "1.2.0",
            "_view_count": null,
            "flex_flow": null,
            "width": null,
            "min_width": null,
            "border": null,
            "align_items": null,
            "bottom": null,
            "_model_module": "@jupyter-widgets/base",
            "top": null,
            "grid_column": null,
            "overflow_y": null,
            "overflow_x": null,
            "grid_auto_flow": null,
            "grid_area": null,
            "grid_template_columns": null,
            "flex": null,
            "_model_name": "LayoutModel",
            "justify_items": null,
            "grid_row": null,
            "max_height": null,
            "align_content": null,
            "visibility": null,
            "align_self": null,
            "height": null,
            "min_height": null,
            "padding": null,
            "grid_auto_rows": null,
            "grid_gap": null,
            "max_width": null,
            "order": null,
            "_view_module_version": "1.2.0",
            "grid_template_areas": null,
            "object_position": null,
            "object_fit": null,
            "grid_auto_columns": null,
            "margin": null,
            "display": null,
            "left": null
          }
        },
        "8efffaec857143a98ff5d96d69743d75": {
          "model_module": "@jupyter-widgets/controls",
          "model_name": "FloatProgressModel",
          "state": {
            "_view_name": "ProgressView",
            "style": "IPY_MODEL_0db8273e7452497fbbae1e4436652a17",
            "_dom_classes": [],
            "description": "Downloading: 100%",
            "_model_name": "FloatProgressModel",
            "bar_style": "success",
            "max": 2,
            "_view_module": "@jupyter-widgets/controls",
            "_model_module_version": "1.5.0",
            "value": 2,
            "_view_count": null,
            "_view_module_version": "1.5.0",
            "orientation": "horizontal",
            "min": 0,
            "description_tooltip": null,
            "_model_module": "@jupyter-widgets/controls",
            "layout": "IPY_MODEL_800dfa205b2a4748a9813f58c8bd9f0f"
          }
        },
        "42e6aebd3261486fa91e0dbaf7d4c3a2": {
          "model_module": "@jupyter-widgets/controls",
          "model_name": "HTMLModel",
          "state": {
            "_view_name": "HTMLView",
            "style": "IPY_MODEL_dbaa5e59a0a74f0cbb9df0c68e2eebb2",
            "_dom_classes": [],
            "description": "",
            "_model_name": "HTMLModel",
            "placeholder": "​",
            "_view_module": "@jupyter-widgets/controls",
            "_model_module_version": "1.5.0",
            "value": " 2.00/2.00 [00:00&lt;00:00, 8.42B/s]",
            "_view_count": null,
            "_view_module_version": "1.5.0",
            "description_tooltip": null,
            "_model_module": "@jupyter-widgets/controls",
            "layout": "IPY_MODEL_639bf268abb84e089a785943604aa93e"
          }
        },
        "0db8273e7452497fbbae1e4436652a17": {
          "model_module": "@jupyter-widgets/controls",
          "model_name": "ProgressStyleModel",
          "state": {
            "_view_name": "StyleView",
            "_model_name": "ProgressStyleModel",
            "description_width": "initial",
            "_view_module": "@jupyter-widgets/base",
            "_model_module_version": "1.5.0",
            "_view_count": null,
            "_view_module_version": "1.2.0",
            "bar_color": null,
            "_model_module": "@jupyter-widgets/controls"
          }
        },
        "800dfa205b2a4748a9813f58c8bd9f0f": {
          "model_module": "@jupyter-widgets/base",
          "model_name": "LayoutModel",
          "state": {
            "_view_name": "LayoutView",
            "grid_template_rows": null,
            "right": null,
            "justify_content": null,
            "_view_module": "@jupyter-widgets/base",
            "overflow": null,
            "_model_module_version": "1.2.0",
            "_view_count": null,
            "flex_flow": null,
            "width": null,
            "min_width": null,
            "border": null,
            "align_items": null,
            "bottom": null,
            "_model_module": "@jupyter-widgets/base",
            "top": null,
            "grid_column": null,
            "overflow_y": null,
            "overflow_x": null,
            "grid_auto_flow": null,
            "grid_area": null,
            "grid_template_columns": null,
            "flex": null,
            "_model_name": "LayoutModel",
            "justify_items": null,
            "grid_row": null,
            "max_height": null,
            "align_content": null,
            "visibility": null,
            "align_self": null,
            "height": null,
            "min_height": null,
            "padding": null,
            "grid_auto_rows": null,
            "grid_gap": null,
            "max_width": null,
            "order": null,
            "_view_module_version": "1.2.0",
            "grid_template_areas": null,
            "object_position": null,
            "object_fit": null,
            "grid_auto_columns": null,
            "margin": null,
            "display": null,
            "left": null
          }
        },
        "dbaa5e59a0a74f0cbb9df0c68e2eebb2": {
          "model_module": "@jupyter-widgets/controls",
          "model_name": "DescriptionStyleModel",
          "state": {
            "_view_name": "StyleView",
            "_model_name": "DescriptionStyleModel",
            "description_width": "",
            "_view_module": "@jupyter-widgets/base",
            "_model_module_version": "1.5.0",
            "_view_count": null,
            "_view_module_version": "1.2.0",
            "_model_module": "@jupyter-widgets/controls"
          }
        },
        "639bf268abb84e089a785943604aa93e": {
          "model_module": "@jupyter-widgets/base",
          "model_name": "LayoutModel",
          "state": {
            "_view_name": "LayoutView",
            "grid_template_rows": null,
            "right": null,
            "justify_content": null,
            "_view_module": "@jupyter-widgets/base",
            "overflow": null,
            "_model_module_version": "1.2.0",
            "_view_count": null,
            "flex_flow": null,
            "width": null,
            "min_width": null,
            "border": null,
            "align_items": null,
            "bottom": null,
            "_model_module": "@jupyter-widgets/base",
            "top": null,
            "grid_column": null,
            "overflow_y": null,
            "overflow_x": null,
            "grid_auto_flow": null,
            "grid_area": null,
            "grid_template_columns": null,
            "flex": null,
            "_model_name": "LayoutModel",
            "justify_items": null,
            "grid_row": null,
            "max_height": null,
            "align_content": null,
            "visibility": null,
            "align_self": null,
            "height": null,
            "min_height": null,
            "padding": null,
            "grid_auto_rows": null,
            "grid_gap": null,
            "max_width": null,
            "order": null,
            "_view_module_version": "1.2.0",
            "grid_template_areas": null,
            "object_position": null,
            "object_fit": null,
            "grid_auto_columns": null,
            "margin": null,
            "display": null,
            "left": null
          }
        },
        "8fbd0626ec5a4706a16e21acac215fcf": {
          "model_module": "@jupyter-widgets/controls",
          "model_name": "HBoxModel",
          "state": {
            "_view_name": "HBoxView",
            "_dom_classes": [],
            "_model_name": "HBoxModel",
            "_view_module": "@jupyter-widgets/controls",
            "_model_module_version": "1.5.0",
            "_view_count": null,
            "_view_module_version": "1.5.0",
            "box_style": "",
            "layout": "IPY_MODEL_a268683e2b854ec1a1bf555bf69b58d1",
            "_model_module": "@jupyter-widgets/controls",
            "children": [
              "IPY_MODEL_ad026a37cd5b4a0796306392787067fe",
              "IPY_MODEL_baa2fa67000840a9b894ae0963499a8c"
            ]
          }
        },
        "a268683e2b854ec1a1bf555bf69b58d1": {
          "model_module": "@jupyter-widgets/base",
          "model_name": "LayoutModel",
          "state": {
            "_view_name": "LayoutView",
            "grid_template_rows": null,
            "right": null,
            "justify_content": null,
            "_view_module": "@jupyter-widgets/base",
            "overflow": null,
            "_model_module_version": "1.2.0",
            "_view_count": null,
            "flex_flow": null,
            "width": null,
            "min_width": null,
            "border": null,
            "align_items": null,
            "bottom": null,
            "_model_module": "@jupyter-widgets/base",
            "top": null,
            "grid_column": null,
            "overflow_y": null,
            "overflow_x": null,
            "grid_auto_flow": null,
            "grid_area": null,
            "grid_template_columns": null,
            "flex": null,
            "_model_name": "LayoutModel",
            "justify_items": null,
            "grid_row": null,
            "max_height": null,
            "align_content": null,
            "visibility": null,
            "align_self": null,
            "height": null,
            "min_height": null,
            "padding": null,
            "grid_auto_rows": null,
            "grid_gap": null,
            "max_width": null,
            "order": null,
            "_view_module_version": "1.2.0",
            "grid_template_areas": null,
            "object_position": null,
            "object_fit": null,
            "grid_auto_columns": null,
            "margin": null,
            "display": null,
            "left": null
          }
        },
        "ad026a37cd5b4a0796306392787067fe": {
          "model_module": "@jupyter-widgets/controls",
          "model_name": "FloatProgressModel",
          "state": {
            "_view_name": "ProgressView",
            "style": "IPY_MODEL_96186b6acffb40ebbb86ae3d1ccc3618",
            "_dom_classes": [],
            "description": "Downloading: 100%",
            "_model_name": "FloatProgressModel",
            "bar_style": "success",
            "max": 112,
            "_view_module": "@jupyter-widgets/controls",
            "_model_module_version": "1.5.0",
            "value": 112,
            "_view_count": null,
            "_view_module_version": "1.5.0",
            "orientation": "horizontal",
            "min": 0,
            "description_tooltip": null,
            "_model_module": "@jupyter-widgets/controls",
            "layout": "IPY_MODEL_e6360e6ba2134efbac910bf71c93fffa"
          }
        },
        "baa2fa67000840a9b894ae0963499a8c": {
          "model_module": "@jupyter-widgets/controls",
          "model_name": "HTMLModel",
          "state": {
            "_view_name": "HTMLView",
            "style": "IPY_MODEL_7879439eb46c4034afbbff013d17965c",
            "_dom_classes": [],
            "description": "",
            "_model_name": "HTMLModel",
            "placeholder": "​",
            "_view_module": "@jupyter-widgets/controls",
            "_model_module_version": "1.5.0",
            "value": " 112/112 [00:00&lt;00:00, 317B/s]",
            "_view_count": null,
            "_view_module_version": "1.5.0",
            "description_tooltip": null,
            "_model_module": "@jupyter-widgets/controls",
            "layout": "IPY_MODEL_25207e6f6d574cb5ae2cefdca3fd6c10"
          }
        },
        "96186b6acffb40ebbb86ae3d1ccc3618": {
          "model_module": "@jupyter-widgets/controls",
          "model_name": "ProgressStyleModel",
          "state": {
            "_view_name": "StyleView",
            "_model_name": "ProgressStyleModel",
            "description_width": "initial",
            "_view_module": "@jupyter-widgets/base",
            "_model_module_version": "1.5.0",
            "_view_count": null,
            "_view_module_version": "1.2.0",
            "bar_color": null,
            "_model_module": "@jupyter-widgets/controls"
          }
        },
        "e6360e6ba2134efbac910bf71c93fffa": {
          "model_module": "@jupyter-widgets/base",
          "model_name": "LayoutModel",
          "state": {
            "_view_name": "LayoutView",
            "grid_template_rows": null,
            "right": null,
            "justify_content": null,
            "_view_module": "@jupyter-widgets/base",
            "overflow": null,
            "_model_module_version": "1.2.0",
            "_view_count": null,
            "flex_flow": null,
            "width": null,
            "min_width": null,
            "border": null,
            "align_items": null,
            "bottom": null,
            "_model_module": "@jupyter-widgets/base",
            "top": null,
            "grid_column": null,
            "overflow_y": null,
            "overflow_x": null,
            "grid_auto_flow": null,
            "grid_area": null,
            "grid_template_columns": null,
            "flex": null,
            "_model_name": "LayoutModel",
            "justify_items": null,
            "grid_row": null,
            "max_height": null,
            "align_content": null,
            "visibility": null,
            "align_self": null,
            "height": null,
            "min_height": null,
            "padding": null,
            "grid_auto_rows": null,
            "grid_gap": null,
            "max_width": null,
            "order": null,
            "_view_module_version": "1.2.0",
            "grid_template_areas": null,
            "object_position": null,
            "object_fit": null,
            "grid_auto_columns": null,
            "margin": null,
            "display": null,
            "left": null
          }
        },
        "7879439eb46c4034afbbff013d17965c": {
          "model_module": "@jupyter-widgets/controls",
          "model_name": "DescriptionStyleModel",
          "state": {
            "_view_name": "StyleView",
            "_model_name": "DescriptionStyleModel",
            "description_width": "",
            "_view_module": "@jupyter-widgets/base",
            "_model_module_version": "1.5.0",
            "_view_count": null,
            "_view_module_version": "1.2.0",
            "_model_module": "@jupyter-widgets/controls"
          }
        },
        "25207e6f6d574cb5ae2cefdca3fd6c10": {
          "model_module": "@jupyter-widgets/base",
          "model_name": "LayoutModel",
          "state": {
            "_view_name": "LayoutView",
            "grid_template_rows": null,
            "right": null,
            "justify_content": null,
            "_view_module": "@jupyter-widgets/base",
            "overflow": null,
            "_model_module_version": "1.2.0",
            "_view_count": null,
            "flex_flow": null,
            "width": null,
            "min_width": null,
            "border": null,
            "align_items": null,
            "bottom": null,
            "_model_module": "@jupyter-widgets/base",
            "top": null,
            "grid_column": null,
            "overflow_y": null,
            "overflow_x": null,
            "grid_auto_flow": null,
            "grid_area": null,
            "grid_template_columns": null,
            "flex": null,
            "_model_name": "LayoutModel",
            "justify_items": null,
            "grid_row": null,
            "max_height": null,
            "align_content": null,
            "visibility": null,
            "align_self": null,
            "height": null,
            "min_height": null,
            "padding": null,
            "grid_auto_rows": null,
            "grid_gap": null,
            "max_width": null,
            "order": null,
            "_view_module_version": "1.2.0",
            "grid_template_areas": null,
            "object_position": null,
            "object_fit": null,
            "grid_auto_columns": null,
            "margin": null,
            "display": null,
            "left": null
          }
        },
        "47042a6e11674e5ba7efe3cec779c37d": {
          "model_module": "@jupyter-widgets/controls",
          "model_name": "HBoxModel",
          "state": {
            "_view_name": "HBoxView",
            "_dom_classes": [],
            "_model_name": "HBoxModel",
            "_view_module": "@jupyter-widgets/controls",
            "_model_module_version": "1.5.0",
            "_view_count": null,
            "_view_module_version": "1.5.0",
            "box_style": "",
            "layout": "IPY_MODEL_0badae3f77664be49e44218806911494",
            "_model_module": "@jupyter-widgets/controls",
            "children": [
              "IPY_MODEL_c8e89ed37c15475891d382623a61397f",
              "IPY_MODEL_f99cc9d7d9e1478a9116f0acdd38cb9e"
            ]
          }
        },
        "0badae3f77664be49e44218806911494": {
          "model_module": "@jupyter-widgets/base",
          "model_name": "LayoutModel",
          "state": {
            "_view_name": "LayoutView",
            "grid_template_rows": null,
            "right": null,
            "justify_content": null,
            "_view_module": "@jupyter-widgets/base",
            "overflow": null,
            "_model_module_version": "1.2.0",
            "_view_count": null,
            "flex_flow": null,
            "width": null,
            "min_width": null,
            "border": null,
            "align_items": null,
            "bottom": null,
            "_model_module": "@jupyter-widgets/base",
            "top": null,
            "grid_column": null,
            "overflow_y": null,
            "overflow_x": null,
            "grid_auto_flow": null,
            "grid_area": null,
            "grid_template_columns": null,
            "flex": null,
            "_model_name": "LayoutModel",
            "justify_items": null,
            "grid_row": null,
            "max_height": null,
            "align_content": null,
            "visibility": null,
            "align_self": null,
            "height": null,
            "min_height": null,
            "padding": null,
            "grid_auto_rows": null,
            "grid_gap": null,
            "max_width": null,
            "order": null,
            "_view_module_version": "1.2.0",
            "grid_template_areas": null,
            "object_position": null,
            "object_fit": null,
            "grid_auto_columns": null,
            "margin": null,
            "display": null,
            "left": null
          }
        },
        "c8e89ed37c15475891d382623a61397f": {
          "model_module": "@jupyter-widgets/controls",
          "model_name": "FloatProgressModel",
          "state": {
            "_view_name": "ProgressView",
            "style": "IPY_MODEL_dccb95cea44c44a5bd05b6789ca9ffde",
            "_dom_classes": [],
            "description": "Downloading: 100%",
            "_model_name": "FloatProgressModel",
            "bar_style": "success",
            "max": 43,
            "_view_module": "@jupyter-widgets/controls",
            "_model_module_version": "1.5.0",
            "value": 43,
            "_view_count": null,
            "_view_module_version": "1.5.0",
            "orientation": "horizontal",
            "min": 0,
            "description_tooltip": null,
            "_model_module": "@jupyter-widgets/controls",
            "layout": "IPY_MODEL_5585d30311d54908af8a90951b08cec9"
          }
        },
        "f99cc9d7d9e1478a9116f0acdd38cb9e": {
          "model_module": "@jupyter-widgets/controls",
          "model_name": "HTMLModel",
          "state": {
            "_view_name": "HTMLView",
            "style": "IPY_MODEL_da607fc4889447e3900a1b98399f655c",
            "_dom_classes": [],
            "description": "",
            "_model_name": "HTMLModel",
            "placeholder": "​",
            "_view_module": "@jupyter-widgets/controls",
            "_model_module_version": "1.5.0",
            "value": " 43.0/43.0 [00:00&lt;00:00, 286B/s]",
            "_view_count": null,
            "_view_module_version": "1.5.0",
            "description_tooltip": null,
            "_model_module": "@jupyter-widgets/controls",
            "layout": "IPY_MODEL_dcfe0d796d4b4d81926bbf6ff17d958f"
          }
        },
        "dccb95cea44c44a5bd05b6789ca9ffde": {
          "model_module": "@jupyter-widgets/controls",
          "model_name": "ProgressStyleModel",
          "state": {
            "_view_name": "StyleView",
            "_model_name": "ProgressStyleModel",
            "description_width": "initial",
            "_view_module": "@jupyter-widgets/base",
            "_model_module_version": "1.5.0",
            "_view_count": null,
            "_view_module_version": "1.2.0",
            "bar_color": null,
            "_model_module": "@jupyter-widgets/controls"
          }
        },
        "5585d30311d54908af8a90951b08cec9": {
          "model_module": "@jupyter-widgets/base",
          "model_name": "LayoutModel",
          "state": {
            "_view_name": "LayoutView",
            "grid_template_rows": null,
            "right": null,
            "justify_content": null,
            "_view_module": "@jupyter-widgets/base",
            "overflow": null,
            "_model_module_version": "1.2.0",
            "_view_count": null,
            "flex_flow": null,
            "width": null,
            "min_width": null,
            "border": null,
            "align_items": null,
            "bottom": null,
            "_model_module": "@jupyter-widgets/base",
            "top": null,
            "grid_column": null,
            "overflow_y": null,
            "overflow_x": null,
            "grid_auto_flow": null,
            "grid_area": null,
            "grid_template_columns": null,
            "flex": null,
            "_model_name": "LayoutModel",
            "justify_items": null,
            "grid_row": null,
            "max_height": null,
            "align_content": null,
            "visibility": null,
            "align_self": null,
            "height": null,
            "min_height": null,
            "padding": null,
            "grid_auto_rows": null,
            "grid_gap": null,
            "max_width": null,
            "order": null,
            "_view_module_version": "1.2.0",
            "grid_template_areas": null,
            "object_position": null,
            "object_fit": null,
            "grid_auto_columns": null,
            "margin": null,
            "display": null,
            "left": null
          }
        },
        "da607fc4889447e3900a1b98399f655c": {
          "model_module": "@jupyter-widgets/controls",
          "model_name": "DescriptionStyleModel",
          "state": {
            "_view_name": "StyleView",
            "_model_name": "DescriptionStyleModel",
            "description_width": "",
            "_view_module": "@jupyter-widgets/base",
            "_model_module_version": "1.5.0",
            "_view_count": null,
            "_view_module_version": "1.2.0",
            "_model_module": "@jupyter-widgets/controls"
          }
        },
        "dcfe0d796d4b4d81926bbf6ff17d958f": {
          "model_module": "@jupyter-widgets/base",
          "model_name": "LayoutModel",
          "state": {
            "_view_name": "LayoutView",
            "grid_template_rows": null,
            "right": null,
            "justify_content": null,
            "_view_module": "@jupyter-widgets/base",
            "overflow": null,
            "_model_module_version": "1.2.0",
            "_view_count": null,
            "flex_flow": null,
            "width": null,
            "min_width": null,
            "border": null,
            "align_items": null,
            "bottom": null,
            "_model_module": "@jupyter-widgets/base",
            "top": null,
            "grid_column": null,
            "overflow_y": null,
            "overflow_x": null,
            "grid_auto_flow": null,
            "grid_area": null,
            "grid_template_columns": null,
            "flex": null,
            "_model_name": "LayoutModel",
            "justify_items": null,
            "grid_row": null,
            "max_height": null,
            "align_content": null,
            "visibility": null,
            "align_self": null,
            "height": null,
            "min_height": null,
            "padding": null,
            "grid_auto_rows": null,
            "grid_gap": null,
            "max_width": null,
            "order": null,
            "_view_module_version": "1.2.0",
            "grid_template_areas": null,
            "object_position": null,
            "object_fit": null,
            "grid_auto_columns": null,
            "margin": null,
            "display": null,
            "left": null
          }
        }
      }
    }
  },
  "cells": [
    {
      "cell_type": "markdown",
      "metadata": {
        "id": "0VK70azCgVi6"
      },
      "source": [
        "# ***Pruebas de BERT en castellano, rellenando huecos***"
      ]
    },
    {
      "cell_type": "code",
      "metadata": {
        "id": "CzpNjefhgDva",
        "outputId": "834a8e3e-2e73-4635-e66f-411db87f36f4",
        "colab": {
          "base_uri": "https://localhost:8080/"
        }
      },
      "source": [
        "!pip3 install transformers"
      ],
      "execution_count": 2,
      "outputs": [
        {
          "output_type": "stream",
          "text": [
            "Collecting transformers\n",
            "\u001b[?25l  Downloading https://files.pythonhosted.org/packages/2c/4e/4f1ede0fd7a36278844a277f8d53c21f88f37f3754abf76a5d6224f76d4a/transformers-3.4.0-py3-none-any.whl (1.3MB)\n",
            "\u001b[K     |████████████████████████████████| 1.3MB 2.7MB/s \n",
            "\u001b[?25hRequirement already satisfied: regex!=2019.12.17 in /usr/local/lib/python3.6/dist-packages (from transformers) (2019.12.20)\n",
            "Collecting sentencepiece!=0.1.92\n",
            "\u001b[?25l  Downloading https://files.pythonhosted.org/packages/e5/2d/6d4ca4bef9a67070fa1cac508606328329152b1df10bdf31fb6e4e727894/sentencepiece-0.1.94-cp36-cp36m-manylinux2014_x86_64.whl (1.1MB)\n",
            "\u001b[K     |████████████████████████████████| 1.1MB 11.4MB/s \n",
            "\u001b[?25hRequirement already satisfied: requests in /usr/local/lib/python3.6/dist-packages (from transformers) (2.23.0)\n",
            "Requirement already satisfied: protobuf in /usr/local/lib/python3.6/dist-packages (from transformers) (3.12.4)\n",
            "Requirement already satisfied: packaging in /usr/local/lib/python3.6/dist-packages (from transformers) (20.4)\n",
            "Collecting sacremoses\n",
            "\u001b[?25l  Downloading https://files.pythonhosted.org/packages/7d/34/09d19aff26edcc8eb2a01bed8e98f13a1537005d31e95233fd48216eed10/sacremoses-0.0.43.tar.gz (883kB)\n",
            "\u001b[K     |████████████████████████████████| 890kB 13.1MB/s \n",
            "\u001b[?25hRequirement already satisfied: filelock in /usr/local/lib/python3.6/dist-packages (from transformers) (3.0.12)\n",
            "Requirement already satisfied: tqdm>=4.27 in /usr/local/lib/python3.6/dist-packages (from transformers) (4.41.1)\n",
            "Collecting tokenizers==0.9.2\n",
            "\u001b[?25l  Downloading https://files.pythonhosted.org/packages/7c/a5/78be1a55b2ac8d6a956f0a211d372726e2b1dd2666bb537fea9b03abd62c/tokenizers-0.9.2-cp36-cp36m-manylinux1_x86_64.whl (2.9MB)\n",
            "\u001b[K     |████████████████████████████████| 2.9MB 27.6MB/s \n",
            "\u001b[?25hRequirement already satisfied: dataclasses; python_version < \"3.7\" in /usr/local/lib/python3.6/dist-packages (from transformers) (0.7)\n",
            "Requirement already satisfied: numpy in /usr/local/lib/python3.6/dist-packages (from transformers) (1.18.5)\n",
            "Requirement already satisfied: certifi>=2017.4.17 in /usr/local/lib/python3.6/dist-packages (from requests->transformers) (2020.6.20)\n",
            "Requirement already satisfied: idna<3,>=2.5 in /usr/local/lib/python3.6/dist-packages (from requests->transformers) (2.10)\n",
            "Requirement already satisfied: chardet<4,>=3.0.2 in /usr/local/lib/python3.6/dist-packages (from requests->transformers) (3.0.4)\n",
            "Requirement already satisfied: urllib3!=1.25.0,!=1.25.1,<1.26,>=1.21.1 in /usr/local/lib/python3.6/dist-packages (from requests->transformers) (1.24.3)\n",
            "Requirement already satisfied: six>=1.9 in /usr/local/lib/python3.6/dist-packages (from protobuf->transformers) (1.15.0)\n",
            "Requirement already satisfied: setuptools in /usr/local/lib/python3.6/dist-packages (from protobuf->transformers) (50.3.2)\n",
            "Requirement already satisfied: pyparsing>=2.0.2 in /usr/local/lib/python3.6/dist-packages (from packaging->transformers) (2.4.7)\n",
            "Requirement already satisfied: click in /usr/local/lib/python3.6/dist-packages (from sacremoses->transformers) (7.1.2)\n",
            "Requirement already satisfied: joblib in /usr/local/lib/python3.6/dist-packages (from sacremoses->transformers) (0.17.0)\n",
            "Building wheels for collected packages: sacremoses\n",
            "  Building wheel for sacremoses (setup.py) ... \u001b[?25l\u001b[?25hdone\n",
            "  Created wheel for sacremoses: filename=sacremoses-0.0.43-cp36-none-any.whl size=893257 sha256=51990b79aa3b7a7af3e48ed5a0587e2d2fba77830d315d157b337d0c814337ae\n",
            "  Stored in directory: /root/.cache/pip/wheels/29/3c/fd/7ce5c3f0666dab31a50123635e6fb5e19ceb42ce38d4e58f45\n",
            "Successfully built sacremoses\n",
            "Installing collected packages: sentencepiece, sacremoses, tokenizers, transformers\n",
            "Successfully installed sacremoses-0.0.43 sentencepiece-0.1.94 tokenizers-0.9.2 transformers-3.4.0\n"
          ],
          "name": "stdout"
        }
      ]
    },
    {
      "cell_type": "markdown",
      "metadata": {
        "id": "2fJSiVdFb2Ha"
      },
      "source": [
        "Importamos el objeto *pipeline* de la biblioteca."
      ]
    },
    {
      "cell_type": "code",
      "metadata": {
        "id": "sA7TYRtUfiWW"
      },
      "source": [
        "from transformers import pipeline"
      ],
      "execution_count": 3,
      "outputs": []
    },
    {
      "cell_type": "markdown",
      "metadata": {
        "id": "FgAh3fSNoWqe"
      },
      "source": [
        "Obtenemos un objeto *pipeline* del modelo."
      ]
    },
    {
      "cell_type": "code",
      "metadata": {
        "id": "cY0GKUZrktt3",
        "outputId": "69b39b27-568c-468a-a95e-b964e587411c",
        "colab": {
          "base_uri": "https://localhost:8080/",
          "height": 313,
          "referenced_widgets": [
            "4bfc64fd8f1f48068a2b2d831cd66ef0",
            "47cc687a1b324a1ca072c0c9e3caecbe",
            "b7ded86a959446c78a7e254fb0d57a96",
            "85b90396473543a6a7f268d0989850e5",
            "fd284f6e65e9472d89c80882c28d7ea1",
            "988b097976a44813b6830d523c3366ea",
            "34f8cce26431478bb304ae4d87c06d1e",
            "3304ea9b2add4e6988c965e566eb33c7",
            "aa4cd98b483c436bb04e1a868e16ad5c",
            "679926c503564533a0f0f0c287144572",
            "f824b9d185304a3eba25159570e7f1db",
            "5d8d31bf2fd842aaa81b2fb5aa0dc560",
            "040c306dabf64619b7b125b414c4ebf5",
            "6e163e893d5142d0a2e948cd4cc8242d",
            "88e44c299302466084176677b7dca00d",
            "24b914cd66fc42d0b01c6b3ef539bcb2",
            "2e4797e8e2e24ff09ee90b08a64b45c5",
            "ffba9f546f364ed6ac968b1bfca5f43a",
            "de11fc070048462090254e611592962e",
            "83342006a6224555bf54c092610c0bc7",
            "0375eef001424f34a187bc63a374fa51",
            "b0d6caa7328e444eb1c47438c525458a",
            "9cbe2647524f4121ab4e2836e7539ef9",
            "efa7c0bf8c7c4b15ba53687da72b2da7",
            "f60f6bb0312545b294f9d9ec23cf48da",
            "c3504126f30f47719c19ecb9e46317a3",
            "8efffaec857143a98ff5d96d69743d75",
            "42e6aebd3261486fa91e0dbaf7d4c3a2",
            "0db8273e7452497fbbae1e4436652a17",
            "800dfa205b2a4748a9813f58c8bd9f0f",
            "dbaa5e59a0a74f0cbb9df0c68e2eebb2",
            "639bf268abb84e089a785943604aa93e",
            "8fbd0626ec5a4706a16e21acac215fcf",
            "a268683e2b854ec1a1bf555bf69b58d1",
            "ad026a37cd5b4a0796306392787067fe",
            "baa2fa67000840a9b894ae0963499a8c",
            "96186b6acffb40ebbb86ae3d1ccc3618",
            "e6360e6ba2134efbac910bf71c93fffa",
            "7879439eb46c4034afbbff013d17965c",
            "25207e6f6d574cb5ae2cefdca3fd6c10",
            "47042a6e11674e5ba7efe3cec779c37d",
            "0badae3f77664be49e44218806911494",
            "c8e89ed37c15475891d382623a61397f",
            "f99cc9d7d9e1478a9116f0acdd38cb9e",
            "dccb95cea44c44a5bd05b6789ca9ffde",
            "5585d30311d54908af8a90951b08cec9",
            "da607fc4889447e3900a1b98399f655c",
            "dcfe0d796d4b4d81926bbf6ff17d958f"
          ]
        }
      },
      "source": [
        "bert_castellano = pipeline(\"fill-mask\", model=\"dccuchile/bert-base-spanish-wwm-cased\")"
      ],
      "execution_count": 4,
      "outputs": [
        {
          "output_type": "display_data",
          "data": {
            "application/vnd.jupyter.widget-view+json": {
              "model_id": "4bfc64fd8f1f48068a2b2d831cd66ef0",
              "version_minor": 0,
              "version_major": 2
            },
            "text/plain": [
              "HBox(children=(FloatProgress(value=0.0, description='Downloading', max=456.0, style=ProgressStyle(description_…"
            ]
          },
          "metadata": {
            "tags": []
          }
        },
        {
          "output_type": "stream",
          "text": [
            "\n"
          ],
          "name": "stdout"
        },
        {
          "output_type": "display_data",
          "data": {
            "application/vnd.jupyter.widget-view+json": {
              "model_id": "aa4cd98b483c436bb04e1a868e16ad5c",
              "version_minor": 0,
              "version_major": 2
            },
            "text/plain": [
              "HBox(children=(FloatProgress(value=0.0, description='Downloading', max=441944381.0, style=ProgressStyle(descri…"
            ]
          },
          "metadata": {
            "tags": []
          }
        },
        {
          "output_type": "stream",
          "text": [
            "\n"
          ],
          "name": "stdout"
        },
        {
          "output_type": "display_data",
          "data": {
            "application/vnd.jupyter.widget-view+json": {
              "model_id": "2e4797e8e2e24ff09ee90b08a64b45c5",
              "version_minor": 0,
              "version_major": 2
            },
            "text/plain": [
              "HBox(children=(FloatProgress(value=0.0, description='Downloading', max=242120.0, style=ProgressStyle(descripti…"
            ]
          },
          "metadata": {
            "tags": []
          }
        },
        {
          "output_type": "stream",
          "text": [
            "\n"
          ],
          "name": "stdout"
        },
        {
          "output_type": "display_data",
          "data": {
            "application/vnd.jupyter.widget-view+json": {
              "model_id": "f60f6bb0312545b294f9d9ec23cf48da",
              "version_minor": 0,
              "version_major": 2
            },
            "text/plain": [
              "HBox(children=(FloatProgress(value=0.0, description='Downloading', max=2.0, style=ProgressStyle(description_wi…"
            ]
          },
          "metadata": {
            "tags": []
          }
        },
        {
          "output_type": "stream",
          "text": [
            "\n"
          ],
          "name": "stdout"
        },
        {
          "output_type": "display_data",
          "data": {
            "application/vnd.jupyter.widget-view+json": {
              "model_id": "8fbd0626ec5a4706a16e21acac215fcf",
              "version_minor": 0,
              "version_major": 2
            },
            "text/plain": [
              "HBox(children=(FloatProgress(value=0.0, description='Downloading', max=112.0, style=ProgressStyle(description_…"
            ]
          },
          "metadata": {
            "tags": []
          }
        },
        {
          "output_type": "stream",
          "text": [
            "\n"
          ],
          "name": "stdout"
        },
        {
          "output_type": "display_data",
          "data": {
            "application/vnd.jupyter.widget-view+json": {
              "model_id": "47042a6e11674e5ba7efe3cec779c37d",
              "version_minor": 0,
              "version_major": 2
            },
            "text/plain": [
              "HBox(children=(FloatProgress(value=0.0, description='Downloading', max=43.0, style=ProgressStyle(description_w…"
            ]
          },
          "metadata": {
            "tags": []
          }
        },
        {
          "output_type": "stream",
          "text": [
            "\n"
          ],
          "name": "stdout"
        }
      ]
    },
    {
      "cell_type": "markdown",
      "metadata": {
        "id": "D7X5ydCIoSYO"
      },
      "source": [
        "Función para imprimir por pantalla las frases resultantes"
      ]
    },
    {
      "cell_type": "code",
      "metadata": {
        "id": "uMkcaLrHTb-o"
      },
      "source": [
        "def imprimir_frases(opciones, posicion, score = True):\n",
        "  for opcion in opciones:\n",
        "    frase = opcion['sequence']\n",
        "    palabra = opcion['token_str']\n",
        "    # Resaltamos la palabra proporcionada por el modelo.\n",
        "    frase = frase[:posicion]+ \"\\033[1;34m\" + frase[posicion:posicion+len(palabra)] + '\\033[' + frase[posicion+len(palabra):]\n",
        "    if score:\n",
        "      frase = frase + '\\t\\t' + str(opcion['score'])\n",
        "    print(frase)"
      ],
      "execution_count": 8,
      "outputs": []
    },
    {
      "cell_type": "code",
      "metadata": {
        "id": "jsh-xyzi3hPx"
      },
      "source": [
        "def completar_hueco(frase, token='[MASK]'):\n",
        "  # busca el separador\n",
        "  pos = frase.find(token)\n",
        "  # aplica el modelo y devuelve las 5 opciones más probables y la posición donde se encuentra la palabra\n",
        "  return bert_castellano(f\"{frase[:pos]} {bert_castellano.tokenizer.mask_token} {frase[pos+len(token):]}\"), pos+6\n"
      ],
      "execution_count": 9,
      "outputs": []
    },
    {
      "cell_type": "markdown",
      "metadata": {
        "id": "iB2yVjUqogDM"
      },
      "source": [
        "### **EJEMPLOS**\n"
      ]
    },
    {
      "cell_type": "code",
      "metadata": {
        "id": "9TWte9dZ4-d_",
        "outputId": "e28012c0-39d3-4a3a-dbd5-b5d435d7bfb4",
        "colab": {
          "base_uri": "https://localhost:8080/"
        }
      },
      "source": [
        "frase = 'HuggingFace es una [MASK] que la comunidad usa para resolver tareas de NLP.'\n",
        "opciones, pos = completar_hueco(frase)\n",
        "imprimir_frases(opciones, pos)"
      ],
      "execution_count": 127,
      "outputs": [
        {
          "output_type": "stream",
          "text": [
            "[CLS] HuggingFace es una \u001b[1;34mherramienta\u001b[ que la comunidad usa para resolver tareas de NLP. [SEP]\t\t0.37518930435180664\n",
            "[CLS] HuggingFace es una \u001b[1;34maplicación\u001b[ que la comunidad usa para resolver tareas de NLP. [SEP]\t\t0.2434827834367752\n",
            "[CLS] HuggingFace es una \u001b[1;34mfunción\u001b[ que la comunidad usa para resolver tareas de NLP. [SEP]\t\t0.062380142509937286\n",
            "[CLS] HuggingFace es una \u001b[1;34minterfaz\u001b[ que la comunidad usa para resolver tareas de NLP. [SEP]\t\t0.0456741638481617\n",
            "[CLS] HuggingFace es una \u001b[1;34mutilidad\u001b[ que la comunidad usa para resolver tareas de NLP. [SEP]\t\t0.029018675908446312\n"
          ],
          "name": "stdout"
        }
      ]
    },
    {
      "cell_type": "code",
      "metadata": {
        "id": "ZG8hgjBzI9gT",
        "outputId": "84bf21fe-8dca-4849-fda3-2c67d0d1987d",
        "colab": {
          "base_uri": "https://localhost:8080/"
        }
      },
      "source": [
        "frase = 'El coronavirus es un virus que ha [MASK] a muchas personas.'\n",
        "opciones, pos = completar_hueco(frase)\n",
        "imprimir_frases(opciones, pos)"
      ],
      "execution_count": 128,
      "outputs": [
        {
          "output_type": "stream",
          "text": [
            "[CLS] El coronavirus es un virus que ha \u001b[1;34mafectado\u001b[ a muchas personas. [SEP]\t\t0.5722662806510925\n",
            "[CLS] El coronavirus es un virus que ha \u001b[1;34mmatado\u001b[ a muchas personas. [SEP]\t\t0.31099340319633484\n",
            "[CLS] El coronavirus es un virus que ha \u001b[1;34mconfundido\u001b[ a muchas personas. [SEP]\t\t0.01844511367380619\n",
            "[CLS] El coronavirus es un virus que ha \u001b[1;34msorprendido\u001b[ a muchas personas. [SEP]\t\t0.013861918821930885\n",
            "[CLS] El coronavirus es un virus que ha \u001b[1;34matacado\u001b[ a muchas personas. [SEP]\t\t0.008147921413183212\n"
          ],
          "name": "stdout"
        }
      ]
    },
    {
      "cell_type": "code",
      "metadata": {
        "id": "3659BTqfJEel",
        "outputId": "e8b2bc0b-60f5-4aa5-d2a0-b93a1494ff70",
        "colab": {
          "base_uri": "https://localhost:8080/"
        }
      },
      "source": [
        "frase = 'El boxeo es un deporte que [MASK] a la violencia.'\n",
        "opciones, pos = completar_hueco(frase)\n",
        "imprimir_frases(opciones, pos)"
      ],
      "execution_count": 129,
      "outputs": [
        {
          "output_type": "stream",
          "text": [
            "[CLS] El boxeo es un deporte que \u001b[1;34mcombate\u001b[ a la violencia. [SEP]\t\t0.37228283286094666\n",
            "[CLS] El boxeo es un deporte que \u001b[1;34mtiende\u001b[ a la violencia. [SEP]\t\t0.06276093423366547\n",
            "[CLS] El boxeo es un deporte que \u001b[1;34mrenuncia\u001b[ a la violencia. [SEP]\t\t0.05340616777539253\n",
            "[CLS] El boxeo es un deporte que \u001b[1;34mteme\u001b[ a la violencia. [SEP]\t\t0.04595981165766716\n",
            "[CLS] El boxeo es un deporte que \u001b[1;34menfrenta\u001b[ a la violencia. [SEP]\t\t0.0311359204351902\n"
          ],
          "name": "stdout"
        }
      ]
    },
    {
      "cell_type": "code",
      "metadata": {
        "id": "NFij2BfXJLbU",
        "outputId": "243b21b3-eb6e-470c-b8a2-a7653a9a1379",
        "colab": {
          "base_uri": "https://localhost:8080/"
        }
      },
      "source": [
        "frase = 'Alberto se ha [MASK] mucho para hacer su TFG.'\n",
        "opciones, pos = completar_hueco(frase)\n",
        "imprimir_frases(opciones, pos)"
      ],
      "execution_count": 130,
      "outputs": [
        {
          "output_type": "stream",
          "text": [
            "[CLS] Alberto se ha \u001b[1;34madelantado\u001b[ mucho para hacer su TFG. [SEP]\t\t0.08817257732152939\n",
            "[CLS] Alberto se ha \u001b[1;34marriesgado\u001b[ mucho para hacer su TFG. [SEP]\t\t0.061285991221666336\n",
            "[CLS] Alberto se ha \u001b[1;34mdedicado\u001b[ mucho para hacer su TFG. [SEP]\t\t0.06097095459699631\n",
            "[CLS] Alberto se ha \u001b[1;34mtrabajado\u001b[ mucho para hacer su TFG. [SEP]\t\t0.04605424404144287\n",
            "[CLS] Alberto se ha \u001b[1;34mretrasado\u001b[ mucho para hacer su TFG. [SEP]\t\t0.04368777945637703\n"
          ],
          "name": "stdout"
        }
      ]
    },
    {
      "cell_type": "code",
      "metadata": {
        "id": "WbSVi9Zy6I-D",
        "outputId": "9d1c37e2-e540-48d4-93e4-ee9631587f39",
        "colab": {
          "base_uri": "https://localhost:8080/"
        }
      },
      "source": [
        "frase = 'Dos mas tres es [MASK].'\n",
        "opciones, pos = completar_hueco(frase)\n",
        "imprimir_frases(opciones, pos)"
      ],
      "execution_count": 131,
      "outputs": [
        {
          "output_type": "stream",
          "text": [
            "[CLS] Dos mas tres es \u001b[1;34msuficiente\u001b[. [SEP]\t\t0.17169319093227386\n",
            "[CLS] Dos mas tres es \u001b[1;34muno\u001b[. [SEP]\t\t0.05254139378666878\n",
            "[CLS] Dos mas tres es \u001b[1;34mmejor\u001b[. [SEP]\t\t0.03671291097998619\n",
            "[CLS] Dos mas tres es \u001b[1;34mtres\u001b[. [SEP]\t\t0.03525081276893616\n",
            "[CLS] Dos mas tres es \u001b[1;34mmucho\u001b[. [SEP]\t\t0.024842195212841034\n"
          ],
          "name": "stdout"
        }
      ]
    },
    {
      "cell_type": "code",
      "metadata": {
        "id": "wLRZqanSJTW6",
        "outputId": "16500e7c-e9b9-47ba-bb4b-94fa6066a73b",
        "colab": {
          "base_uri": "https://localhost:8080/"
        }
      },
      "source": [
        "frase = 'Cuatro mas dos es [MASK].'\n",
        "opciones, pos = completar_hueco(frase)\n",
        "imprimir_frases(opciones, pos)"
      ],
      "execution_count": 132,
      "outputs": [
        {
          "output_type": "stream",
          "text": [
            "[CLS] Cuatro mas dos es \u001b[1;34msuficiente\u001b[. [SEP]\t\t0.1332738995552063\n",
            "[CLS] Cuatro mas dos es \u001b[1;34muno\u001b[. [SEP]\t\t0.04735912010073662\n",
            "[CLS] Cuatro mas dos es \u001b[1;34mtodo\u001b[. [SEP]\t\t0.04613582044839859\n",
            "[CLS] Cuatro mas dos es \u001b[1;34mmucho\u001b[. [SEP]\t\t0.03297032043337822\n",
            "[CLS] Cuatro mas dos es \u001b[1;34m[UNK]\u001b[. [SEP]\t\t0.027779366821050644\n"
          ],
          "name": "stdout"
        }
      ]
    },
    {
      "cell_type": "code",
      "metadata": {
        "id": "T6167Zn0JWvP",
        "outputId": "d9fe552d-f876-45af-8a47-fa44e83c48cd",
        "colab": {
          "base_uri": "https://localhost:8080/"
        }
      },
      "source": [
        "frase = 'Si dos mas tres es cinco, cuatro mas dos es [MASK].'\n",
        "opciones, pos = completar_hueco(frase)\n",
        "imprimir_frases(opciones, pos)"
      ],
      "execution_count": 133,
      "outputs": [
        {
          "output_type": "stream",
          "text": [
            "[CLS] Si dos mas tres es cinco, cuatro mas dos es \u001b[1;34mseis\u001b[. [SEP]\t\t0.2973618507385254\n",
            "[CLS] Si dos mas tres es cinco, cuatro mas dos es \u001b[1;34mcuatro\u001b[. [SEP]\t\t0.12277774512767792\n",
            "[CLS] Si dos mas tres es cinco, cuatro mas dos es \u001b[1;34msiete\u001b[. [SEP]\t\t0.08799435198307037\n",
            "[CLS] Si dos mas tres es cinco, cuatro mas dos es \u001b[1;34mdiez\u001b[. [SEP]\t\t0.08550383895635605\n",
            "[CLS] Si dos mas tres es cinco, cuatro mas dos es \u001b[1;34mcinco\u001b[. [SEP]\t\t0.08220299333333969\n"
          ],
          "name": "stdout"
        }
      ]
    },
    {
      "cell_type": "code",
      "metadata": {
        "id": "4qj77It_JcxP",
        "outputId": "888a7258-af58-40be-be47-89394e4377f0",
        "colab": {
          "base_uri": "https://localhost:8080/"
        }
      },
      "source": [
        "frase = 'Si uno mas uno es dos y uno mas dos es tres, uno mas tres es [MASK].'\n",
        "opciones, pos = completar_hueco(frase)\n",
        "imprimir_frases(opciones, pos)"
      ],
      "execution_count": 136,
      "outputs": [
        {
          "output_type": "stream",
          "text": [
            "[CLS] Si uno mas uno es dos y uno mas dos es tres, uno mas tres es \u001b[1;34mcuatro\u001b[. [SEP]\t\t0.27269595861434937\n",
            "[CLS] Si uno mas uno es dos y uno mas dos es tres, uno mas tres es \u001b[1;34muno\u001b[. [SEP]\t\t0.22884336113929749\n",
            "[CLS] Si uno mas uno es dos y uno mas dos es tres, uno mas tres es \u001b[1;34mtres\u001b[. [SEP]\t\t0.09970270842313766\n",
            "[CLS] Si uno mas uno es dos y uno mas dos es tres, uno mas tres es \u001b[1;34mdos\u001b[. [SEP]\t\t0.08715511858463287\n",
            "[CLS] Si uno mas uno es dos y uno mas dos es tres, uno mas tres es \u001b[1;34mcinco\u001b[. [SEP]\t\t0.06775566935539246\n"
          ],
          "name": "stdout"
        }
      ]
    },
    {
      "cell_type": "code",
      "metadata": {
        "id": "CRaI2rV5UhEr",
        "outputId": "36a1c3ae-93b4-4e7a-83ae-91a453342e15",
        "colab": {
          "base_uri": "https://localhost:8080/"
        }
      },
      "source": [
        "frase = 'Si dos por tres es seis entonces cinco por dos es [MASK].'\n",
        "opciones, pos = completar_hueco(frase)\n",
        "imprimir_frases(opciones, pos)"
      ],
      "execution_count": 139,
      "outputs": [
        {
          "output_type": "stream",
          "text": [
            "[CLS] Si dos por tres es seis entonces cinco por dos es \u001b[1;34mseis\u001b[. [SEP]\t\t0.18176451325416565\n",
            "[CLS] Si dos por tres es seis entonces cinco por dos es \u001b[1;34msiete\u001b[. [SEP]\t\t0.1644815355539322\n",
            "[CLS] Si dos por tres es seis entonces cinco por dos es \u001b[1;34mcinco\u001b[. [SEP]\t\t0.11985623091459274\n",
            "[CLS] Si dos por tres es seis entonces cinco por dos es \u001b[1;34mocho\u001b[. [SEP]\t\t0.06906145066022873\n",
            "[CLS] Si dos por tres es seis entonces cinco por dos es \u001b[1;34mcuatro\u001b[. [SEP]\t\t0.06261702626943588\n"
          ],
          "name": "stdout"
        }
      ]
    },
    {
      "cell_type": "code",
      "metadata": {
        "id": "OnQH8RkzUq8-",
        "outputId": "83136962-330b-4ab2-c9f4-31e6536d30cc",
        "colab": {
          "base_uri": "https://localhost:8080/"
        }
      },
      "source": [
        "frase = 'Si Antonio es mi abuelo, yo soy el [MASK] de Antonio.'\n",
        "opciones, pos = completar_hueco(frase)\n",
        "imprimir_frases(opciones, pos)"
      ],
      "execution_count": 142,
      "outputs": [
        {
          "output_type": "stream",
          "text": [
            "[CLS] Si Antonio es mi abuelo, yo soy el \u001b[1;34mabuelo\u001b[ de Antonio. [SEP]\t\t0.44327041506767273\n",
            "[CLS] Si Antonio es mi abuelo, yo soy el \u001b[1;34mpadre\u001b[ de Antonio. [SEP]\t\t0.2634488344192505\n",
            "[CLS] Si Antonio es mi abuelo, yo soy el \u001b[1;34mnieto\u001b[ de Antonio. [SEP]\t\t0.1006607711315155\n",
            "[CLS] Si Antonio es mi abuelo, yo soy el \u001b[1;34mtío\u001b[ de Antonio. [SEP]\t\t0.07245755195617676\n",
            "[CLS] Si Antonio es mi abuelo, yo soy el \u001b[1;34mhijo\u001b[ de Antonio. [SEP]\t\t0.0453496053814888\n"
          ],
          "name": "stdout"
        }
      ]
    },
    {
      "cell_type": "code",
      "metadata": {
        "id": "kv56Dh_32wzb",
        "outputId": "48b21dce-69f8-4c11-ae41-8c6a9baf71bb",
        "colab": {
          "base_uri": "https://localhost:8080/"
        }
      },
      "source": [
        "frase = 'Antonio es mi padre, por lo que yo soy el [MASK] de Antonio.'\n",
        "opciones, pos = completar_hueco(frase)\n",
        "imprimir_frases(opciones, pos)"
      ],
      "execution_count": 12,
      "outputs": [
        {
          "output_type": "stream",
          "text": [
            "[CLS] Antonio es mi padre, por lo que yo soy el \u001b[1;34mpadre\u001b[ de Antonio. [SEP]\t\t0.6495881080627441\n",
            "[CLS] Antonio es mi padre, por lo que yo soy el \u001b[1;34mhijo\u001b[ de Antonio. [SEP]\t\t0.15087935328483582\n",
            "[CLS] Antonio es mi padre, por lo que yo soy el \u001b[1;34mhermano\u001b[ de Antonio. [SEP]\t\t0.08916997909545898\n",
            "[CLS] Antonio es mi padre, por lo que yo soy el \u001b[1;34mtío\u001b[ de Antonio. [SEP]\t\t0.015297331847250462\n",
            "[CLS] Antonio es mi padre, por lo que yo soy el \u001b[1;34mabuelo\u001b[ de Antonio. [SEP]\t\t0.014487573876976967\n"
          ],
          "name": "stdout"
        }
      ]
    }
  ]
}