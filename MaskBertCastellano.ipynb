{
  "nbformat": 4,
  "nbformat_minor": 0,
  "metadata": {
    "colab": {
      "name": "MaskBertCastellano.ipynb",
      "provenance": [],
      "collapsed_sections": [],
      "toc_visible": true
    },
    "kernelspec": {
      "name": "python3",
      "display_name": "Python 3"
    },
    "widgets": {
      "application/vnd.jupyter.widget-state+json": {
        "7de4ab2480c6471b994c936d22a8f205": {
          "model_module": "@jupyter-widgets/controls",
          "model_name": "HBoxModel",
          "state": {
            "_view_name": "HBoxView",
            "_dom_classes": [],
            "_model_name": "HBoxModel",
            "_view_module": "@jupyter-widgets/controls",
            "_model_module_version": "1.5.0",
            "_view_count": null,
            "_view_module_version": "1.5.0",
            "box_style": "",
            "layout": "IPY_MODEL_8d7b9fc6781c45689c45d5c747701918",
            "_model_module": "@jupyter-widgets/controls",
            "children": [
              "IPY_MODEL_cf4663dcb1644f41a7061af5d4a91eed",
              "IPY_MODEL_62093f9ba64448beb090c5ad79b6bf06"
            ]
          }
        },
        "8d7b9fc6781c45689c45d5c747701918": {
          "model_module": "@jupyter-widgets/base",
          "model_name": "LayoutModel",
          "state": {
            "_view_name": "LayoutView",
            "grid_template_rows": null,
            "right": null,
            "justify_content": null,
            "_view_module": "@jupyter-widgets/base",
            "overflow": null,
            "_model_module_version": "1.2.0",
            "_view_count": null,
            "flex_flow": null,
            "width": null,
            "min_width": null,
            "border": null,
            "align_items": null,
            "bottom": null,
            "_model_module": "@jupyter-widgets/base",
            "top": null,
            "grid_column": null,
            "overflow_y": null,
            "overflow_x": null,
            "grid_auto_flow": null,
            "grid_area": null,
            "grid_template_columns": null,
            "flex": null,
            "_model_name": "LayoutModel",
            "justify_items": null,
            "grid_row": null,
            "max_height": null,
            "align_content": null,
            "visibility": null,
            "align_self": null,
            "height": null,
            "min_height": null,
            "padding": null,
            "grid_auto_rows": null,
            "grid_gap": null,
            "max_width": null,
            "order": null,
            "_view_module_version": "1.2.0",
            "grid_template_areas": null,
            "object_position": null,
            "object_fit": null,
            "grid_auto_columns": null,
            "margin": null,
            "display": null,
            "left": null
          }
        },
        "cf4663dcb1644f41a7061af5d4a91eed": {
          "model_module": "@jupyter-widgets/controls",
          "model_name": "FloatProgressModel",
          "state": {
            "_view_name": "ProgressView",
            "style": "IPY_MODEL_5f20a5fccdce4f6f98ae2fc4887378ba",
            "_dom_classes": [],
            "description": "Downloading: 100%",
            "_model_name": "FloatProgressModel",
            "bar_style": "success",
            "max": 456,
            "_view_module": "@jupyter-widgets/controls",
            "_model_module_version": "1.5.0",
            "value": 456,
            "_view_count": null,
            "_view_module_version": "1.5.0",
            "orientation": "horizontal",
            "min": 0,
            "description_tooltip": null,
            "_model_module": "@jupyter-widgets/controls",
            "layout": "IPY_MODEL_77ea2f14b0db4251aab49b44395f1e0c"
          }
        },
        "62093f9ba64448beb090c5ad79b6bf06": {
          "model_module": "@jupyter-widgets/controls",
          "model_name": "HTMLModel",
          "state": {
            "_view_name": "HTMLView",
            "style": "IPY_MODEL_41dd7b5d740e4596a5b60b3119a9196d",
            "_dom_classes": [],
            "description": "",
            "_model_name": "HTMLModel",
            "placeholder": "​",
            "_view_module": "@jupyter-widgets/controls",
            "_model_module_version": "1.5.0",
            "value": " 456/456 [00:08&lt;00:00, 51.7B/s]",
            "_view_count": null,
            "_view_module_version": "1.5.0",
            "description_tooltip": null,
            "_model_module": "@jupyter-widgets/controls",
            "layout": "IPY_MODEL_eea1230ae2474bedb5fe1f84a1d6c992"
          }
        },
        "5f20a5fccdce4f6f98ae2fc4887378ba": {
          "model_module": "@jupyter-widgets/controls",
          "model_name": "ProgressStyleModel",
          "state": {
            "_view_name": "StyleView",
            "_model_name": "ProgressStyleModel",
            "description_width": "initial",
            "_view_module": "@jupyter-widgets/base",
            "_model_module_version": "1.5.0",
            "_view_count": null,
            "_view_module_version": "1.2.0",
            "bar_color": null,
            "_model_module": "@jupyter-widgets/controls"
          }
        },
        "77ea2f14b0db4251aab49b44395f1e0c": {
          "model_module": "@jupyter-widgets/base",
          "model_name": "LayoutModel",
          "state": {
            "_view_name": "LayoutView",
            "grid_template_rows": null,
            "right": null,
            "justify_content": null,
            "_view_module": "@jupyter-widgets/base",
            "overflow": null,
            "_model_module_version": "1.2.0",
            "_view_count": null,
            "flex_flow": null,
            "width": null,
            "min_width": null,
            "border": null,
            "align_items": null,
            "bottom": null,
            "_model_module": "@jupyter-widgets/base",
            "top": null,
            "grid_column": null,
            "overflow_y": null,
            "overflow_x": null,
            "grid_auto_flow": null,
            "grid_area": null,
            "grid_template_columns": null,
            "flex": null,
            "_model_name": "LayoutModel",
            "justify_items": null,
            "grid_row": null,
            "max_height": null,
            "align_content": null,
            "visibility": null,
            "align_self": null,
            "height": null,
            "min_height": null,
            "padding": null,
            "grid_auto_rows": null,
            "grid_gap": null,
            "max_width": null,
            "order": null,
            "_view_module_version": "1.2.0",
            "grid_template_areas": null,
            "object_position": null,
            "object_fit": null,
            "grid_auto_columns": null,
            "margin": null,
            "display": null,
            "left": null
          }
        },
        "41dd7b5d740e4596a5b60b3119a9196d": {
          "model_module": "@jupyter-widgets/controls",
          "model_name": "DescriptionStyleModel",
          "state": {
            "_view_name": "StyleView",
            "_model_name": "DescriptionStyleModel",
            "description_width": "",
            "_view_module": "@jupyter-widgets/base",
            "_model_module_version": "1.5.0",
            "_view_count": null,
            "_view_module_version": "1.2.0",
            "_model_module": "@jupyter-widgets/controls"
          }
        },
        "eea1230ae2474bedb5fe1f84a1d6c992": {
          "model_module": "@jupyter-widgets/base",
          "model_name": "LayoutModel",
          "state": {
            "_view_name": "LayoutView",
            "grid_template_rows": null,
            "right": null,
            "justify_content": null,
            "_view_module": "@jupyter-widgets/base",
            "overflow": null,
            "_model_module_version": "1.2.0",
            "_view_count": null,
            "flex_flow": null,
            "width": null,
            "min_width": null,
            "border": null,
            "align_items": null,
            "bottom": null,
            "_model_module": "@jupyter-widgets/base",
            "top": null,
            "grid_column": null,
            "overflow_y": null,
            "overflow_x": null,
            "grid_auto_flow": null,
            "grid_area": null,
            "grid_template_columns": null,
            "flex": null,
            "_model_name": "LayoutModel",
            "justify_items": null,
            "grid_row": null,
            "max_height": null,
            "align_content": null,
            "visibility": null,
            "align_self": null,
            "height": null,
            "min_height": null,
            "padding": null,
            "grid_auto_rows": null,
            "grid_gap": null,
            "max_width": null,
            "order": null,
            "_view_module_version": "1.2.0",
            "grid_template_areas": null,
            "object_position": null,
            "object_fit": null,
            "grid_auto_columns": null,
            "margin": null,
            "display": null,
            "left": null
          }
        },
        "18a015f050c24eeca7718e609772d147": {
          "model_module": "@jupyter-widgets/controls",
          "model_name": "HBoxModel",
          "state": {
            "_view_name": "HBoxView",
            "_dom_classes": [],
            "_model_name": "HBoxModel",
            "_view_module": "@jupyter-widgets/controls",
            "_model_module_version": "1.5.0",
            "_view_count": null,
            "_view_module_version": "1.5.0",
            "box_style": "",
            "layout": "IPY_MODEL_0cd62d3ff9024b18b09ba4499dfa5f43",
            "_model_module": "@jupyter-widgets/controls",
            "children": [
              "IPY_MODEL_917b461b3bee4906903a65ad58a122fa",
              "IPY_MODEL_4a542ad2f75c4fedb849fd9bf50935ae"
            ]
          }
        },
        "0cd62d3ff9024b18b09ba4499dfa5f43": {
          "model_module": "@jupyter-widgets/base",
          "model_name": "LayoutModel",
          "state": {
            "_view_name": "LayoutView",
            "grid_template_rows": null,
            "right": null,
            "justify_content": null,
            "_view_module": "@jupyter-widgets/base",
            "overflow": null,
            "_model_module_version": "1.2.0",
            "_view_count": null,
            "flex_flow": null,
            "width": null,
            "min_width": null,
            "border": null,
            "align_items": null,
            "bottom": null,
            "_model_module": "@jupyter-widgets/base",
            "top": null,
            "grid_column": null,
            "overflow_y": null,
            "overflow_x": null,
            "grid_auto_flow": null,
            "grid_area": null,
            "grid_template_columns": null,
            "flex": null,
            "_model_name": "LayoutModel",
            "justify_items": null,
            "grid_row": null,
            "max_height": null,
            "align_content": null,
            "visibility": null,
            "align_self": null,
            "height": null,
            "min_height": null,
            "padding": null,
            "grid_auto_rows": null,
            "grid_gap": null,
            "max_width": null,
            "order": null,
            "_view_module_version": "1.2.0",
            "grid_template_areas": null,
            "object_position": null,
            "object_fit": null,
            "grid_auto_columns": null,
            "margin": null,
            "display": null,
            "left": null
          }
        },
        "917b461b3bee4906903a65ad58a122fa": {
          "model_module": "@jupyter-widgets/controls",
          "model_name": "FloatProgressModel",
          "state": {
            "_view_name": "ProgressView",
            "style": "IPY_MODEL_275f5ef9b0fb45468c0af707e9446fb4",
            "_dom_classes": [],
            "description": "Downloading: 100%",
            "_model_name": "FloatProgressModel",
            "bar_style": "success",
            "max": 441944381,
            "_view_module": "@jupyter-widgets/controls",
            "_model_module_version": "1.5.0",
            "value": 441944381,
            "_view_count": null,
            "_view_module_version": "1.5.0",
            "orientation": "horizontal",
            "min": 0,
            "description_tooltip": null,
            "_model_module": "@jupyter-widgets/controls",
            "layout": "IPY_MODEL_07857bd27028446b87f1fcc58397a7f3"
          }
        },
        "4a542ad2f75c4fedb849fd9bf50935ae": {
          "model_module": "@jupyter-widgets/controls",
          "model_name": "HTMLModel",
          "state": {
            "_view_name": "HTMLView",
            "style": "IPY_MODEL_4ef0c2aa49ba45aaa3d6aefe8e90b18f",
            "_dom_classes": [],
            "description": "",
            "_model_name": "HTMLModel",
            "placeholder": "​",
            "_view_module": "@jupyter-widgets/controls",
            "_model_module_version": "1.5.0",
            "value": " 442M/442M [00:07&lt;00:00, 59.7MB/s]",
            "_view_count": null,
            "_view_module_version": "1.5.0",
            "description_tooltip": null,
            "_model_module": "@jupyter-widgets/controls",
            "layout": "IPY_MODEL_ede8502728ec43baaf60f8197a0b8791"
          }
        },
        "275f5ef9b0fb45468c0af707e9446fb4": {
          "model_module": "@jupyter-widgets/controls",
          "model_name": "ProgressStyleModel",
          "state": {
            "_view_name": "StyleView",
            "_model_name": "ProgressStyleModel",
            "description_width": "initial",
            "_view_module": "@jupyter-widgets/base",
            "_model_module_version": "1.5.0",
            "_view_count": null,
            "_view_module_version": "1.2.0",
            "bar_color": null,
            "_model_module": "@jupyter-widgets/controls"
          }
        },
        "07857bd27028446b87f1fcc58397a7f3": {
          "model_module": "@jupyter-widgets/base",
          "model_name": "LayoutModel",
          "state": {
            "_view_name": "LayoutView",
            "grid_template_rows": null,
            "right": null,
            "justify_content": null,
            "_view_module": "@jupyter-widgets/base",
            "overflow": null,
            "_model_module_version": "1.2.0",
            "_view_count": null,
            "flex_flow": null,
            "width": null,
            "min_width": null,
            "border": null,
            "align_items": null,
            "bottom": null,
            "_model_module": "@jupyter-widgets/base",
            "top": null,
            "grid_column": null,
            "overflow_y": null,
            "overflow_x": null,
            "grid_auto_flow": null,
            "grid_area": null,
            "grid_template_columns": null,
            "flex": null,
            "_model_name": "LayoutModel",
            "justify_items": null,
            "grid_row": null,
            "max_height": null,
            "align_content": null,
            "visibility": null,
            "align_self": null,
            "height": null,
            "min_height": null,
            "padding": null,
            "grid_auto_rows": null,
            "grid_gap": null,
            "max_width": null,
            "order": null,
            "_view_module_version": "1.2.0",
            "grid_template_areas": null,
            "object_position": null,
            "object_fit": null,
            "grid_auto_columns": null,
            "margin": null,
            "display": null,
            "left": null
          }
        },
        "4ef0c2aa49ba45aaa3d6aefe8e90b18f": {
          "model_module": "@jupyter-widgets/controls",
          "model_name": "DescriptionStyleModel",
          "state": {
            "_view_name": "StyleView",
            "_model_name": "DescriptionStyleModel",
            "description_width": "",
            "_view_module": "@jupyter-widgets/base",
            "_model_module_version": "1.5.0",
            "_view_count": null,
            "_view_module_version": "1.2.0",
            "_model_module": "@jupyter-widgets/controls"
          }
        },
        "ede8502728ec43baaf60f8197a0b8791": {
          "model_module": "@jupyter-widgets/base",
          "model_name": "LayoutModel",
          "state": {
            "_view_name": "LayoutView",
            "grid_template_rows": null,
            "right": null,
            "justify_content": null,
            "_view_module": "@jupyter-widgets/base",
            "overflow": null,
            "_model_module_version": "1.2.0",
            "_view_count": null,
            "flex_flow": null,
            "width": null,
            "min_width": null,
            "border": null,
            "align_items": null,
            "bottom": null,
            "_model_module": "@jupyter-widgets/base",
            "top": null,
            "grid_column": null,
            "overflow_y": null,
            "overflow_x": null,
            "grid_auto_flow": null,
            "grid_area": null,
            "grid_template_columns": null,
            "flex": null,
            "_model_name": "LayoutModel",
            "justify_items": null,
            "grid_row": null,
            "max_height": null,
            "align_content": null,
            "visibility": null,
            "align_self": null,
            "height": null,
            "min_height": null,
            "padding": null,
            "grid_auto_rows": null,
            "grid_gap": null,
            "max_width": null,
            "order": null,
            "_view_module_version": "1.2.0",
            "grid_template_areas": null,
            "object_position": null,
            "object_fit": null,
            "grid_auto_columns": null,
            "margin": null,
            "display": null,
            "left": null
          }
        },
        "88f100baf0c54e39a4b03c16f841b24c": {
          "model_module": "@jupyter-widgets/controls",
          "model_name": "HBoxModel",
          "state": {
            "_view_name": "HBoxView",
            "_dom_classes": [],
            "_model_name": "HBoxModel",
            "_view_module": "@jupyter-widgets/controls",
            "_model_module_version": "1.5.0",
            "_view_count": null,
            "_view_module_version": "1.5.0",
            "box_style": "",
            "layout": "IPY_MODEL_d80cafc4c2764f5baaa2cd5a787bc186",
            "_model_module": "@jupyter-widgets/controls",
            "children": [
              "IPY_MODEL_908bcd868d524814a66f934ca3e4c767",
              "IPY_MODEL_380dee4231f8491b92344f8a5facee49"
            ]
          }
        },
        "d80cafc4c2764f5baaa2cd5a787bc186": {
          "model_module": "@jupyter-widgets/base",
          "model_name": "LayoutModel",
          "state": {
            "_view_name": "LayoutView",
            "grid_template_rows": null,
            "right": null,
            "justify_content": null,
            "_view_module": "@jupyter-widgets/base",
            "overflow": null,
            "_model_module_version": "1.2.0",
            "_view_count": null,
            "flex_flow": null,
            "width": null,
            "min_width": null,
            "border": null,
            "align_items": null,
            "bottom": null,
            "_model_module": "@jupyter-widgets/base",
            "top": null,
            "grid_column": null,
            "overflow_y": null,
            "overflow_x": null,
            "grid_auto_flow": null,
            "grid_area": null,
            "grid_template_columns": null,
            "flex": null,
            "_model_name": "LayoutModel",
            "justify_items": null,
            "grid_row": null,
            "max_height": null,
            "align_content": null,
            "visibility": null,
            "align_self": null,
            "height": null,
            "min_height": null,
            "padding": null,
            "grid_auto_rows": null,
            "grid_gap": null,
            "max_width": null,
            "order": null,
            "_view_module_version": "1.2.0",
            "grid_template_areas": null,
            "object_position": null,
            "object_fit": null,
            "grid_auto_columns": null,
            "margin": null,
            "display": null,
            "left": null
          }
        },
        "908bcd868d524814a66f934ca3e4c767": {
          "model_module": "@jupyter-widgets/controls",
          "model_name": "FloatProgressModel",
          "state": {
            "_view_name": "ProgressView",
            "style": "IPY_MODEL_4e4b6dee067249fb8cb5e4c656131b28",
            "_dom_classes": [],
            "description": "Downloading: 100%",
            "_model_name": "FloatProgressModel",
            "bar_style": "success",
            "max": 242120,
            "_view_module": "@jupyter-widgets/controls",
            "_model_module_version": "1.5.0",
            "value": 242120,
            "_view_count": null,
            "_view_module_version": "1.5.0",
            "orientation": "horizontal",
            "min": 0,
            "description_tooltip": null,
            "_model_module": "@jupyter-widgets/controls",
            "layout": "IPY_MODEL_061b12c3008b40d8a2acd40de881de86"
          }
        },
        "380dee4231f8491b92344f8a5facee49": {
          "model_module": "@jupyter-widgets/controls",
          "model_name": "HTMLModel",
          "state": {
            "_view_name": "HTMLView",
            "style": "IPY_MODEL_5195b1caf9734cdaa5ad31be2668e019",
            "_dom_classes": [],
            "description": "",
            "_model_name": "HTMLModel",
            "placeholder": "​",
            "_view_module": "@jupyter-widgets/controls",
            "_model_module_version": "1.5.0",
            "value": " 242k/242k [00:03&lt;00:00, 63.7kB/s]",
            "_view_count": null,
            "_view_module_version": "1.5.0",
            "description_tooltip": null,
            "_model_module": "@jupyter-widgets/controls",
            "layout": "IPY_MODEL_29ad3c6436b348ac84f4de96b7cac366"
          }
        },
        "4e4b6dee067249fb8cb5e4c656131b28": {
          "model_module": "@jupyter-widgets/controls",
          "model_name": "ProgressStyleModel",
          "state": {
            "_view_name": "StyleView",
            "_model_name": "ProgressStyleModel",
            "description_width": "initial",
            "_view_module": "@jupyter-widgets/base",
            "_model_module_version": "1.5.0",
            "_view_count": null,
            "_view_module_version": "1.2.0",
            "bar_color": null,
            "_model_module": "@jupyter-widgets/controls"
          }
        },
        "061b12c3008b40d8a2acd40de881de86": {
          "model_module": "@jupyter-widgets/base",
          "model_name": "LayoutModel",
          "state": {
            "_view_name": "LayoutView",
            "grid_template_rows": null,
            "right": null,
            "justify_content": null,
            "_view_module": "@jupyter-widgets/base",
            "overflow": null,
            "_model_module_version": "1.2.0",
            "_view_count": null,
            "flex_flow": null,
            "width": null,
            "min_width": null,
            "border": null,
            "align_items": null,
            "bottom": null,
            "_model_module": "@jupyter-widgets/base",
            "top": null,
            "grid_column": null,
            "overflow_y": null,
            "overflow_x": null,
            "grid_auto_flow": null,
            "grid_area": null,
            "grid_template_columns": null,
            "flex": null,
            "_model_name": "LayoutModel",
            "justify_items": null,
            "grid_row": null,
            "max_height": null,
            "align_content": null,
            "visibility": null,
            "align_self": null,
            "height": null,
            "min_height": null,
            "padding": null,
            "grid_auto_rows": null,
            "grid_gap": null,
            "max_width": null,
            "order": null,
            "_view_module_version": "1.2.0",
            "grid_template_areas": null,
            "object_position": null,
            "object_fit": null,
            "grid_auto_columns": null,
            "margin": null,
            "display": null,
            "left": null
          }
        },
        "5195b1caf9734cdaa5ad31be2668e019": {
          "model_module": "@jupyter-widgets/controls",
          "model_name": "DescriptionStyleModel",
          "state": {
            "_view_name": "StyleView",
            "_model_name": "DescriptionStyleModel",
            "description_width": "",
            "_view_module": "@jupyter-widgets/base",
            "_model_module_version": "1.5.0",
            "_view_count": null,
            "_view_module_version": "1.2.0",
            "_model_module": "@jupyter-widgets/controls"
          }
        },
        "29ad3c6436b348ac84f4de96b7cac366": {
          "model_module": "@jupyter-widgets/base",
          "model_name": "LayoutModel",
          "state": {
            "_view_name": "LayoutView",
            "grid_template_rows": null,
            "right": null,
            "justify_content": null,
            "_view_module": "@jupyter-widgets/base",
            "overflow": null,
            "_model_module_version": "1.2.0",
            "_view_count": null,
            "flex_flow": null,
            "width": null,
            "min_width": null,
            "border": null,
            "align_items": null,
            "bottom": null,
            "_model_module": "@jupyter-widgets/base",
            "top": null,
            "grid_column": null,
            "overflow_y": null,
            "overflow_x": null,
            "grid_auto_flow": null,
            "grid_area": null,
            "grid_template_columns": null,
            "flex": null,
            "_model_name": "LayoutModel",
            "justify_items": null,
            "grid_row": null,
            "max_height": null,
            "align_content": null,
            "visibility": null,
            "align_self": null,
            "height": null,
            "min_height": null,
            "padding": null,
            "grid_auto_rows": null,
            "grid_gap": null,
            "max_width": null,
            "order": null,
            "_view_module_version": "1.2.0",
            "grid_template_areas": null,
            "object_position": null,
            "object_fit": null,
            "grid_auto_columns": null,
            "margin": null,
            "display": null,
            "left": null
          }
        },
        "5a0c960736eb48c3bb7af368743de5e3": {
          "model_module": "@jupyter-widgets/controls",
          "model_name": "HBoxModel",
          "state": {
            "_view_name": "HBoxView",
            "_dom_classes": [],
            "_model_name": "HBoxModel",
            "_view_module": "@jupyter-widgets/controls",
            "_model_module_version": "1.5.0",
            "_view_count": null,
            "_view_module_version": "1.5.0",
            "box_style": "",
            "layout": "IPY_MODEL_c6bdca822aff4d0091db7804de4b2eea",
            "_model_module": "@jupyter-widgets/controls",
            "children": [
              "IPY_MODEL_67b2a4f84c4b46d6a2a23b8ef511fdff",
              "IPY_MODEL_33df8f9769d94b2c9f3b3a743ad4c785"
            ]
          }
        },
        "c6bdca822aff4d0091db7804de4b2eea": {
          "model_module": "@jupyter-widgets/base",
          "model_name": "LayoutModel",
          "state": {
            "_view_name": "LayoutView",
            "grid_template_rows": null,
            "right": null,
            "justify_content": null,
            "_view_module": "@jupyter-widgets/base",
            "overflow": null,
            "_model_module_version": "1.2.0",
            "_view_count": null,
            "flex_flow": null,
            "width": null,
            "min_width": null,
            "border": null,
            "align_items": null,
            "bottom": null,
            "_model_module": "@jupyter-widgets/base",
            "top": null,
            "grid_column": null,
            "overflow_y": null,
            "overflow_x": null,
            "grid_auto_flow": null,
            "grid_area": null,
            "grid_template_columns": null,
            "flex": null,
            "_model_name": "LayoutModel",
            "justify_items": null,
            "grid_row": null,
            "max_height": null,
            "align_content": null,
            "visibility": null,
            "align_self": null,
            "height": null,
            "min_height": null,
            "padding": null,
            "grid_auto_rows": null,
            "grid_gap": null,
            "max_width": null,
            "order": null,
            "_view_module_version": "1.2.0",
            "grid_template_areas": null,
            "object_position": null,
            "object_fit": null,
            "grid_auto_columns": null,
            "margin": null,
            "display": null,
            "left": null
          }
        },
        "67b2a4f84c4b46d6a2a23b8ef511fdff": {
          "model_module": "@jupyter-widgets/controls",
          "model_name": "FloatProgressModel",
          "state": {
            "_view_name": "ProgressView",
            "style": "IPY_MODEL_28ec9230a1244686be4ae5e9ef2d32e4",
            "_dom_classes": [],
            "description": "Downloading: 100%",
            "_model_name": "FloatProgressModel",
            "bar_style": "success",
            "max": 2,
            "_view_module": "@jupyter-widgets/controls",
            "_model_module_version": "1.5.0",
            "value": 2,
            "_view_count": null,
            "_view_module_version": "1.5.0",
            "orientation": "horizontal",
            "min": 0,
            "description_tooltip": null,
            "_model_module": "@jupyter-widgets/controls",
            "layout": "IPY_MODEL_9c2f200604d548c888bbbc85a3edf0b5"
          }
        },
        "33df8f9769d94b2c9f3b3a743ad4c785": {
          "model_module": "@jupyter-widgets/controls",
          "model_name": "HTMLModel",
          "state": {
            "_view_name": "HTMLView",
            "style": "IPY_MODEL_8f007586b33b4946ab2ea426251b7e7b",
            "_dom_classes": [],
            "description": "",
            "_model_name": "HTMLModel",
            "placeholder": "​",
            "_view_module": "@jupyter-widgets/controls",
            "_model_module_version": "1.5.0",
            "value": " 2.00/2.00 [00:01&lt;00:00, 1.30B/s]",
            "_view_count": null,
            "_view_module_version": "1.5.0",
            "description_tooltip": null,
            "_model_module": "@jupyter-widgets/controls",
            "layout": "IPY_MODEL_8968490ce72f4abea22bc1dc36744e2f"
          }
        },
        "28ec9230a1244686be4ae5e9ef2d32e4": {
          "model_module": "@jupyter-widgets/controls",
          "model_name": "ProgressStyleModel",
          "state": {
            "_view_name": "StyleView",
            "_model_name": "ProgressStyleModel",
            "description_width": "initial",
            "_view_module": "@jupyter-widgets/base",
            "_model_module_version": "1.5.0",
            "_view_count": null,
            "_view_module_version": "1.2.0",
            "bar_color": null,
            "_model_module": "@jupyter-widgets/controls"
          }
        },
        "9c2f200604d548c888bbbc85a3edf0b5": {
          "model_module": "@jupyter-widgets/base",
          "model_name": "LayoutModel",
          "state": {
            "_view_name": "LayoutView",
            "grid_template_rows": null,
            "right": null,
            "justify_content": null,
            "_view_module": "@jupyter-widgets/base",
            "overflow": null,
            "_model_module_version": "1.2.0",
            "_view_count": null,
            "flex_flow": null,
            "width": null,
            "min_width": null,
            "border": null,
            "align_items": null,
            "bottom": null,
            "_model_module": "@jupyter-widgets/base",
            "top": null,
            "grid_column": null,
            "overflow_y": null,
            "overflow_x": null,
            "grid_auto_flow": null,
            "grid_area": null,
            "grid_template_columns": null,
            "flex": null,
            "_model_name": "LayoutModel",
            "justify_items": null,
            "grid_row": null,
            "max_height": null,
            "align_content": null,
            "visibility": null,
            "align_self": null,
            "height": null,
            "min_height": null,
            "padding": null,
            "grid_auto_rows": null,
            "grid_gap": null,
            "max_width": null,
            "order": null,
            "_view_module_version": "1.2.0",
            "grid_template_areas": null,
            "object_position": null,
            "object_fit": null,
            "grid_auto_columns": null,
            "margin": null,
            "display": null,
            "left": null
          }
        },
        "8f007586b33b4946ab2ea426251b7e7b": {
          "model_module": "@jupyter-widgets/controls",
          "model_name": "DescriptionStyleModel",
          "state": {
            "_view_name": "StyleView",
            "_model_name": "DescriptionStyleModel",
            "description_width": "",
            "_view_module": "@jupyter-widgets/base",
            "_model_module_version": "1.5.0",
            "_view_count": null,
            "_view_module_version": "1.2.0",
            "_model_module": "@jupyter-widgets/controls"
          }
        },
        "8968490ce72f4abea22bc1dc36744e2f": {
          "model_module": "@jupyter-widgets/base",
          "model_name": "LayoutModel",
          "state": {
            "_view_name": "LayoutView",
            "grid_template_rows": null,
            "right": null,
            "justify_content": null,
            "_view_module": "@jupyter-widgets/base",
            "overflow": null,
            "_model_module_version": "1.2.0",
            "_view_count": null,
            "flex_flow": null,
            "width": null,
            "min_width": null,
            "border": null,
            "align_items": null,
            "bottom": null,
            "_model_module": "@jupyter-widgets/base",
            "top": null,
            "grid_column": null,
            "overflow_y": null,
            "overflow_x": null,
            "grid_auto_flow": null,
            "grid_area": null,
            "grid_template_columns": null,
            "flex": null,
            "_model_name": "LayoutModel",
            "justify_items": null,
            "grid_row": null,
            "max_height": null,
            "align_content": null,
            "visibility": null,
            "align_self": null,
            "height": null,
            "min_height": null,
            "padding": null,
            "grid_auto_rows": null,
            "grid_gap": null,
            "max_width": null,
            "order": null,
            "_view_module_version": "1.2.0",
            "grid_template_areas": null,
            "object_position": null,
            "object_fit": null,
            "grid_auto_columns": null,
            "margin": null,
            "display": null,
            "left": null
          }
        },
        "5a3413e444af41f384582e4706993c66": {
          "model_module": "@jupyter-widgets/controls",
          "model_name": "HBoxModel",
          "state": {
            "_view_name": "HBoxView",
            "_dom_classes": [],
            "_model_name": "HBoxModel",
            "_view_module": "@jupyter-widgets/controls",
            "_model_module_version": "1.5.0",
            "_view_count": null,
            "_view_module_version": "1.5.0",
            "box_style": "",
            "layout": "IPY_MODEL_db31c14ca1314f9ebdba78eeec6b505a",
            "_model_module": "@jupyter-widgets/controls",
            "children": [
              "IPY_MODEL_0a2e6ad4f17749f1aae11b888b14e76f",
              "IPY_MODEL_f207a48850404af4a058e538954dca61"
            ]
          }
        },
        "db31c14ca1314f9ebdba78eeec6b505a": {
          "model_module": "@jupyter-widgets/base",
          "model_name": "LayoutModel",
          "state": {
            "_view_name": "LayoutView",
            "grid_template_rows": null,
            "right": null,
            "justify_content": null,
            "_view_module": "@jupyter-widgets/base",
            "overflow": null,
            "_model_module_version": "1.2.0",
            "_view_count": null,
            "flex_flow": null,
            "width": null,
            "min_width": null,
            "border": null,
            "align_items": null,
            "bottom": null,
            "_model_module": "@jupyter-widgets/base",
            "top": null,
            "grid_column": null,
            "overflow_y": null,
            "overflow_x": null,
            "grid_auto_flow": null,
            "grid_area": null,
            "grid_template_columns": null,
            "flex": null,
            "_model_name": "LayoutModel",
            "justify_items": null,
            "grid_row": null,
            "max_height": null,
            "align_content": null,
            "visibility": null,
            "align_self": null,
            "height": null,
            "min_height": null,
            "padding": null,
            "grid_auto_rows": null,
            "grid_gap": null,
            "max_width": null,
            "order": null,
            "_view_module_version": "1.2.0",
            "grid_template_areas": null,
            "object_position": null,
            "object_fit": null,
            "grid_auto_columns": null,
            "margin": null,
            "display": null,
            "left": null
          }
        },
        "0a2e6ad4f17749f1aae11b888b14e76f": {
          "model_module": "@jupyter-widgets/controls",
          "model_name": "FloatProgressModel",
          "state": {
            "_view_name": "ProgressView",
            "style": "IPY_MODEL_ae1ef2a851d840a58a6ca56348e1af96",
            "_dom_classes": [],
            "description": "Downloading: 100%",
            "_model_name": "FloatProgressModel",
            "bar_style": "success",
            "max": 112,
            "_view_module": "@jupyter-widgets/controls",
            "_model_module_version": "1.5.0",
            "value": 112,
            "_view_count": null,
            "_view_module_version": "1.5.0",
            "orientation": "horizontal",
            "min": 0,
            "description_tooltip": null,
            "_model_module": "@jupyter-widgets/controls",
            "layout": "IPY_MODEL_2cda63e7e28642d58be7d825b8833e85"
          }
        },
        "f207a48850404af4a058e538954dca61": {
          "model_module": "@jupyter-widgets/controls",
          "model_name": "HTMLModel",
          "state": {
            "_view_name": "HTMLView",
            "style": "IPY_MODEL_268c917ab2414eaca3343b8bdbc841a3",
            "_dom_classes": [],
            "description": "",
            "_model_name": "HTMLModel",
            "placeholder": "​",
            "_view_module": "@jupyter-widgets/controls",
            "_model_module_version": "1.5.0",
            "value": " 112/112 [00:02&lt;00:00, 46.2B/s]",
            "_view_count": null,
            "_view_module_version": "1.5.0",
            "description_tooltip": null,
            "_model_module": "@jupyter-widgets/controls",
            "layout": "IPY_MODEL_f3252f6e13de45b0837b5db137e94d7f"
          }
        },
        "ae1ef2a851d840a58a6ca56348e1af96": {
          "model_module": "@jupyter-widgets/controls",
          "model_name": "ProgressStyleModel",
          "state": {
            "_view_name": "StyleView",
            "_model_name": "ProgressStyleModel",
            "description_width": "initial",
            "_view_module": "@jupyter-widgets/base",
            "_model_module_version": "1.5.0",
            "_view_count": null,
            "_view_module_version": "1.2.0",
            "bar_color": null,
            "_model_module": "@jupyter-widgets/controls"
          }
        },
        "2cda63e7e28642d58be7d825b8833e85": {
          "model_module": "@jupyter-widgets/base",
          "model_name": "LayoutModel",
          "state": {
            "_view_name": "LayoutView",
            "grid_template_rows": null,
            "right": null,
            "justify_content": null,
            "_view_module": "@jupyter-widgets/base",
            "overflow": null,
            "_model_module_version": "1.2.0",
            "_view_count": null,
            "flex_flow": null,
            "width": null,
            "min_width": null,
            "border": null,
            "align_items": null,
            "bottom": null,
            "_model_module": "@jupyter-widgets/base",
            "top": null,
            "grid_column": null,
            "overflow_y": null,
            "overflow_x": null,
            "grid_auto_flow": null,
            "grid_area": null,
            "grid_template_columns": null,
            "flex": null,
            "_model_name": "LayoutModel",
            "justify_items": null,
            "grid_row": null,
            "max_height": null,
            "align_content": null,
            "visibility": null,
            "align_self": null,
            "height": null,
            "min_height": null,
            "padding": null,
            "grid_auto_rows": null,
            "grid_gap": null,
            "max_width": null,
            "order": null,
            "_view_module_version": "1.2.0",
            "grid_template_areas": null,
            "object_position": null,
            "object_fit": null,
            "grid_auto_columns": null,
            "margin": null,
            "display": null,
            "left": null
          }
        },
        "268c917ab2414eaca3343b8bdbc841a3": {
          "model_module": "@jupyter-widgets/controls",
          "model_name": "DescriptionStyleModel",
          "state": {
            "_view_name": "StyleView",
            "_model_name": "DescriptionStyleModel",
            "description_width": "",
            "_view_module": "@jupyter-widgets/base",
            "_model_module_version": "1.5.0",
            "_view_count": null,
            "_view_module_version": "1.2.0",
            "_model_module": "@jupyter-widgets/controls"
          }
        },
        "f3252f6e13de45b0837b5db137e94d7f": {
          "model_module": "@jupyter-widgets/base",
          "model_name": "LayoutModel",
          "state": {
            "_view_name": "LayoutView",
            "grid_template_rows": null,
            "right": null,
            "justify_content": null,
            "_view_module": "@jupyter-widgets/base",
            "overflow": null,
            "_model_module_version": "1.2.0",
            "_view_count": null,
            "flex_flow": null,
            "width": null,
            "min_width": null,
            "border": null,
            "align_items": null,
            "bottom": null,
            "_model_module": "@jupyter-widgets/base",
            "top": null,
            "grid_column": null,
            "overflow_y": null,
            "overflow_x": null,
            "grid_auto_flow": null,
            "grid_area": null,
            "grid_template_columns": null,
            "flex": null,
            "_model_name": "LayoutModel",
            "justify_items": null,
            "grid_row": null,
            "max_height": null,
            "align_content": null,
            "visibility": null,
            "align_self": null,
            "height": null,
            "min_height": null,
            "padding": null,
            "grid_auto_rows": null,
            "grid_gap": null,
            "max_width": null,
            "order": null,
            "_view_module_version": "1.2.0",
            "grid_template_areas": null,
            "object_position": null,
            "object_fit": null,
            "grid_auto_columns": null,
            "margin": null,
            "display": null,
            "left": null
          }
        },
        "5c729123914a496ca732d002e965cdbe": {
          "model_module": "@jupyter-widgets/controls",
          "model_name": "HBoxModel",
          "state": {
            "_view_name": "HBoxView",
            "_dom_classes": [],
            "_model_name": "HBoxModel",
            "_view_module": "@jupyter-widgets/controls",
            "_model_module_version": "1.5.0",
            "_view_count": null,
            "_view_module_version": "1.5.0",
            "box_style": "",
            "layout": "IPY_MODEL_c435a24390a248148d40df1ecea52ae7",
            "_model_module": "@jupyter-widgets/controls",
            "children": [
              "IPY_MODEL_91c5a714834a496fa0c694c561c87db8",
              "IPY_MODEL_d13900fc55d04e77a9257a2b35574ca8"
            ]
          }
        },
        "c435a24390a248148d40df1ecea52ae7": {
          "model_module": "@jupyter-widgets/base",
          "model_name": "LayoutModel",
          "state": {
            "_view_name": "LayoutView",
            "grid_template_rows": null,
            "right": null,
            "justify_content": null,
            "_view_module": "@jupyter-widgets/base",
            "overflow": null,
            "_model_module_version": "1.2.0",
            "_view_count": null,
            "flex_flow": null,
            "width": null,
            "min_width": null,
            "border": null,
            "align_items": null,
            "bottom": null,
            "_model_module": "@jupyter-widgets/base",
            "top": null,
            "grid_column": null,
            "overflow_y": null,
            "overflow_x": null,
            "grid_auto_flow": null,
            "grid_area": null,
            "grid_template_columns": null,
            "flex": null,
            "_model_name": "LayoutModel",
            "justify_items": null,
            "grid_row": null,
            "max_height": null,
            "align_content": null,
            "visibility": null,
            "align_self": null,
            "height": null,
            "min_height": null,
            "padding": null,
            "grid_auto_rows": null,
            "grid_gap": null,
            "max_width": null,
            "order": null,
            "_view_module_version": "1.2.0",
            "grid_template_areas": null,
            "object_position": null,
            "object_fit": null,
            "grid_auto_columns": null,
            "margin": null,
            "display": null,
            "left": null
          }
        },
        "91c5a714834a496fa0c694c561c87db8": {
          "model_module": "@jupyter-widgets/controls",
          "model_name": "FloatProgressModel",
          "state": {
            "_view_name": "ProgressView",
            "style": "IPY_MODEL_0a290c9b29d842908370fc84c69b7019",
            "_dom_classes": [],
            "description": "Downloading: 100%",
            "_model_name": "FloatProgressModel",
            "bar_style": "success",
            "max": 43,
            "_view_module": "@jupyter-widgets/controls",
            "_model_module_version": "1.5.0",
            "value": 43,
            "_view_count": null,
            "_view_module_version": "1.5.0",
            "orientation": "horizontal",
            "min": 0,
            "description_tooltip": null,
            "_model_module": "@jupyter-widgets/controls",
            "layout": "IPY_MODEL_7c80c522a4114bd49a1894c9376879b1"
          }
        },
        "d13900fc55d04e77a9257a2b35574ca8": {
          "model_module": "@jupyter-widgets/controls",
          "model_name": "HTMLModel",
          "state": {
            "_view_name": "HTMLView",
            "style": "IPY_MODEL_7f4b5bb089d7425b878197bbfed2821f",
            "_dom_classes": [],
            "description": "",
            "_model_name": "HTMLModel",
            "placeholder": "​",
            "_view_module": "@jupyter-widgets/controls",
            "_model_module_version": "1.5.0",
            "value": " 43.0/43.0 [00:00&lt;00:00, 49.3B/s]",
            "_view_count": null,
            "_view_module_version": "1.5.0",
            "description_tooltip": null,
            "_model_module": "@jupyter-widgets/controls",
            "layout": "IPY_MODEL_6360dec424354dde8e17bbc5980159a2"
          }
        },
        "0a290c9b29d842908370fc84c69b7019": {
          "model_module": "@jupyter-widgets/controls",
          "model_name": "ProgressStyleModel",
          "state": {
            "_view_name": "StyleView",
            "_model_name": "ProgressStyleModel",
            "description_width": "initial",
            "_view_module": "@jupyter-widgets/base",
            "_model_module_version": "1.5.0",
            "_view_count": null,
            "_view_module_version": "1.2.0",
            "bar_color": null,
            "_model_module": "@jupyter-widgets/controls"
          }
        },
        "7c80c522a4114bd49a1894c9376879b1": {
          "model_module": "@jupyter-widgets/base",
          "model_name": "LayoutModel",
          "state": {
            "_view_name": "LayoutView",
            "grid_template_rows": null,
            "right": null,
            "justify_content": null,
            "_view_module": "@jupyter-widgets/base",
            "overflow": null,
            "_model_module_version": "1.2.0",
            "_view_count": null,
            "flex_flow": null,
            "width": null,
            "min_width": null,
            "border": null,
            "align_items": null,
            "bottom": null,
            "_model_module": "@jupyter-widgets/base",
            "top": null,
            "grid_column": null,
            "overflow_y": null,
            "overflow_x": null,
            "grid_auto_flow": null,
            "grid_area": null,
            "grid_template_columns": null,
            "flex": null,
            "_model_name": "LayoutModel",
            "justify_items": null,
            "grid_row": null,
            "max_height": null,
            "align_content": null,
            "visibility": null,
            "align_self": null,
            "height": null,
            "min_height": null,
            "padding": null,
            "grid_auto_rows": null,
            "grid_gap": null,
            "max_width": null,
            "order": null,
            "_view_module_version": "1.2.0",
            "grid_template_areas": null,
            "object_position": null,
            "object_fit": null,
            "grid_auto_columns": null,
            "margin": null,
            "display": null,
            "left": null
          }
        },
        "7f4b5bb089d7425b878197bbfed2821f": {
          "model_module": "@jupyter-widgets/controls",
          "model_name": "DescriptionStyleModel",
          "state": {
            "_view_name": "StyleView",
            "_model_name": "DescriptionStyleModel",
            "description_width": "",
            "_view_module": "@jupyter-widgets/base",
            "_model_module_version": "1.5.0",
            "_view_count": null,
            "_view_module_version": "1.2.0",
            "_model_module": "@jupyter-widgets/controls"
          }
        },
        "6360dec424354dde8e17bbc5980159a2": {
          "model_module": "@jupyter-widgets/base",
          "model_name": "LayoutModel",
          "state": {
            "_view_name": "LayoutView",
            "grid_template_rows": null,
            "right": null,
            "justify_content": null,
            "_view_module": "@jupyter-widgets/base",
            "overflow": null,
            "_model_module_version": "1.2.0",
            "_view_count": null,
            "flex_flow": null,
            "width": null,
            "min_width": null,
            "border": null,
            "align_items": null,
            "bottom": null,
            "_model_module": "@jupyter-widgets/base",
            "top": null,
            "grid_column": null,
            "overflow_y": null,
            "overflow_x": null,
            "grid_auto_flow": null,
            "grid_area": null,
            "grid_template_columns": null,
            "flex": null,
            "_model_name": "LayoutModel",
            "justify_items": null,
            "grid_row": null,
            "max_height": null,
            "align_content": null,
            "visibility": null,
            "align_self": null,
            "height": null,
            "min_height": null,
            "padding": null,
            "grid_auto_rows": null,
            "grid_gap": null,
            "max_width": null,
            "order": null,
            "_view_module_version": "1.2.0",
            "grid_template_areas": null,
            "object_position": null,
            "object_fit": null,
            "grid_auto_columns": null,
            "margin": null,
            "display": null,
            "left": null
          }
        }
      }
    }
  },
  "cells": [
    {
      "cell_type": "markdown",
      "metadata": {
        "id": "0VK70azCgVi6"
      },
      "source": [
        "# ***Pruebas de BERT en castellano, rellenando huecos***"
      ]
    },
    {
      "cell_type": "code",
      "metadata": {
        "id": "CzpNjefhgDva",
        "outputId": "98a5a2c6-4d63-4001-92bc-c1926b6f7ff2",
        "colab": {
          "base_uri": "https://localhost:8080/"
        }
      },
      "source": [
        "!pip3 install transformers"
      ],
      "execution_count": 1,
      "outputs": [
        {
          "output_type": "stream",
          "text": [
            "Collecting transformers\n",
            "\u001b[?25l  Downloading https://files.pythonhosted.org/packages/2c/4e/4f1ede0fd7a36278844a277f8d53c21f88f37f3754abf76a5d6224f76d4a/transformers-3.4.0-py3-none-any.whl (1.3MB)\n",
            "\u001b[K     |████████████████████████████████| 1.3MB 2.7MB/s \n",
            "\u001b[?25hCollecting sacremoses\n",
            "\u001b[?25l  Downloading https://files.pythonhosted.org/packages/7d/34/09d19aff26edcc8eb2a01bed8e98f13a1537005d31e95233fd48216eed10/sacremoses-0.0.43.tar.gz (883kB)\n",
            "\u001b[K     |████████████████████████████████| 890kB 17.3MB/s \n",
            "\u001b[?25hCollecting sentencepiece!=0.1.92\n",
            "\u001b[?25l  Downloading https://files.pythonhosted.org/packages/e5/2d/6d4ca4bef9a67070fa1cac508606328329152b1df10bdf31fb6e4e727894/sentencepiece-0.1.94-cp36-cp36m-manylinux2014_x86_64.whl (1.1MB)\n",
            "\u001b[K     |████████████████████████████████| 1.1MB 17.0MB/s \n",
            "\u001b[?25hRequirement already satisfied: tqdm>=4.27 in /usr/local/lib/python3.6/dist-packages (from transformers) (4.41.1)\n",
            "Requirement already satisfied: regex!=2019.12.17 in /usr/local/lib/python3.6/dist-packages (from transformers) (2019.12.20)\n",
            "Requirement already satisfied: dataclasses; python_version < \"3.7\" in /usr/local/lib/python3.6/dist-packages (from transformers) (0.7)\n",
            "Requirement already satisfied: packaging in /usr/local/lib/python3.6/dist-packages (from transformers) (20.4)\n",
            "Requirement already satisfied: protobuf in /usr/local/lib/python3.6/dist-packages (from transformers) (3.12.4)\n",
            "Collecting tokenizers==0.9.2\n",
            "\u001b[?25l  Downloading https://files.pythonhosted.org/packages/7c/a5/78be1a55b2ac8d6a956f0a211d372726e2b1dd2666bb537fea9b03abd62c/tokenizers-0.9.2-cp36-cp36m-manylinux1_x86_64.whl (2.9MB)\n",
            "\u001b[K     |████████████████████████████████| 2.9MB 33.0MB/s \n",
            "\u001b[?25hRequirement already satisfied: requests in /usr/local/lib/python3.6/dist-packages (from transformers) (2.23.0)\n",
            "Requirement already satisfied: filelock in /usr/local/lib/python3.6/dist-packages (from transformers) (3.0.12)\n",
            "Requirement already satisfied: numpy in /usr/local/lib/python3.6/dist-packages (from transformers) (1.18.5)\n",
            "Requirement already satisfied: six in /usr/local/lib/python3.6/dist-packages (from sacremoses->transformers) (1.15.0)\n",
            "Requirement already satisfied: click in /usr/local/lib/python3.6/dist-packages (from sacremoses->transformers) (7.1.2)\n",
            "Requirement already satisfied: joblib in /usr/local/lib/python3.6/dist-packages (from sacremoses->transformers) (0.17.0)\n",
            "Requirement already satisfied: pyparsing>=2.0.2 in /usr/local/lib/python3.6/dist-packages (from packaging->transformers) (2.4.7)\n",
            "Requirement already satisfied: setuptools in /usr/local/lib/python3.6/dist-packages (from protobuf->transformers) (50.3.2)\n",
            "Requirement already satisfied: idna<3,>=2.5 in /usr/local/lib/python3.6/dist-packages (from requests->transformers) (2.10)\n",
            "Requirement already satisfied: certifi>=2017.4.17 in /usr/local/lib/python3.6/dist-packages (from requests->transformers) (2020.6.20)\n",
            "Requirement already satisfied: urllib3!=1.25.0,!=1.25.1,<1.26,>=1.21.1 in /usr/local/lib/python3.6/dist-packages (from requests->transformers) (1.24.3)\n",
            "Requirement already satisfied: chardet<4,>=3.0.2 in /usr/local/lib/python3.6/dist-packages (from requests->transformers) (3.0.4)\n",
            "Building wheels for collected packages: sacremoses\n",
            "  Building wheel for sacremoses (setup.py) ... \u001b[?25l\u001b[?25hdone\n",
            "  Created wheel for sacremoses: filename=sacremoses-0.0.43-cp36-none-any.whl size=893257 sha256=012dbb523600f86ab0ab5a7545e7248f61ab514ab6ffdd179b1e1619d85d8cf9\n",
            "  Stored in directory: /root/.cache/pip/wheels/29/3c/fd/7ce5c3f0666dab31a50123635e6fb5e19ceb42ce38d4e58f45\n",
            "Successfully built sacremoses\n",
            "Installing collected packages: sacremoses, sentencepiece, tokenizers, transformers\n",
            "Successfully installed sacremoses-0.0.43 sentencepiece-0.1.94 tokenizers-0.9.2 transformers-3.4.0\n"
          ],
          "name": "stdout"
        }
      ]
    },
    {
      "cell_type": "markdown",
      "metadata": {
        "id": "2fJSiVdFb2Ha"
      },
      "source": [
        "Importamos el objeto *pipeline* de la biblioteca."
      ]
    },
    {
      "cell_type": "code",
      "metadata": {
        "id": "sA7TYRtUfiWW"
      },
      "source": [
        "from transformers import pipeline"
      ],
      "execution_count": 2,
      "outputs": []
    },
    {
      "cell_type": "markdown",
      "metadata": {
        "id": "FgAh3fSNoWqe"
      },
      "source": [
        "Obtenemos un objeto *pipeline* del modelo."
      ]
    },
    {
      "cell_type": "code",
      "metadata": {
        "id": "cY0GKUZrktt3",
        "outputId": "52887935-3a42-4c2b-8593-ac165124b4a1",
        "colab": {
          "base_uri": "https://localhost:8080/",
          "height": 313,
          "referenced_widgets": [
            "7de4ab2480c6471b994c936d22a8f205",
            "8d7b9fc6781c45689c45d5c747701918",
            "cf4663dcb1644f41a7061af5d4a91eed",
            "62093f9ba64448beb090c5ad79b6bf06",
            "5f20a5fccdce4f6f98ae2fc4887378ba",
            "77ea2f14b0db4251aab49b44395f1e0c",
            "41dd7b5d740e4596a5b60b3119a9196d",
            "eea1230ae2474bedb5fe1f84a1d6c992",
            "18a015f050c24eeca7718e609772d147",
            "0cd62d3ff9024b18b09ba4499dfa5f43",
            "917b461b3bee4906903a65ad58a122fa",
            "4a542ad2f75c4fedb849fd9bf50935ae",
            "275f5ef9b0fb45468c0af707e9446fb4",
            "07857bd27028446b87f1fcc58397a7f3",
            "4ef0c2aa49ba45aaa3d6aefe8e90b18f",
            "ede8502728ec43baaf60f8197a0b8791",
            "88f100baf0c54e39a4b03c16f841b24c",
            "d80cafc4c2764f5baaa2cd5a787bc186",
            "908bcd868d524814a66f934ca3e4c767",
            "380dee4231f8491b92344f8a5facee49",
            "4e4b6dee067249fb8cb5e4c656131b28",
            "061b12c3008b40d8a2acd40de881de86",
            "5195b1caf9734cdaa5ad31be2668e019",
            "29ad3c6436b348ac84f4de96b7cac366",
            "5a0c960736eb48c3bb7af368743de5e3",
            "c6bdca822aff4d0091db7804de4b2eea",
            "67b2a4f84c4b46d6a2a23b8ef511fdff",
            "33df8f9769d94b2c9f3b3a743ad4c785",
            "28ec9230a1244686be4ae5e9ef2d32e4",
            "9c2f200604d548c888bbbc85a3edf0b5",
            "8f007586b33b4946ab2ea426251b7e7b",
            "8968490ce72f4abea22bc1dc36744e2f",
            "5a3413e444af41f384582e4706993c66",
            "db31c14ca1314f9ebdba78eeec6b505a",
            "0a2e6ad4f17749f1aae11b888b14e76f",
            "f207a48850404af4a058e538954dca61",
            "ae1ef2a851d840a58a6ca56348e1af96",
            "2cda63e7e28642d58be7d825b8833e85",
            "268c917ab2414eaca3343b8bdbc841a3",
            "f3252f6e13de45b0837b5db137e94d7f",
            "5c729123914a496ca732d002e965cdbe",
            "c435a24390a248148d40df1ecea52ae7",
            "91c5a714834a496fa0c694c561c87db8",
            "d13900fc55d04e77a9257a2b35574ca8",
            "0a290c9b29d842908370fc84c69b7019",
            "7c80c522a4114bd49a1894c9376879b1",
            "7f4b5bb089d7425b878197bbfed2821f",
            "6360dec424354dde8e17bbc5980159a2"
          ]
        }
      },
      "source": [
        "bert_castellano = pipeline(\"fill-mask\", model=\"dccuchile/bert-base-spanish-wwm-cased\")"
      ],
      "execution_count": 3,
      "outputs": [
        {
          "output_type": "display_data",
          "data": {
            "application/vnd.jupyter.widget-view+json": {
              "model_id": "7de4ab2480c6471b994c936d22a8f205",
              "version_minor": 0,
              "version_major": 2
            },
            "text/plain": [
              "HBox(children=(FloatProgress(value=0.0, description='Downloading', max=456.0, style=ProgressStyle(description_…"
            ]
          },
          "metadata": {
            "tags": []
          }
        },
        {
          "output_type": "stream",
          "text": [
            "\n"
          ],
          "name": "stdout"
        },
        {
          "output_type": "display_data",
          "data": {
            "application/vnd.jupyter.widget-view+json": {
              "model_id": "18a015f050c24eeca7718e609772d147",
              "version_minor": 0,
              "version_major": 2
            },
            "text/plain": [
              "HBox(children=(FloatProgress(value=0.0, description='Downloading', max=441944381.0, style=ProgressStyle(descri…"
            ]
          },
          "metadata": {
            "tags": []
          }
        },
        {
          "output_type": "stream",
          "text": [
            "\n"
          ],
          "name": "stdout"
        },
        {
          "output_type": "display_data",
          "data": {
            "application/vnd.jupyter.widget-view+json": {
              "model_id": "88f100baf0c54e39a4b03c16f841b24c",
              "version_minor": 0,
              "version_major": 2
            },
            "text/plain": [
              "HBox(children=(FloatProgress(value=0.0, description='Downloading', max=242120.0, style=ProgressStyle(descripti…"
            ]
          },
          "metadata": {
            "tags": []
          }
        },
        {
          "output_type": "stream",
          "text": [
            "\n"
          ],
          "name": "stdout"
        },
        {
          "output_type": "display_data",
          "data": {
            "application/vnd.jupyter.widget-view+json": {
              "model_id": "5a0c960736eb48c3bb7af368743de5e3",
              "version_minor": 0,
              "version_major": 2
            },
            "text/plain": [
              "HBox(children=(FloatProgress(value=0.0, description='Downloading', max=2.0, style=ProgressStyle(description_wi…"
            ]
          },
          "metadata": {
            "tags": []
          }
        },
        {
          "output_type": "stream",
          "text": [
            "\n"
          ],
          "name": "stdout"
        },
        {
          "output_type": "display_data",
          "data": {
            "application/vnd.jupyter.widget-view+json": {
              "model_id": "5a3413e444af41f384582e4706993c66",
              "version_minor": 0,
              "version_major": 2
            },
            "text/plain": [
              "HBox(children=(FloatProgress(value=0.0, description='Downloading', max=112.0, style=ProgressStyle(description_…"
            ]
          },
          "metadata": {
            "tags": []
          }
        },
        {
          "output_type": "stream",
          "text": [
            "\n"
          ],
          "name": "stdout"
        },
        {
          "output_type": "display_data",
          "data": {
            "application/vnd.jupyter.widget-view+json": {
              "model_id": "5c729123914a496ca732d002e965cdbe",
              "version_minor": 0,
              "version_major": 2
            },
            "text/plain": [
              "HBox(children=(FloatProgress(value=0.0, description='Downloading', max=43.0, style=ProgressStyle(description_w…"
            ]
          },
          "metadata": {
            "tags": []
          }
        },
        {
          "output_type": "stream",
          "text": [
            "\n"
          ],
          "name": "stdout"
        }
      ]
    },
    {
      "cell_type": "markdown",
      "metadata": {
        "id": "D7X5ydCIoSYO"
      },
      "source": [
        "Función para imprimir por pantalla las frases resultantes"
      ]
    },
    {
      "cell_type": "code",
      "metadata": {
        "id": "uMkcaLrHTb-o"
      },
      "source": [
        "def imprimir_frases(opciones, posicion, score = True):\n",
        "  for opcion in opciones:\n",
        "    frase = opcion['sequence']\n",
        "    palabra = opcion['token_str']\n",
        "    # Resaltamos la palabra proporcionada por el modelo.\n",
        "    frase = frase[:posicion]+ \"\\033[1;34m\" + frase[posicion:posicion+len(palabra)] + '\\033[' + frase[posicion+len(palabra):]\n",
        "    if score:\n",
        "      frase = frase + '\\t\\t' + str(opcion['score'])\n",
        "    print(frase)"
      ],
      "execution_count": 4,
      "outputs": []
    },
    {
      "cell_type": "markdown",
      "metadata": {
        "id": "UoxAwCMawnFN"
      },
      "source": [
        "Función que llama al modelo y obtiene los resultados que proporciona dicho modelo."
      ]
    },
    {
      "cell_type": "code",
      "metadata": {
        "id": "jsh-xyzi3hPx"
      },
      "source": [
        "def completar_hueco(frase, token='[MASK]'):\n",
        "  # busca el separador\n",
        "  pos = frase.find(token)\n",
        "  # aplica el modelo y devuelve las 5 opciones más probables y la posición donde se encuentra la palabra\n",
        "  return bert_castellano(f\"{frase[:pos]} {bert_castellano.tokenizer.mask_token} {frase[pos+len(token):]}\"), pos+6\n"
      ],
      "execution_count": 5,
      "outputs": []
    },
    {
      "cell_type": "markdown",
      "metadata": {
        "id": "iB2yVjUqogDM"
      },
      "source": [
        "### **EJEMPLOS**\n"
      ]
    },
    {
      "cell_type": "code",
      "metadata": {
        "id": "9TWte9dZ4-d_",
        "outputId": "e28012c0-39d3-4a3a-dbd5-b5d435d7bfb4",
        "colab": {
          "base_uri": "https://localhost:8080/"
        }
      },
      "source": [
        "frase = 'HuggingFace es una [MASK] que la comunidad usa para resolver tareas de NLP.'\n",
        "opciones, pos = completar_hueco(frase)\n",
        "imprimir_frases(opciones, pos)"
      ],
      "execution_count": null,
      "outputs": [
        {
          "output_type": "stream",
          "text": [
            "[CLS] HuggingFace es una \u001b[1;34mherramienta\u001b[ que la comunidad usa para resolver tareas de NLP. [SEP]\t\t0.37518930435180664\n",
            "[CLS] HuggingFace es una \u001b[1;34maplicación\u001b[ que la comunidad usa para resolver tareas de NLP. [SEP]\t\t0.2434827834367752\n",
            "[CLS] HuggingFace es una \u001b[1;34mfunción\u001b[ que la comunidad usa para resolver tareas de NLP. [SEP]\t\t0.062380142509937286\n",
            "[CLS] HuggingFace es una \u001b[1;34minterfaz\u001b[ que la comunidad usa para resolver tareas de NLP. [SEP]\t\t0.0456741638481617\n",
            "[CLS] HuggingFace es una \u001b[1;34mutilidad\u001b[ que la comunidad usa para resolver tareas de NLP. [SEP]\t\t0.029018675908446312\n"
          ],
          "name": "stdout"
        }
      ]
    },
    {
      "cell_type": "code",
      "metadata": {
        "id": "ZG8hgjBzI9gT",
        "outputId": "84bf21fe-8dca-4849-fda3-2c67d0d1987d",
        "colab": {
          "base_uri": "https://localhost:8080/"
        }
      },
      "source": [
        "frase = 'El coronavirus es un virus que ha [MASK] a muchas personas.'\n",
        "opciones, pos = completar_hueco(frase)\n",
        "imprimir_frases(opciones, pos)"
      ],
      "execution_count": null,
      "outputs": [
        {
          "output_type": "stream",
          "text": [
            "[CLS] El coronavirus es un virus que ha \u001b[1;34mafectado\u001b[ a muchas personas. [SEP]\t\t0.5722662806510925\n",
            "[CLS] El coronavirus es un virus que ha \u001b[1;34mmatado\u001b[ a muchas personas. [SEP]\t\t0.31099340319633484\n",
            "[CLS] El coronavirus es un virus que ha \u001b[1;34mconfundido\u001b[ a muchas personas. [SEP]\t\t0.01844511367380619\n",
            "[CLS] El coronavirus es un virus que ha \u001b[1;34msorprendido\u001b[ a muchas personas. [SEP]\t\t0.013861918821930885\n",
            "[CLS] El coronavirus es un virus que ha \u001b[1;34matacado\u001b[ a muchas personas. [SEP]\t\t0.008147921413183212\n"
          ],
          "name": "stdout"
        }
      ]
    },
    {
      "cell_type": "code",
      "metadata": {
        "id": "3659BTqfJEel",
        "outputId": "e8b2bc0b-60f5-4aa5-d2a0-b93a1494ff70",
        "colab": {
          "base_uri": "https://localhost:8080/"
        }
      },
      "source": [
        "frase = 'El boxeo es un deporte que [MASK] a la violencia.'\n",
        "opciones, pos = completar_hueco(frase)\n",
        "imprimir_frases(opciones, pos)"
      ],
      "execution_count": null,
      "outputs": [
        {
          "output_type": "stream",
          "text": [
            "[CLS] El boxeo es un deporte que \u001b[1;34mcombate\u001b[ a la violencia. [SEP]\t\t0.37228283286094666\n",
            "[CLS] El boxeo es un deporte que \u001b[1;34mtiende\u001b[ a la violencia. [SEP]\t\t0.06276093423366547\n",
            "[CLS] El boxeo es un deporte que \u001b[1;34mrenuncia\u001b[ a la violencia. [SEP]\t\t0.05340616777539253\n",
            "[CLS] El boxeo es un deporte que \u001b[1;34mteme\u001b[ a la violencia. [SEP]\t\t0.04595981165766716\n",
            "[CLS] El boxeo es un deporte que \u001b[1;34menfrenta\u001b[ a la violencia. [SEP]\t\t0.0311359204351902\n"
          ],
          "name": "stdout"
        }
      ]
    },
    {
      "cell_type": "code",
      "metadata": {
        "id": "NFij2BfXJLbU",
        "outputId": "243b21b3-eb6e-470c-b8a2-a7653a9a1379",
        "colab": {
          "base_uri": "https://localhost:8080/"
        }
      },
      "source": [
        "frase = 'Alberto se ha [MASK] mucho para hacer su TFG.'\n",
        "opciones, pos = completar_hueco(frase)\n",
        "imprimir_frases(opciones, pos)"
      ],
      "execution_count": null,
      "outputs": [
        {
          "output_type": "stream",
          "text": [
            "[CLS] Alberto se ha \u001b[1;34madelantado\u001b[ mucho para hacer su TFG. [SEP]\t\t0.08817257732152939\n",
            "[CLS] Alberto se ha \u001b[1;34marriesgado\u001b[ mucho para hacer su TFG. [SEP]\t\t0.061285991221666336\n",
            "[CLS] Alberto se ha \u001b[1;34mdedicado\u001b[ mucho para hacer su TFG. [SEP]\t\t0.06097095459699631\n",
            "[CLS] Alberto se ha \u001b[1;34mtrabajado\u001b[ mucho para hacer su TFG. [SEP]\t\t0.04605424404144287\n",
            "[CLS] Alberto se ha \u001b[1;34mretrasado\u001b[ mucho para hacer su TFG. [SEP]\t\t0.04368777945637703\n"
          ],
          "name": "stdout"
        }
      ]
    },
    {
      "cell_type": "code",
      "metadata": {
        "id": "WbSVi9Zy6I-D",
        "outputId": "7732e16e-e544-42ed-91e7-f0c0d2175907",
        "colab": {
          "base_uri": "https://localhost:8080/"
        }
      },
      "source": [
        "frase = 'Dos más tres es [MASK].'\n",
        "opciones, pos = completar_hueco(frase)\n",
        "imprimir_frases(opciones, pos)"
      ],
      "execution_count": 6,
      "outputs": [
        {
          "output_type": "stream",
          "text": [
            "[CLS] Dos más tres es \u001b[1;34msuficiente\u001b[. [SEP]\t\t0.2044137567281723\n",
            "[CLS] Dos más tres es \u001b[1;34muno\u001b[. [SEP]\t\t0.05467081442475319\n",
            "[CLS] Dos más tres es \u001b[1;34mmejor\u001b[. [SEP]\t\t0.04443129152059555\n",
            "[CLS] Dos más tres es \u001b[1;34mtres\u001b[. [SEP]\t\t0.029766131192445755\n",
            "[CLS] Dos más tres es \u001b[1;34mcuatro\u001b[. [SEP]\t\t0.02326328493654728\n"
          ],
          "name": "stdout"
        }
      ]
    },
    {
      "cell_type": "code",
      "metadata": {
        "id": "wLRZqanSJTW6",
        "outputId": "3a44e4ce-b446-45c7-c22c-bc6bd701f2b1",
        "colab": {
          "base_uri": "https://localhost:8080/"
        }
      },
      "source": [
        "frase = 'Cuatro más dos es [MASK].'\n",
        "opciones, pos = completar_hueco(frase)\n",
        "imprimir_frases(opciones, pos)"
      ],
      "execution_count": 7,
      "outputs": [
        {
          "output_type": "stream",
          "text": [
            "[CLS] Cuatro más dos es \u001b[1;34msuficiente\u001b[. [SEP]\t\t0.07357876002788544\n",
            "[CLS] Cuatro más dos es \u001b[1;34muno\u001b[. [SEP]\t\t0.04811865836381912\n",
            "[CLS] Cuatro más dos es \u001b[1;34m[UNK]\u001b[. [SEP]\t\t0.03646773099899292\n",
            "[CLS] Cuatro más dos es \u001b[1;34mcuatro\u001b[. [SEP]\t\t0.026447726413607597\n",
            "[CLS] Cuatro más dos es \u001b[1;34mmejor\u001b[. [SEP]\t\t0.02524438500404358\n"
          ],
          "name": "stdout"
        }
      ]
    },
    {
      "cell_type": "code",
      "metadata": {
        "id": "T6167Zn0JWvP",
        "outputId": "7f1d48e1-d28b-46c9-9502-560212135fe1",
        "colab": {
          "base_uri": "https://localhost:8080/"
        }
      },
      "source": [
        "frase = 'Si dos más tres es cinco, cuatro más dos es [MASK].'\n",
        "opciones, pos = completar_hueco(frase)\n",
        "imprimir_frases(opciones, pos)"
      ],
      "execution_count": 8,
      "outputs": [
        {
          "output_type": "stream",
          "text": [
            "[CLS] Si dos más tres es cinco, cuatro más dos es \u001b[1;34mseis\u001b[. [SEP]\t\t0.2980819046497345\n",
            "[CLS] Si dos más tres es cinco, cuatro más dos es \u001b[1;34mcuatro\u001b[. [SEP]\t\t0.17653612792491913\n",
            "[CLS] Si dos más tres es cinco, cuatro más dos es \u001b[1;34msiete\u001b[. [SEP]\t\t0.07769526541233063\n",
            "[CLS] Si dos más tres es cinco, cuatro más dos es \u001b[1;34mcinco\u001b[. [SEP]\t\t0.07165607064962387\n",
            "[CLS] Si dos más tres es cinco, cuatro más dos es \u001b[1;34mdiez\u001b[. [SEP]\t\t0.06439075618982315\n"
          ],
          "name": "stdout"
        }
      ]
    },
    {
      "cell_type": "code",
      "metadata": {
        "id": "4qj77It_JcxP",
        "outputId": "2a1686a8-b9e1-4c90-c155-2c8d5f824ed1",
        "colab": {
          "base_uri": "https://localhost:8080/"
        }
      },
      "source": [
        "frase = 'Si uno más uno es dos y uno más dos es tres, uno más tres es [MASK].'\n",
        "opciones, pos = completar_hueco(frase)\n",
        "imprimir_frases(opciones, pos)"
      ],
      "execution_count": 9,
      "outputs": [
        {
          "output_type": "stream",
          "text": [
            "[CLS] Si uno más uno es dos y uno más dos es tres, uno más tres es \u001b[1;34mcuatro\u001b[. [SEP]\t\t0.31593456864356995\n",
            "[CLS] Si uno más uno es dos y uno más dos es tres, uno más tres es \u001b[1;34muno\u001b[. [SEP]\t\t0.2552272379398346\n",
            "[CLS] Si uno más uno es dos y uno más dos es tres, uno más tres es \u001b[1;34mdos\u001b[. [SEP]\t\t0.07953504472970963\n",
            "[CLS] Si uno más uno es dos y uno más dos es tres, uno más tres es \u001b[1;34mtres\u001b[. [SEP]\t\t0.050008516758680344\n",
            "[CLS] Si uno más uno es dos y uno más dos es tres, uno más tres es \u001b[1;34mcinco\u001b[. [SEP]\t\t0.04675833880901337\n"
          ],
          "name": "stdout"
        }
      ]
    },
    {
      "cell_type": "code",
      "metadata": {
        "id": "CRaI2rV5UhEr",
        "outputId": "36a1c3ae-93b4-4e7a-83ae-91a453342e15",
        "colab": {
          "base_uri": "https://localhost:8080/"
        }
      },
      "source": [
        "frase = 'Si dos por tres es seis entonces cinco por dos es [MASK].'\n",
        "opciones, pos = completar_hueco(frase)\n",
        "imprimir_frases(opciones, pos)"
      ],
      "execution_count": null,
      "outputs": [
        {
          "output_type": "stream",
          "text": [
            "[CLS] Si dos por tres es seis entonces cinco por dos es \u001b[1;34mseis\u001b[. [SEP]\t\t0.18176451325416565\n",
            "[CLS] Si dos por tres es seis entonces cinco por dos es \u001b[1;34msiete\u001b[. [SEP]\t\t0.1644815355539322\n",
            "[CLS] Si dos por tres es seis entonces cinco por dos es \u001b[1;34mcinco\u001b[. [SEP]\t\t0.11985623091459274\n",
            "[CLS] Si dos por tres es seis entonces cinco por dos es \u001b[1;34mocho\u001b[. [SEP]\t\t0.06906145066022873\n",
            "[CLS] Si dos por tres es seis entonces cinco por dos es \u001b[1;34mcuatro\u001b[. [SEP]\t\t0.06261702626943588\n"
          ],
          "name": "stdout"
        }
      ]
    },
    {
      "cell_type": "code",
      "metadata": {
        "id": "OnQH8RkzUq8-",
        "outputId": "83136962-330b-4ab2-c9f4-31e6536d30cc",
        "colab": {
          "base_uri": "https://localhost:8080/"
        }
      },
      "source": [
        "frase = 'Si Antonio es mi abuelo, yo soy el [MASK] de Antonio.'\n",
        "opciones, pos = completar_hueco(frase)\n",
        "imprimir_frases(opciones, pos)"
      ],
      "execution_count": null,
      "outputs": [
        {
          "output_type": "stream",
          "text": [
            "[CLS] Si Antonio es mi abuelo, yo soy el \u001b[1;34mabuelo\u001b[ de Antonio. [SEP]\t\t0.44327041506767273\n",
            "[CLS] Si Antonio es mi abuelo, yo soy el \u001b[1;34mpadre\u001b[ de Antonio. [SEP]\t\t0.2634488344192505\n",
            "[CLS] Si Antonio es mi abuelo, yo soy el \u001b[1;34mnieto\u001b[ de Antonio. [SEP]\t\t0.1006607711315155\n",
            "[CLS] Si Antonio es mi abuelo, yo soy el \u001b[1;34mtío\u001b[ de Antonio. [SEP]\t\t0.07245755195617676\n",
            "[CLS] Si Antonio es mi abuelo, yo soy el \u001b[1;34mhijo\u001b[ de Antonio. [SEP]\t\t0.0453496053814888\n"
          ],
          "name": "stdout"
        }
      ]
    },
    {
      "cell_type": "code",
      "metadata": {
        "id": "kv56Dh_32wzb",
        "outputId": "48b21dce-69f8-4c11-ae41-8c6a9baf71bb",
        "colab": {
          "base_uri": "https://localhost:8080/"
        }
      },
      "source": [
        "frase = 'Antonio es mi padre, por lo que yo soy el [MASK] de Antonio.'\n",
        "opciones, pos = completar_hueco(frase)\n",
        "imprimir_frases(opciones, pos)"
      ],
      "execution_count": null,
      "outputs": [
        {
          "output_type": "stream",
          "text": [
            "[CLS] Antonio es mi padre, por lo que yo soy el \u001b[1;34mpadre\u001b[ de Antonio. [SEP]\t\t0.6495881080627441\n",
            "[CLS] Antonio es mi padre, por lo que yo soy el \u001b[1;34mhijo\u001b[ de Antonio. [SEP]\t\t0.15087935328483582\n",
            "[CLS] Antonio es mi padre, por lo que yo soy el \u001b[1;34mhermano\u001b[ de Antonio. [SEP]\t\t0.08916997909545898\n",
            "[CLS] Antonio es mi padre, por lo que yo soy el \u001b[1;34mtío\u001b[ de Antonio. [SEP]\t\t0.015297331847250462\n",
            "[CLS] Antonio es mi padre, por lo que yo soy el \u001b[1;34mabuelo\u001b[ de Antonio. [SEP]\t\t0.014487573876976967\n"
          ],
          "name": "stdout"
        }
      ]
    }
  ]
}