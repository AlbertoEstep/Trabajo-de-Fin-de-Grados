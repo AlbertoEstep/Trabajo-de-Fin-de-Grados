{
  "nbformat": 4,
  "nbformat_minor": 0,
  "metadata": {
    "colab": {
      "name": "MaskBertCastellano.ipynb",
      "provenance": [],
      "collapsed_sections": []
    },
    "kernelspec": {
      "name": "python3",
      "display_name": "Python 3"
    }
  },
  "cells": [
    {
      "cell_type": "markdown",
      "metadata": {
        "id": "0VK70azCgVi6"
      },
      "source": [
        "# ***Pruebas de BERT en castellano, rellenando huecos***"
      ]
    },
    {
      "cell_type": "markdown",
      "metadata": {
        "id": "GCh8prjxziL6"
      },
      "source": [
        "Instalamos la librería *transformers*"
      ]
    },
    {
      "cell_type": "code",
      "metadata": {
        "id": "CzpNjefhgDva"
      },
      "source": [
        "!pip3 install transformers"
      ],
      "execution_count": null,
      "outputs": []
    },
    {
      "cell_type": "markdown",
      "metadata": {
        "id": "2fJSiVdFb2Ha"
      },
      "source": [
        "Importamos el objeto *pipeline* de la biblioteca."
      ]
    },
    {
      "cell_type": "code",
      "metadata": {
        "id": "sA7TYRtUfiWW"
      },
      "source": [
        "from transformers import pipeline"
      ],
      "execution_count": null,
      "outputs": []
    },
    {
      "cell_type": "markdown",
      "metadata": {
        "id": "FgAh3fSNoWqe"
      },
      "source": [
        "Obtenemos un objeto *pipeline* del modelo."
      ]
    },
    {
      "cell_type": "code",
      "metadata": {
        "id": "cY0GKUZrktt3"
      },
      "source": [
        "bert_castellano = pipeline(\"fill-mask\", model=\"dccuchile/bert-base-spanish-wwm-cased\")"
      ],
      "execution_count": null,
      "outputs": []
    },
    {
      "cell_type": "markdown",
      "metadata": {
        "id": "D7X5ydCIoSYO"
      },
      "source": [
        "Función para imprimir por pantalla las frases resultantes"
      ]
    },
    {
      "cell_type": "code",
      "metadata": {
        "id": "uMkcaLrHTb-o"
      },
      "source": [
        "def imprimir_frases(opciones, posicion, score = True):\n",
        "  for opcion in opciones:\n",
        "    frase = opcion['sequence']\n",
        "    palabra = opcion['token_str']\n",
        "    # Resaltamos la palabra proporcionada por el modelo.\n",
        "    frase = frase[:posicion]+ \"\\033[1;34m\" + frase[posicion:posicion+len(palabra)] + '\\033[' + frase[posicion+len(palabra):]\n",
        "    if score:\n",
        "      frase = frase + '\\t\\t' + str(opcion['score'])\n",
        "    print(frase)"
      ],
      "execution_count": null,
      "outputs": []
    },
    {
      "cell_type": "markdown",
      "metadata": {
        "id": "UoxAwCMawnFN"
      },
      "source": [
        "Función que llama al modelo y obtiene los resultados que proporciona dicho modelo."
      ]
    },
    {
      "cell_type": "code",
      "metadata": {
        "id": "jsh-xyzi3hPx"
      },
      "source": [
        "def completar_hueco(frase, token='[MASK]'):\n",
        "  # busca el separador\n",
        "  pos = frase.find(token)\n",
        "  # aplica el modelo y devuelve las 5 opciones más probables y la posición donde se encuentra la palabra\n",
        "  return bert_castellano(f\"{frase[:pos]} {bert_castellano.tokenizer.mask_token} {frase[pos+len(token):]}\"), pos+6\n"
      ],
      "execution_count": null,
      "outputs": []
    },
    {
      "cell_type": "markdown",
      "metadata": {
        "id": "iB2yVjUqogDM"
      },
      "source": [
        "### **EJEMPLOS**\n"
      ]
    },
    {
      "cell_type": "code",
      "metadata": {
        "id": "9TWte9dZ4-d_"
      },
      "source": [
        "frase = 'HuggingFace es una [MASK] que la comunidad usa para resolver tareas de NLP.'\n",
        "opciones, pos = completar_hueco(frase)\n",
        "imprimir_frases(opciones, pos)"
      ],
      "execution_count": null,
      "outputs": []
    },
    {
      "cell_type": "code",
      "metadata": {
        "id": "ZG8hgjBzI9gT"
      },
      "source": [
        "frase = 'El coronavirus es un virus que ha [MASK] a muchas personas.'\n",
        "opciones, pos = completar_hueco(frase)\n",
        "imprimir_frases(opciones, pos)"
      ],
      "execution_count": null,
      "outputs": []
    },
    {
      "cell_type": "code",
      "metadata": {
        "id": "3659BTqfJEel"
      },
      "source": [
        "frase = 'El boxeo es un deporte que [MASK] a la violencia.'\n",
        "opciones, pos = completar_hueco(frase)\n",
        "imprimir_frases(opciones, pos)"
      ],
      "execution_count": null,
      "outputs": []
    },
    {
      "cell_type": "code",
      "metadata": {
        "id": "NFij2BfXJLbU"
      },
      "source": [
        "frase = 'Alberto se ha [MASK] mucho para hacer su TFG.'\n",
        "opciones, pos = completar_hueco(frase)\n",
        "imprimir_frases(opciones, pos)"
      ],
      "execution_count": null,
      "outputs": []
    },
    {
      "cell_type": "code",
      "metadata": {
        "id": "WbSVi9Zy6I-D"
      },
      "source": [
        "frase = 'Dos más tres es [MASK].'\n",
        "opciones, pos = completar_hueco(frase)\n",
        "imprimir_frases(opciones, pos)"
      ],
      "execution_count": null,
      "outputs": []
    },
    {
      "cell_type": "code",
      "metadata": {
        "id": "wLRZqanSJTW6"
      },
      "source": [
        "frase = 'Cuatro más dos es [MASK].'\n",
        "opciones, pos = completar_hueco(frase)\n",
        "imprimir_frases(opciones, pos)"
      ],
      "execution_count": null,
      "outputs": []
    },
    {
      "cell_type": "code",
      "metadata": {
        "id": "T6167Zn0JWvP"
      },
      "source": [
        "frase = 'Si dos más tres es cinco, cuatro más dos es [MASK].'\n",
        "opciones, pos = completar_hueco(frase)\n",
        "imprimir_frases(opciones, pos)"
      ],
      "execution_count": null,
      "outputs": []
    },
    {
      "cell_type": "code",
      "metadata": {
        "id": "4qj77It_JcxP"
      },
      "source": [
        "frase = 'Si uno más uno es dos y uno más dos es tres, uno más tres es [MASK].'\n",
        "opciones, pos = completar_hueco(frase)\n",
        "imprimir_frases(opciones, pos)"
      ],
      "execution_count": null,
      "outputs": []
    },
    {
      "cell_type": "code",
      "metadata": {
        "id": "CRaI2rV5UhEr"
      },
      "source": [
        "frase = 'Si dos por tres es seis entonces cinco por dos es [MASK].'\n",
        "opciones, pos = completar_hueco(frase)\n",
        "imprimir_frases(opciones, pos)"
      ],
      "execution_count": null,
      "outputs": []
    },
    {
      "cell_type": "code",
      "metadata": {
        "id": "OnQH8RkzUq8-"
      },
      "source": [
        "frase = 'Si Antonio es mi abuelo, yo soy el [MASK] de Antonio.'\n",
        "opciones, pos = completar_hueco(frase)\n",
        "imprimir_frases(opciones, pos)"
      ],
      "execution_count": null,
      "outputs": []
    },
    {
      "cell_type": "code",
      "metadata": {
        "id": "kv56Dh_32wzb"
      },
      "source": [
        "frase = 'Antonio es mi padre, por lo que yo soy el [MASK] de Antonio.'\n",
        "opciones, pos = completar_hueco(frase)\n",
        "imprimir_frases(opciones, pos)"
      ],
      "execution_count": null,
      "outputs": []
    }
  ]
}